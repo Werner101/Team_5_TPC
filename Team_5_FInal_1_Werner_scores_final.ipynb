{
 "cells": [
  {
   "cell_type": "markdown",
   "metadata": {},
   "source": [
    "# Fraud Detection in Electricity and Gas Consumption"
   ]
  },
  {
   "cell_type": "markdown",
   "metadata": {},
   "source": [
    "The Tunisian Company of Electricity and Gas (STEG) is a public and a non-administrative company, it is responsible for delivering electricity and gas across Tunisia. The company suffered tremendous losses in the order of 200 million Tunisian Dinars due to fraudulent manipulations of meters by consumers.\n",
    "\n",
    "Using the client’s billing history, the aim of the challenge is to detect and recognize clients involved in fraudulent activities.\n",
    "\n",
    "The solution will enhance the company’s revenues and reduce the losses caused by such fraudulent activities."
   ]
  },
  {
   "cell_type": "markdown",
   "metadata": {},
   "source": [
    "# Team 5"
   ]
  },
  {
   "cell_type": "markdown",
   "metadata": {},
   "source": [
    "## Data analysis and inspection"
   ]
  },
  {
   "cell_type": "markdown",
   "metadata": {},
   "source": [
    "First thing we need to do is import the neccessary packages that we are going to be using."
   ]
  },
  {
   "cell_type": "code",
   "execution_count": 1,
   "metadata": {},
   "outputs": [],
   "source": [
    "import pandas as pd \n",
    "import numpy as np \n",
    "import seaborn as sns\n",
    "import matplotlib.pyplot as plt \n",
    "\n",
    "from sklearn.model_selection import train_test_split\n",
    "from sklearn.preprocessing import StandardScaler\n",
    "from sklearn.ensemble import RandomForestClassifier\n",
    "from sklearn.metrics import accuracy_score, f1_score\n",
    "from sklearn.metrics import confusion_matrix\n",
    "\n",
    "from imblearn.over_sampling import SMOTE\n",
    "from imblearn.under_sampling import RandomUnderSampler\n",
    "from imblearn.pipeline import Pipeline\n",
    "\n",
    "from collections import Counter\n",
    "\n",
    "sns.set()\n",
    "\n",
    "%matplotlib inline"
   ]
  },
  {
   "cell_type": "markdown",
   "metadata": {},
   "source": [
    "Loading the datasets into our file as a pandas dataframe"
   ]
  },
  {
   "cell_type": "code",
   "execution_count": 2,
   "metadata": {},
   "outputs": [],
   "source": [
    "client_data = pd.read_csv('client_train.csv',low_memory = False)\n",
    "invoice_data = pd.read_csv('invoice_train.csv',low_memory = False)"
   ]
  },
  {
   "cell_type": "markdown",
   "metadata": {},
   "source": [
    "Taking a peek at the client dataset to see what kind of monster we are dealing with."
   ]
  },
  {
   "cell_type": "code",
   "execution_count": 3,
   "metadata": {},
   "outputs": [
    {
     "data": {
      "text/html": [
       "<div>\n",
       "<style scoped>\n",
       "    .dataframe tbody tr th:only-of-type {\n",
       "        vertical-align: middle;\n",
       "    }\n",
       "\n",
       "    .dataframe tbody tr th {\n",
       "        vertical-align: top;\n",
       "    }\n",
       "\n",
       "    .dataframe thead th {\n",
       "        text-align: right;\n",
       "    }\n",
       "</style>\n",
       "<table border=\"1\" class=\"dataframe\">\n",
       "  <thead>\n",
       "    <tr style=\"text-align: right;\">\n",
       "      <th></th>\n",
       "      <th>disrict</th>\n",
       "      <th>client_id</th>\n",
       "      <th>client_catg</th>\n",
       "      <th>region</th>\n",
       "      <th>creation_date</th>\n",
       "      <th>target</th>\n",
       "    </tr>\n",
       "  </thead>\n",
       "  <tbody>\n",
       "    <tr>\n",
       "      <th>0</th>\n",
       "      <td>60</td>\n",
       "      <td>train_Client_0</td>\n",
       "      <td>11</td>\n",
       "      <td>101</td>\n",
       "      <td>31/12/1994</td>\n",
       "      <td>0.0</td>\n",
       "    </tr>\n",
       "    <tr>\n",
       "      <th>1</th>\n",
       "      <td>69</td>\n",
       "      <td>train_Client_1</td>\n",
       "      <td>11</td>\n",
       "      <td>107</td>\n",
       "      <td>29/05/2002</td>\n",
       "      <td>0.0</td>\n",
       "    </tr>\n",
       "    <tr>\n",
       "      <th>2</th>\n",
       "      <td>62</td>\n",
       "      <td>train_Client_10</td>\n",
       "      <td>11</td>\n",
       "      <td>301</td>\n",
       "      <td>13/03/1986</td>\n",
       "      <td>0.0</td>\n",
       "    </tr>\n",
       "    <tr>\n",
       "      <th>3</th>\n",
       "      <td>69</td>\n",
       "      <td>train_Client_100</td>\n",
       "      <td>11</td>\n",
       "      <td>105</td>\n",
       "      <td>11/07/1996</td>\n",
       "      <td>0.0</td>\n",
       "    </tr>\n",
       "    <tr>\n",
       "      <th>4</th>\n",
       "      <td>62</td>\n",
       "      <td>train_Client_1000</td>\n",
       "      <td>11</td>\n",
       "      <td>303</td>\n",
       "      <td>14/10/2014</td>\n",
       "      <td>0.0</td>\n",
       "    </tr>\n",
       "  </tbody>\n",
       "</table>\n",
       "</div>"
      ],
      "text/plain": [
       "   disrict          client_id  client_catg  region creation_date  target\n",
       "0       60     train_Client_0           11     101    31/12/1994     0.0\n",
       "1       69     train_Client_1           11     107    29/05/2002     0.0\n",
       "2       62    train_Client_10           11     301    13/03/1986     0.0\n",
       "3       69   train_Client_100           11     105    11/07/1996     0.0\n",
       "4       62  train_Client_1000           11     303    14/10/2014     0.0"
      ]
     },
     "execution_count": 3,
     "metadata": {},
     "output_type": "execute_result"
    }
   ],
   "source": [
    "client_data.head()"
   ]
  },
  {
   "cell_type": "code",
   "execution_count": 4,
   "metadata": {},
   "outputs": [
    {
     "data": {
      "text/plain": [
       "(135493, 6)"
      ]
     },
     "execution_count": 4,
     "metadata": {},
     "output_type": "execute_result"
    }
   ],
   "source": [
    "client_data.shape"
   ]
  },
  {
   "cell_type": "markdown",
   "metadata": {},
   "source": [
    "We also look at the invoice dataset"
   ]
  },
  {
   "cell_type": "code",
   "execution_count": 5,
   "metadata": {},
   "outputs": [
    {
     "data": {
      "text/html": [
       "<div>\n",
       "<style scoped>\n",
       "    .dataframe tbody tr th:only-of-type {\n",
       "        vertical-align: middle;\n",
       "    }\n",
       "\n",
       "    .dataframe tbody tr th {\n",
       "        vertical-align: top;\n",
       "    }\n",
       "\n",
       "    .dataframe thead th {\n",
       "        text-align: right;\n",
       "    }\n",
       "</style>\n",
       "<table border=\"1\" class=\"dataframe\">\n",
       "  <thead>\n",
       "    <tr style=\"text-align: right;\">\n",
       "      <th></th>\n",
       "      <th>client_id</th>\n",
       "      <th>invoice_date</th>\n",
       "      <th>tarif_type</th>\n",
       "      <th>counter_number</th>\n",
       "      <th>counter_statue</th>\n",
       "      <th>counter_code</th>\n",
       "      <th>reading_remarque</th>\n",
       "      <th>counter_coefficient</th>\n",
       "      <th>consommation_level_1</th>\n",
       "      <th>consommation_level_2</th>\n",
       "      <th>consommation_level_3</th>\n",
       "      <th>consommation_level_4</th>\n",
       "      <th>old_index</th>\n",
       "      <th>new_index</th>\n",
       "      <th>months_number</th>\n",
       "      <th>counter_type</th>\n",
       "    </tr>\n",
       "  </thead>\n",
       "  <tbody>\n",
       "    <tr>\n",
       "      <th>0</th>\n",
       "      <td>train_Client_0</td>\n",
       "      <td>2014-03-24</td>\n",
       "      <td>11</td>\n",
       "      <td>1335667</td>\n",
       "      <td>0</td>\n",
       "      <td>203</td>\n",
       "      <td>8</td>\n",
       "      <td>1</td>\n",
       "      <td>82</td>\n",
       "      <td>0</td>\n",
       "      <td>0</td>\n",
       "      <td>0</td>\n",
       "      <td>14302</td>\n",
       "      <td>14384</td>\n",
       "      <td>4</td>\n",
       "      <td>ELEC</td>\n",
       "    </tr>\n",
       "    <tr>\n",
       "      <th>1</th>\n",
       "      <td>train_Client_0</td>\n",
       "      <td>2013-03-29</td>\n",
       "      <td>11</td>\n",
       "      <td>1335667</td>\n",
       "      <td>0</td>\n",
       "      <td>203</td>\n",
       "      <td>6</td>\n",
       "      <td>1</td>\n",
       "      <td>1200</td>\n",
       "      <td>184</td>\n",
       "      <td>0</td>\n",
       "      <td>0</td>\n",
       "      <td>12294</td>\n",
       "      <td>13678</td>\n",
       "      <td>4</td>\n",
       "      <td>ELEC</td>\n",
       "    </tr>\n",
       "    <tr>\n",
       "      <th>2</th>\n",
       "      <td>train_Client_0</td>\n",
       "      <td>2015-03-23</td>\n",
       "      <td>11</td>\n",
       "      <td>1335667</td>\n",
       "      <td>0</td>\n",
       "      <td>203</td>\n",
       "      <td>8</td>\n",
       "      <td>1</td>\n",
       "      <td>123</td>\n",
       "      <td>0</td>\n",
       "      <td>0</td>\n",
       "      <td>0</td>\n",
       "      <td>14624</td>\n",
       "      <td>14747</td>\n",
       "      <td>4</td>\n",
       "      <td>ELEC</td>\n",
       "    </tr>\n",
       "    <tr>\n",
       "      <th>3</th>\n",
       "      <td>train_Client_0</td>\n",
       "      <td>2015-07-13</td>\n",
       "      <td>11</td>\n",
       "      <td>1335667</td>\n",
       "      <td>0</td>\n",
       "      <td>207</td>\n",
       "      <td>8</td>\n",
       "      <td>1</td>\n",
       "      <td>102</td>\n",
       "      <td>0</td>\n",
       "      <td>0</td>\n",
       "      <td>0</td>\n",
       "      <td>14747</td>\n",
       "      <td>14849</td>\n",
       "      <td>4</td>\n",
       "      <td>ELEC</td>\n",
       "    </tr>\n",
       "    <tr>\n",
       "      <th>4</th>\n",
       "      <td>train_Client_0</td>\n",
       "      <td>2016-11-17</td>\n",
       "      <td>11</td>\n",
       "      <td>1335667</td>\n",
       "      <td>0</td>\n",
       "      <td>207</td>\n",
       "      <td>9</td>\n",
       "      <td>1</td>\n",
       "      <td>572</td>\n",
       "      <td>0</td>\n",
       "      <td>0</td>\n",
       "      <td>0</td>\n",
       "      <td>15066</td>\n",
       "      <td>15638</td>\n",
       "      <td>12</td>\n",
       "      <td>ELEC</td>\n",
       "    </tr>\n",
       "  </tbody>\n",
       "</table>\n",
       "</div>"
      ],
      "text/plain": [
       "        client_id invoice_date  tarif_type  counter_number counter_statue  \\\n",
       "0  train_Client_0   2014-03-24          11         1335667              0   \n",
       "1  train_Client_0   2013-03-29          11         1335667              0   \n",
       "2  train_Client_0   2015-03-23          11         1335667              0   \n",
       "3  train_Client_0   2015-07-13          11         1335667              0   \n",
       "4  train_Client_0   2016-11-17          11         1335667              0   \n",
       "\n",
       "   counter_code  reading_remarque  counter_coefficient  consommation_level_1  \\\n",
       "0           203                 8                    1                    82   \n",
       "1           203                 6                    1                  1200   \n",
       "2           203                 8                    1                   123   \n",
       "3           207                 8                    1                   102   \n",
       "4           207                 9                    1                   572   \n",
       "\n",
       "   consommation_level_2  consommation_level_3  consommation_level_4  \\\n",
       "0                     0                     0                     0   \n",
       "1                   184                     0                     0   \n",
       "2                     0                     0                     0   \n",
       "3                     0                     0                     0   \n",
       "4                     0                     0                     0   \n",
       "\n",
       "   old_index  new_index  months_number counter_type  \n",
       "0      14302      14384              4         ELEC  \n",
       "1      12294      13678              4         ELEC  \n",
       "2      14624      14747              4         ELEC  \n",
       "3      14747      14849              4         ELEC  \n",
       "4      15066      15638             12         ELEC  "
      ]
     },
     "execution_count": 5,
     "metadata": {},
     "output_type": "execute_result"
    }
   ],
   "source": [
    "invoice_data.head()"
   ]
  },
  {
   "cell_type": "code",
   "execution_count": 6,
   "metadata": {},
   "outputs": [
    {
     "data": {
      "text/plain": [
       "(4476749, 16)"
      ]
     },
     "execution_count": 6,
     "metadata": {},
     "output_type": "execute_result"
    }
   ],
   "source": [
    "invoice_data.shape"
   ]
  },
  {
   "cell_type": "markdown",
   "metadata": {},
   "source": [
    "We see that we can immediatly calculate how many invoices there are per client and add that to our dataframe"
   ]
  },
  {
   "cell_type": "code",
   "execution_count": 7,
   "metadata": {},
   "outputs": [
    {
     "data": {
      "text/html": [
       "<div>\n",
       "<style scoped>\n",
       "    .dataframe tbody tr th:only-of-type {\n",
       "        vertical-align: middle;\n",
       "    }\n",
       "\n",
       "    .dataframe tbody tr th {\n",
       "        vertical-align: top;\n",
       "    }\n",
       "\n",
       "    .dataframe thead th {\n",
       "        text-align: right;\n",
       "    }\n",
       "</style>\n",
       "<table border=\"1\" class=\"dataframe\">\n",
       "  <thead>\n",
       "    <tr style=\"text-align: right;\">\n",
       "      <th></th>\n",
       "      <th>disrict</th>\n",
       "      <th>client_id</th>\n",
       "      <th>client_catg</th>\n",
       "      <th>region</th>\n",
       "      <th>creation_date</th>\n",
       "      <th>target</th>\n",
       "      <th>invoice_amount</th>\n",
       "    </tr>\n",
       "  </thead>\n",
       "  <tbody>\n",
       "    <tr>\n",
       "      <th>0</th>\n",
       "      <td>60</td>\n",
       "      <td>train_Client_0</td>\n",
       "      <td>11</td>\n",
       "      <td>101</td>\n",
       "      <td>31/12/1994</td>\n",
       "      <td>0.0</td>\n",
       "      <td>35</td>\n",
       "    </tr>\n",
       "    <tr>\n",
       "      <th>1</th>\n",
       "      <td>69</td>\n",
       "      <td>train_Client_1</td>\n",
       "      <td>11</td>\n",
       "      <td>107</td>\n",
       "      <td>29/05/2002</td>\n",
       "      <td>0.0</td>\n",
       "      <td>37</td>\n",
       "    </tr>\n",
       "    <tr>\n",
       "      <th>2</th>\n",
       "      <td>62</td>\n",
       "      <td>train_Client_10</td>\n",
       "      <td>11</td>\n",
       "      <td>301</td>\n",
       "      <td>13/03/1986</td>\n",
       "      <td>0.0</td>\n",
       "      <td>18</td>\n",
       "    </tr>\n",
       "    <tr>\n",
       "      <th>3</th>\n",
       "      <td>69</td>\n",
       "      <td>train_Client_100</td>\n",
       "      <td>11</td>\n",
       "      <td>105</td>\n",
       "      <td>11/07/1996</td>\n",
       "      <td>0.0</td>\n",
       "      <td>20</td>\n",
       "    </tr>\n",
       "    <tr>\n",
       "      <th>4</th>\n",
       "      <td>62</td>\n",
       "      <td>train_Client_1000</td>\n",
       "      <td>11</td>\n",
       "      <td>303</td>\n",
       "      <td>14/10/2014</td>\n",
       "      <td>0.0</td>\n",
       "      <td>14</td>\n",
       "    </tr>\n",
       "  </tbody>\n",
       "</table>\n",
       "</div>"
      ],
      "text/plain": [
       "   disrict          client_id  client_catg  region creation_date  target  \\\n",
       "0       60     train_Client_0           11     101    31/12/1994     0.0   \n",
       "1       69     train_Client_1           11     107    29/05/2002     0.0   \n",
       "2       62    train_Client_10           11     301    13/03/1986     0.0   \n",
       "3       69   train_Client_100           11     105    11/07/1996     0.0   \n",
       "4       62  train_Client_1000           11     303    14/10/2014     0.0   \n",
       "\n",
       "   invoice_amount  \n",
       "0              35  \n",
       "1              37  \n",
       "2              18  \n",
       "3              20  \n",
       "4              14  "
      ]
     },
     "execution_count": 7,
     "metadata": {},
     "output_type": "execute_result"
    }
   ],
   "source": [
    "client_data['invoice_amount'] = invoice_data.groupby('client_id').size().values\n",
    "client_data.head()"
   ]
  },
  {
   "cell_type": "markdown",
   "metadata": {},
   "source": [
    "We also see that we can change the dates to datetime format incase we will be needing that information later"
   ]
  },
  {
   "cell_type": "code",
   "execution_count": 8,
   "metadata": {},
   "outputs": [],
   "source": [
    "# Changing the client_data's column date to datetime\n",
    "client_data['creation_date']= pd.to_datetime(client_data['creation_date'])\n",
    "# Changing the invoice_data's column date to datetime\n",
    "invoice_data['invoice_date']= pd.to_datetime(invoice_data['invoice_date'])"
   ]
  },
  {
   "cell_type": "markdown",
   "metadata": {},
   "source": [
    "The date can be used to calculate how long a customer has had a contract with the company because it might be usefull in our model"
   ]
  },
  {
   "cell_type": "code",
   "execution_count": 9,
   "metadata": {},
   "outputs": [
    {
     "data": {
      "text/html": [
       "<div>\n",
       "<style scoped>\n",
       "    .dataframe tbody tr th:only-of-type {\n",
       "        vertical-align: middle;\n",
       "    }\n",
       "\n",
       "    .dataframe tbody tr th {\n",
       "        vertical-align: top;\n",
       "    }\n",
       "\n",
       "    .dataframe thead th {\n",
       "        text-align: right;\n",
       "    }\n",
       "</style>\n",
       "<table border=\"1\" class=\"dataframe\">\n",
       "  <thead>\n",
       "    <tr style=\"text-align: right;\">\n",
       "      <th></th>\n",
       "      <th>disrict</th>\n",
       "      <th>client_id</th>\n",
       "      <th>client_catg</th>\n",
       "      <th>region</th>\n",
       "      <th>creation_date</th>\n",
       "      <th>target</th>\n",
       "      <th>invoice_amount</th>\n",
       "      <th>contract_time_length</th>\n",
       "    </tr>\n",
       "  </thead>\n",
       "  <tbody>\n",
       "    <tr>\n",
       "      <th>0</th>\n",
       "      <td>60</td>\n",
       "      <td>train_Client_0</td>\n",
       "      <td>11</td>\n",
       "      <td>101</td>\n",
       "      <td>1994-12-31</td>\n",
       "      <td>0.0</td>\n",
       "      <td>35</td>\n",
       "      <td>27</td>\n",
       "    </tr>\n",
       "    <tr>\n",
       "      <th>1</th>\n",
       "      <td>69</td>\n",
       "      <td>train_Client_1</td>\n",
       "      <td>11</td>\n",
       "      <td>107</td>\n",
       "      <td>2002-05-29</td>\n",
       "      <td>0.0</td>\n",
       "      <td>37</td>\n",
       "      <td>19</td>\n",
       "    </tr>\n",
       "    <tr>\n",
       "      <th>2</th>\n",
       "      <td>62</td>\n",
       "      <td>train_Client_10</td>\n",
       "      <td>11</td>\n",
       "      <td>301</td>\n",
       "      <td>1986-03-13</td>\n",
       "      <td>0.0</td>\n",
       "      <td>18</td>\n",
       "      <td>35</td>\n",
       "    </tr>\n",
       "    <tr>\n",
       "      <th>3</th>\n",
       "      <td>69</td>\n",
       "      <td>train_Client_100</td>\n",
       "      <td>11</td>\n",
       "      <td>105</td>\n",
       "      <td>1996-11-07</td>\n",
       "      <td>0.0</td>\n",
       "      <td>20</td>\n",
       "      <td>25</td>\n",
       "    </tr>\n",
       "    <tr>\n",
       "      <th>4</th>\n",
       "      <td>62</td>\n",
       "      <td>train_Client_1000</td>\n",
       "      <td>11</td>\n",
       "      <td>303</td>\n",
       "      <td>2014-10-14</td>\n",
       "      <td>0.0</td>\n",
       "      <td>14</td>\n",
       "      <td>7</td>\n",
       "    </tr>\n",
       "  </tbody>\n",
       "</table>\n",
       "</div>"
      ],
      "text/plain": [
       "   disrict          client_id  client_catg  region creation_date  target  \\\n",
       "0       60     train_Client_0           11     101    1994-12-31     0.0   \n",
       "1       69     train_Client_1           11     107    2002-05-29     0.0   \n",
       "2       62    train_Client_10           11     301    1986-03-13     0.0   \n",
       "3       69   train_Client_100           11     105    1996-11-07     0.0   \n",
       "4       62  train_Client_1000           11     303    2014-10-14     0.0   \n",
       "\n",
       "   invoice_amount  contract_time_length  \n",
       "0              35                    27  \n",
       "1              37                    19  \n",
       "2              18                    35  \n",
       "3              20                    25  \n",
       "4              14                     7  "
      ]
     },
     "execution_count": 9,
     "metadata": {},
     "output_type": "execute_result"
    }
   ],
   "source": [
    "today = pd.to_datetime(\"today\")\n",
    "# Add the contract length in years \n",
    "client_data['contract_time_length'] = today.year - client_data['creation_date'].dt.year\n",
    "client_data.head()"
   ]
  },
  {
   "cell_type": "markdown",
   "metadata": {},
   "source": [
    "The date of the last invoice can differ a lot from the current date and so the number of years since the start of a clients contract with the company and the date of their last invoice will be used as well."
   ]
  },
  {
   "cell_type": "code",
   "execution_count": 10,
   "metadata": {},
   "outputs": [
    {
     "data": {
      "text/html": [
       "<div>\n",
       "<style scoped>\n",
       "    .dataframe tbody tr th:only-of-type {\n",
       "        vertical-align: middle;\n",
       "    }\n",
       "\n",
       "    .dataframe tbody tr th {\n",
       "        vertical-align: top;\n",
       "    }\n",
       "\n",
       "    .dataframe thead th {\n",
       "        text-align: right;\n",
       "    }\n",
       "</style>\n",
       "<table border=\"1\" class=\"dataframe\">\n",
       "  <thead>\n",
       "    <tr style=\"text-align: right;\">\n",
       "      <th></th>\n",
       "      <th>disrict</th>\n",
       "      <th>client_id</th>\n",
       "      <th>client_catg</th>\n",
       "      <th>region</th>\n",
       "      <th>creation_date</th>\n",
       "      <th>target</th>\n",
       "      <th>invoice_amount</th>\n",
       "      <th>contract_time_length</th>\n",
       "      <th>contract_time_to_latest</th>\n",
       "    </tr>\n",
       "  </thead>\n",
       "  <tbody>\n",
       "    <tr>\n",
       "      <th>0</th>\n",
       "      <td>60</td>\n",
       "      <td>train_Client_0</td>\n",
       "      <td>11</td>\n",
       "      <td>101</td>\n",
       "      <td>1994-12-31</td>\n",
       "      <td>0.0</td>\n",
       "      <td>35</td>\n",
       "      <td>27</td>\n",
       "      <td>25</td>\n",
       "    </tr>\n",
       "    <tr>\n",
       "      <th>1</th>\n",
       "      <td>69</td>\n",
       "      <td>train_Client_1</td>\n",
       "      <td>11</td>\n",
       "      <td>107</td>\n",
       "      <td>2002-05-29</td>\n",
       "      <td>0.0</td>\n",
       "      <td>37</td>\n",
       "      <td>19</td>\n",
       "      <td>17</td>\n",
       "    </tr>\n",
       "    <tr>\n",
       "      <th>2</th>\n",
       "      <td>62</td>\n",
       "      <td>train_Client_10</td>\n",
       "      <td>11</td>\n",
       "      <td>301</td>\n",
       "      <td>1986-03-13</td>\n",
       "      <td>0.0</td>\n",
       "      <td>18</td>\n",
       "      <td>35</td>\n",
       "      <td>33</td>\n",
       "    </tr>\n",
       "    <tr>\n",
       "      <th>3</th>\n",
       "      <td>69</td>\n",
       "      <td>train_Client_100</td>\n",
       "      <td>11</td>\n",
       "      <td>105</td>\n",
       "      <td>1996-11-07</td>\n",
       "      <td>0.0</td>\n",
       "      <td>20</td>\n",
       "      <td>25</td>\n",
       "      <td>16</td>\n",
       "    </tr>\n",
       "    <tr>\n",
       "      <th>4</th>\n",
       "      <td>62</td>\n",
       "      <td>train_Client_1000</td>\n",
       "      <td>11</td>\n",
       "      <td>303</td>\n",
       "      <td>2014-10-14</td>\n",
       "      <td>0.0</td>\n",
       "      <td>14</td>\n",
       "      <td>7</td>\n",
       "      <td>5</td>\n",
       "    </tr>\n",
       "  </tbody>\n",
       "</table>\n",
       "</div>"
      ],
      "text/plain": [
       "   disrict          client_id  client_catg  region creation_date  target  \\\n",
       "0       60     train_Client_0           11     101    1994-12-31     0.0   \n",
       "1       69     train_Client_1           11     107    2002-05-29     0.0   \n",
       "2       62    train_Client_10           11     301    1986-03-13     0.0   \n",
       "3       69   train_Client_100           11     105    1996-11-07     0.0   \n",
       "4       62  train_Client_1000           11     303    2014-10-14     0.0   \n",
       "\n",
       "   invoice_amount  contract_time_length  contract_time_to_latest  \n",
       "0              35                    27                       25  \n",
       "1              37                    19                       17  \n",
       "2              18                    35                       33  \n",
       "3              20                    25                       16  \n",
       "4              14                     7                        5  "
      ]
     },
     "execution_count": 10,
     "metadata": {},
     "output_type": "execute_result"
    }
   ],
   "source": [
    "client_data['contract_time_to_latest'] = invoice_data.groupby('client_id')['invoice_date'].max().dt.year.values- client_data['creation_date'].dt.year.values\n",
    "    \n",
    "client_data.head()"
   ]
  },
  {
   "cell_type": "markdown",
   "metadata": {},
   "source": [
    "Detailed decriptions of the old and new index columns was not given for the dataset however is thought that the change in this index might be of value."
   ]
  },
  {
   "cell_type": "code",
   "execution_count": 11,
   "metadata": {},
   "outputs": [
    {
     "data": {
      "image/png": "[encoded data removed]",
      "text/plain": [
       "<Figure size 720x360 with 1 Axes>"
      ]
     },
     "metadata": {
      "needs_background": "light"
     },
     "output_type": "display_data"
    }
   ],
   "source": [
    "fig,ax = plt.subplots(figsize=(10,5))\n",
    "invoice_data['index_dif'] = np.abs(invoice_data['new_index']-invoice_data['old_index'])\n",
    "\n",
    "invoice_data.loc[:,'index_dif'].plot(kind='box')\n",
    "plt.ylabel('index difference');"
   ]
  },
  {
   "cell_type": "markdown",
   "metadata": {},
   "source": [
    "There are large fluctuations in the difference of this value. Seeing how large difference values correspond to fraudulent clients is shown below:"
   ]
  },
  {
   "cell_type": "code",
   "execution_count": 12,
   "metadata": {},
   "outputs": [
    {
     "name": "stdout",
     "output_type": "stream",
     "text": [
      "0.75 quantile:  657.0\n"
     ]
    }
   ],
   "source": [
    "print('0.75 quantile: ',invoice_data['index_dif'].quantile(0.75))\n",
    "index_index_dif = invoice_data.merge(client_data,on='client_id')[invoice_data['index_dif'] > 2500]['target'].index"
   ]
  },
  {
   "cell_type": "code",
   "execution_count": 13,
   "metadata": {},
   "outputs": [],
   "source": [
    "invoice_data.drop(index = index_index_dif,inplace = True)"
   ]
  },
  {
   "cell_type": "markdown",
   "metadata": {},
   "source": [
    "8.8% of the values greater than the 0.75 quantile corresponds to fraudulent clients"
   ]
  },
  {
   "cell_type": "markdown",
   "metadata": {},
   "source": [
    "The months number column was also not well defined. It is seen that this number is how many months have passed since the last invoice/inspection. However there are large outiers for this feature corresponding to 200+ years since the last invoice."
   ]
  },
  {
   "cell_type": "code",
   "execution_count": 14,
   "metadata": {},
   "outputs": [
    {
     "data": {
      "text/plain": [
       "count    4.326056e+06\n",
       "mean     4.256167e+00\n",
       "std      1.692287e+01\n",
       "min      0.000000e+00\n",
       "25%      4.000000e+00\n",
       "50%      4.000000e+00\n",
       "75%      4.000000e+00\n",
       "max      2.043300e+04\n",
       "Name: months_number, dtype: float64"
      ]
     },
     "execution_count": 14,
     "metadata": {},
     "output_type": "execute_result"
    }
   ],
   "source": [
    "invoice_data['months_number'].describe()"
   ]
  },
  {
   "cell_type": "code",
   "execution_count": 15,
   "metadata": {},
   "outputs": [
    {
     "data": {
      "image/png": "[encoded data removed]",
      "text/plain": [
       "<Figure size 720x360 with 1 Axes>"
      ]
     },
     "metadata": {
      "needs_background": "light"
     },
     "output_type": "display_data"
    }
   ],
   "source": [
    "month_check = invoice_data[:].merge(client_data,on='client_id')\n",
    "months =[]\n",
    "for i in range(5):\n",
    "    months.append(month_check[(month_check['months_number']>i*12)&(month_check['target']==1)].groupby('client_id').sum().shape[0])\n",
    "    \n",
    "fig,ax = plt.subplots(figsize=(10,5))\n",
    "plt.plot((np.array(months)/month_check[month_check['target']==0].shape[0])*100,marker='o',label='Normal')\n",
    "plt.plot((np.array(months)/month_check[month_check['target']==1].shape[0])*100,marker='o',label='Fraudulent')\n",
    "plt.legend()\n",
    "plt.ylabel('Percentage of clients [%]');\n",
    "plt.xlabel('Years since last invoice');"
   ]
  },
  {
   "cell_type": "markdown",
   "metadata": {},
   "source": [
    "As shown in the above graph we can safely remove the invoices that have large numbers in the 'months_number' column. Shown in the above graph, rows with larger than two year since the last invoice corresponds to removing 0.04% of the fraudulent clients."
   ]
  },
  {
   "cell_type": "code",
   "execution_count": 16,
   "metadata": {},
   "outputs": [],
   "source": [
    "invoice_data.drop(invoice_data[invoice_data.months_number > 24].index,inplace=True)"
   ]
  },
  {
   "cell_type": "code",
   "execution_count": 17,
   "metadata": {},
   "outputs": [
    {
     "data": {
      "text/plain": [
       "count    4.324408e+06\n",
       "mean     4.213068e+00\n",
       "std      1.662602e+00\n",
       "min      0.000000e+00\n",
       "25%      4.000000e+00\n",
       "50%      4.000000e+00\n",
       "75%      4.000000e+00\n",
       "max      2.400000e+01\n",
       "Name: months_number, dtype: float64"
      ]
     },
     "execution_count": 17,
     "metadata": {},
     "output_type": "execute_result"
    }
   ],
   "source": [
    "invoice_data['months_number'].describe()"
   ]
  },
  {
   "cell_type": "code",
   "execution_count": 18,
   "metadata": {},
   "outputs": [
    {
     "name": "stdout",
     "output_type": "stream",
     "text": [
      "Number of client:  135493\n",
      "Number of clients in reduced invoice data set:  134618\n",
      "Number of removed clients:  875\n"
     ]
    }
   ],
   "source": [
    "print('Number of client: ',client_data.shape[0])\n",
    "print('Number of clients in reduced invoice data set: ',invoice_data['client_id'].unique().shape[0])\n",
    "print('Number of removed clients: ',client_data.shape[0]-invoice_data['client_id'].unique().shape[0])"
   ]
  },
  {
   "cell_type": "markdown",
   "metadata": {},
   "source": [
    "REMOVING OUTLIERS FOR THE CONSUMPTION COLUMNS"
   ]
  },
  {
   "cell_type": "code",
   "execution_count": 19,
   "metadata": {},
   "outputs": [
    {
     "data": {
      "text/plain": [
       "consommation_level_1    494.0\n",
       "consommation_level_2    284.0\n",
       "consommation_level_3    357.0\n",
       "consommation_level_4    689.0\n",
       "dtype: float64"
      ]
     },
     "execution_count": 19,
     "metadata": {},
     "output_type": "execute_result"
    }
   ],
   "source": [
    "consumption_headings = ['consommation_level_1','consommation_level_2','consommation_level_3','consommation_level_4']\n",
    "\n",
    "df = invoice_data[consumption_headings][ invoice_data[consumption_headings] > 0 ]\n",
    "\n",
    "\n",
    "Q1 = df.quantile(0.25)\n",
    "Q3 = df.quantile(0.75)\n",
    "IQR = Q3 - Q1\n",
    "IQR"
   ]
  },
  {
   "cell_type": "code",
   "execution_count": 20,
   "metadata": {},
   "outputs": [],
   "source": [
    "index1 = invoice_data[consumption_headings] > (Q3 + 2 * IQR)"
   ]
  },
  {
   "cell_type": "code",
   "execution_count": 21,
   "metadata": {},
   "outputs": [
    {
     "data": {
      "text/plain": [
       "1.6025777401207288"
      ]
     },
     "execution_count": 21,
     "metadata": {},
     "output_type": "execute_result"
    }
   ],
   "source": [
    "invoice_data[index1.any(axis=1)].shape[0] / invoice_data.shape[0] *100"
   ]
  },
  {
   "cell_type": "code",
   "execution_count": 22,
   "metadata": {},
   "outputs": [
    {
     "data": {
      "text/plain": [
       "314        True\n",
       "320        True\n",
       "859        True\n",
       "897        True\n",
       "987        True\n",
       "           ... \n",
       "4475651    True\n",
       "4476053    True\n",
       "4476125    True\n",
       "4476431    True\n",
       "4476481    True\n",
       "Length: 38097, dtype: bool"
      ]
     },
     "execution_count": 22,
     "metadata": {},
     "output_type": "execute_result"
    }
   ],
   "source": [
    "index1.any(axis=1)[index1[index1['consommation_level_1'] == True].index]"
   ]
  },
  {
   "cell_type": "code",
   "execution_count": 23,
   "metadata": {},
   "outputs": [
    {
     "data": {
      "text/plain": [
       "Int64Index([    314,     320,     859,     897,     987,    1028,    1245,\n",
       "               1509,    1517,    1586,\n",
       "            ...\n",
       "            4474355, 4474664, 4474781, 4474812, 4475486, 4475651, 4476053,\n",
       "            4476125, 4476431, 4476481],\n",
       "           dtype='int64', length=38097)"
      ]
     },
     "execution_count": 23,
     "metadata": {},
     "output_type": "execute_result"
    }
   ],
   "source": [
    "index1[index1['consommation_level_1'] == True].index"
   ]
  },
  {
   "cell_type": "code",
   "execution_count": 24,
   "metadata": {},
   "outputs": [],
   "source": [
    "invoice_data.drop(index=invoice_data[index1.any(axis=1)].index,inplace=True)"
   ]
  },
  {
   "cell_type": "code",
   "execution_count": 25,
   "metadata": {},
   "outputs": [
    {
     "data": {
      "text/plain": [
       "(4255106, 17)"
      ]
     },
     "execution_count": 25,
     "metadata": {},
     "output_type": "execute_result"
    }
   ],
   "source": [
    "invoice_data.shape"
   ]
  },
  {
   "cell_type": "code",
   "execution_count": null,
   "metadata": {},
   "outputs": [],
   "source": []
  },
  {
   "cell_type": "code",
   "execution_count": 26,
   "metadata": {},
   "outputs": [
    {
     "data": {
      "text/html": [
       "<div>\n",
       "<style scoped>\n",
       "    .dataframe tbody tr th:only-of-type {\n",
       "        vertical-align: middle;\n",
       "    }\n",
       "\n",
       "    .dataframe tbody tr th {\n",
       "        vertical-align: top;\n",
       "    }\n",
       "\n",
       "    .dataframe thead th {\n",
       "        text-align: right;\n",
       "    }\n",
       "</style>\n",
       "<table border=\"1\" class=\"dataframe\">\n",
       "  <thead>\n",
       "    <tr style=\"text-align: right;\">\n",
       "      <th></th>\n",
       "      <th>disrict</th>\n",
       "      <th>client_id</th>\n",
       "      <th>client_catg</th>\n",
       "      <th>region</th>\n",
       "      <th>creation_date</th>\n",
       "      <th>target</th>\n",
       "      <th>invoice_amount</th>\n",
       "      <th>contract_time_length</th>\n",
       "      <th>contract_time_to_latest</th>\n",
       "    </tr>\n",
       "  </thead>\n",
       "  <tbody>\n",
       "    <tr>\n",
       "      <th>0</th>\n",
       "      <td>60</td>\n",
       "      <td>train_Client_0</td>\n",
       "      <td>11</td>\n",
       "      <td>101</td>\n",
       "      <td>1994-12-31</td>\n",
       "      <td>0.0</td>\n",
       "      <td>35</td>\n",
       "      <td>27</td>\n",
       "      <td>25</td>\n",
       "    </tr>\n",
       "    <tr>\n",
       "      <th>1</th>\n",
       "      <td>69</td>\n",
       "      <td>train_Client_1</td>\n",
       "      <td>11</td>\n",
       "      <td>107</td>\n",
       "      <td>2002-05-29</td>\n",
       "      <td>0.0</td>\n",
       "      <td>37</td>\n",
       "      <td>19</td>\n",
       "      <td>17</td>\n",
       "    </tr>\n",
       "    <tr>\n",
       "      <th>2</th>\n",
       "      <td>62</td>\n",
       "      <td>train_Client_10</td>\n",
       "      <td>11</td>\n",
       "      <td>301</td>\n",
       "      <td>1986-03-13</td>\n",
       "      <td>0.0</td>\n",
       "      <td>18</td>\n",
       "      <td>35</td>\n",
       "      <td>33</td>\n",
       "    </tr>\n",
       "    <tr>\n",
       "      <th>3</th>\n",
       "      <td>69</td>\n",
       "      <td>train_Client_100</td>\n",
       "      <td>11</td>\n",
       "      <td>105</td>\n",
       "      <td>1996-11-07</td>\n",
       "      <td>0.0</td>\n",
       "      <td>20</td>\n",
       "      <td>25</td>\n",
       "      <td>16</td>\n",
       "    </tr>\n",
       "    <tr>\n",
       "      <th>4</th>\n",
       "      <td>62</td>\n",
       "      <td>train_Client_1000</td>\n",
       "      <td>11</td>\n",
       "      <td>303</td>\n",
       "      <td>2014-10-14</td>\n",
       "      <td>0.0</td>\n",
       "      <td>14</td>\n",
       "      <td>7</td>\n",
       "      <td>5</td>\n",
       "    </tr>\n",
       "  </tbody>\n",
       "</table>\n",
       "</div>"
      ],
      "text/plain": [
       "   disrict          client_id  client_catg  region creation_date  target  \\\n",
       "0       60     train_Client_0           11     101    1994-12-31     0.0   \n",
       "1       69     train_Client_1           11     107    2002-05-29     0.0   \n",
       "2       62    train_Client_10           11     301    1986-03-13     0.0   \n",
       "3       69   train_Client_100           11     105    1996-11-07     0.0   \n",
       "4       62  train_Client_1000           11     303    2014-10-14     0.0   \n",
       "\n",
       "   invoice_amount  contract_time_length  contract_time_to_latest  \n",
       "0              35                    27                       25  \n",
       "1              37                    19                       17  \n",
       "2              18                    35                       33  \n",
       "3              20                    25                       16  \n",
       "4              14                     7                        5  "
      ]
     },
     "execution_count": 26,
     "metadata": {},
     "output_type": "execute_result"
    }
   ],
   "source": [
    "client_data.head()"
   ]
  },
  {
   "cell_type": "markdown",
   "metadata": {},
   "source": [
    "We then want to one hot encode the data"
   ]
  },
  {
   "cell_type": "code",
   "execution_count": 27,
   "metadata": {},
   "outputs": [],
   "source": [
    "#Drop columns not deemed neccesary\n",
    "reduced_invoice_data = invoice_data.drop(columns=['counter_code','counter_number','old_index','new_index','invoice_date'])\n",
    "\n",
    "reduced_client_data = client_data.drop(columns=['disrict','region','creation_date'])"
   ]
  },
  {
   "cell_type": "code",
   "execution_count": 28,
   "metadata": {},
   "outputs": [
    {
     "data": {
      "text/html": [
       "<div>\n",
       "<style scoped>\n",
       "    .dataframe tbody tr th:only-of-type {\n",
       "        vertical-align: middle;\n",
       "    }\n",
       "\n",
       "    .dataframe tbody tr th {\n",
       "        vertical-align: top;\n",
       "    }\n",
       "\n",
       "    .dataframe thead th {\n",
       "        text-align: right;\n",
       "    }\n",
       "</style>\n",
       "<table border=\"1\" class=\"dataframe\">\n",
       "  <thead>\n",
       "    <tr style=\"text-align: right;\">\n",
       "      <th></th>\n",
       "      <th>client_id</th>\n",
       "      <th>consommation_level_1</th>\n",
       "      <th>consommation_level_2</th>\n",
       "      <th>consommation_level_3</th>\n",
       "      <th>consommation_level_4</th>\n",
       "      <th>months_number</th>\n",
       "      <th>index_dif</th>\n",
       "      <th>tarif_type_8</th>\n",
       "      <th>tarif_type_9</th>\n",
       "      <th>tarif_type_10</th>\n",
       "      <th>...</th>\n",
       "      <th>counter_coefficient_6</th>\n",
       "      <th>counter_coefficient_9</th>\n",
       "      <th>counter_coefficient_10</th>\n",
       "      <th>counter_coefficient_11</th>\n",
       "      <th>counter_coefficient_20</th>\n",
       "      <th>counter_coefficient_30</th>\n",
       "      <th>counter_coefficient_33</th>\n",
       "      <th>counter_coefficient_40</th>\n",
       "      <th>counter_type_ELEC</th>\n",
       "      <th>counter_type_GAZ</th>\n",
       "    </tr>\n",
       "  </thead>\n",
       "  <tbody>\n",
       "    <tr>\n",
       "      <th>0</th>\n",
       "      <td>train_Client_0</td>\n",
       "      <td>82</td>\n",
       "      <td>0</td>\n",
       "      <td>0</td>\n",
       "      <td>0</td>\n",
       "      <td>4</td>\n",
       "      <td>82</td>\n",
       "      <td>0</td>\n",
       "      <td>0</td>\n",
       "      <td>0</td>\n",
       "      <td>...</td>\n",
       "      <td>0</td>\n",
       "      <td>0</td>\n",
       "      <td>0</td>\n",
       "      <td>0</td>\n",
       "      <td>0</td>\n",
       "      <td>0</td>\n",
       "      <td>0</td>\n",
       "      <td>0</td>\n",
       "      <td>1</td>\n",
       "      <td>0</td>\n",
       "    </tr>\n",
       "    <tr>\n",
       "      <th>1</th>\n",
       "      <td>train_Client_0</td>\n",
       "      <td>1200</td>\n",
       "      <td>184</td>\n",
       "      <td>0</td>\n",
       "      <td>0</td>\n",
       "      <td>4</td>\n",
       "      <td>1384</td>\n",
       "      <td>0</td>\n",
       "      <td>0</td>\n",
       "      <td>0</td>\n",
       "      <td>...</td>\n",
       "      <td>0</td>\n",
       "      <td>0</td>\n",
       "      <td>0</td>\n",
       "      <td>0</td>\n",
       "      <td>0</td>\n",
       "      <td>0</td>\n",
       "      <td>0</td>\n",
       "      <td>0</td>\n",
       "      <td>1</td>\n",
       "      <td>0</td>\n",
       "    </tr>\n",
       "    <tr>\n",
       "      <th>2</th>\n",
       "      <td>train_Client_0</td>\n",
       "      <td>123</td>\n",
       "      <td>0</td>\n",
       "      <td>0</td>\n",
       "      <td>0</td>\n",
       "      <td>4</td>\n",
       "      <td>123</td>\n",
       "      <td>0</td>\n",
       "      <td>0</td>\n",
       "      <td>0</td>\n",
       "      <td>...</td>\n",
       "      <td>0</td>\n",
       "      <td>0</td>\n",
       "      <td>0</td>\n",
       "      <td>0</td>\n",
       "      <td>0</td>\n",
       "      <td>0</td>\n",
       "      <td>0</td>\n",
       "      <td>0</td>\n",
       "      <td>1</td>\n",
       "      <td>0</td>\n",
       "    </tr>\n",
       "    <tr>\n",
       "      <th>3</th>\n",
       "      <td>train_Client_0</td>\n",
       "      <td>102</td>\n",
       "      <td>0</td>\n",
       "      <td>0</td>\n",
       "      <td>0</td>\n",
       "      <td>4</td>\n",
       "      <td>102</td>\n",
       "      <td>0</td>\n",
       "      <td>0</td>\n",
       "      <td>0</td>\n",
       "      <td>...</td>\n",
       "      <td>0</td>\n",
       "      <td>0</td>\n",
       "      <td>0</td>\n",
       "      <td>0</td>\n",
       "      <td>0</td>\n",
       "      <td>0</td>\n",
       "      <td>0</td>\n",
       "      <td>0</td>\n",
       "      <td>1</td>\n",
       "      <td>0</td>\n",
       "    </tr>\n",
       "    <tr>\n",
       "      <th>4</th>\n",
       "      <td>train_Client_0</td>\n",
       "      <td>572</td>\n",
       "      <td>0</td>\n",
       "      <td>0</td>\n",
       "      <td>0</td>\n",
       "      <td>12</td>\n",
       "      <td>572</td>\n",
       "      <td>0</td>\n",
       "      <td>0</td>\n",
       "      <td>0</td>\n",
       "      <td>...</td>\n",
       "      <td>0</td>\n",
       "      <td>0</td>\n",
       "      <td>0</td>\n",
       "      <td>0</td>\n",
       "      <td>0</td>\n",
       "      <td>0</td>\n",
       "      <td>0</td>\n",
       "      <td>0</td>\n",
       "      <td>1</td>\n",
       "      <td>0</td>\n",
       "    </tr>\n",
       "  </tbody>\n",
       "</table>\n",
       "<p>5 rows × 55 columns</p>\n",
       "</div>"
      ],
      "text/plain": [
       "        client_id  consommation_level_1  consommation_level_2  \\\n",
       "0  train_Client_0                    82                     0   \n",
       "1  train_Client_0                  1200                   184   \n",
       "2  train_Client_0                   123                     0   \n",
       "3  train_Client_0                   102                     0   \n",
       "4  train_Client_0                   572                     0   \n",
       "\n",
       "   consommation_level_3  consommation_level_4  months_number  index_dif  \\\n",
       "0                     0                     0              4         82   \n",
       "1                     0                     0              4       1384   \n",
       "2                     0                     0              4        123   \n",
       "3                     0                     0              4        102   \n",
       "4                     0                     0             12        572   \n",
       "\n",
       "   tarif_type_8  tarif_type_9  tarif_type_10  ...  counter_coefficient_6  \\\n",
       "0             0             0              0  ...                      0   \n",
       "1             0             0              0  ...                      0   \n",
       "2             0             0              0  ...                      0   \n",
       "3             0             0              0  ...                      0   \n",
       "4             0             0              0  ...                      0   \n",
       "\n",
       "   counter_coefficient_9  counter_coefficient_10  counter_coefficient_11  \\\n",
       "0                      0                       0                       0   \n",
       "1                      0                       0                       0   \n",
       "2                      0                       0                       0   \n",
       "3                      0                       0                       0   \n",
       "4                      0                       0                       0   \n",
       "\n",
       "   counter_coefficient_20  counter_coefficient_30  counter_coefficient_33  \\\n",
       "0                       0                       0                       0   \n",
       "1                       0                       0                       0   \n",
       "2                       0                       0                       0   \n",
       "3                       0                       0                       0   \n",
       "4                       0                       0                       0   \n",
       "\n",
       "   counter_coefficient_40  counter_type_ELEC  counter_type_GAZ  \n",
       "0                       0                  1                 0  \n",
       "1                       0                  1                 0  \n",
       "2                       0                  1                 0  \n",
       "3                       0                  1                 0  \n",
       "4                       0                  1                 0  \n",
       "\n",
       "[5 rows x 55 columns]"
      ]
     },
     "execution_count": 28,
     "metadata": {},
     "output_type": "execute_result"
    }
   ],
   "source": [
    "#Hot encode the categorical variables for the invoice dataset\n",
    "cat_cols_invoice = ['tarif_type','counter_statue','reading_remarque','counter_coefficient','counter_type']\n",
    "\n",
    "invoice_cat = pd.get_dummies(reduced_invoice_data,columns=cat_cols_invoice)\n",
    "invoice_cat.head()"
   ]
  },
  {
   "cell_type": "code",
   "execution_count": 29,
   "metadata": {},
   "outputs": [
    {
     "data": {
      "text/html": [
       "<div>\n",
       "<style scoped>\n",
       "    .dataframe tbody tr th:only-of-type {\n",
       "        vertical-align: middle;\n",
       "    }\n",
       "\n",
       "    .dataframe tbody tr th {\n",
       "        vertical-align: top;\n",
       "    }\n",
       "\n",
       "    .dataframe thead th {\n",
       "        text-align: right;\n",
       "    }\n",
       "</style>\n",
       "<table border=\"1\" class=\"dataframe\">\n",
       "  <thead>\n",
       "    <tr style=\"text-align: right;\">\n",
       "      <th></th>\n",
       "      <th>client_id</th>\n",
       "      <th>target</th>\n",
       "      <th>invoice_amount</th>\n",
       "      <th>contract_time_length</th>\n",
       "      <th>contract_time_to_latest</th>\n",
       "      <th>client_catg_11</th>\n",
       "      <th>client_catg_12</th>\n",
       "      <th>client_catg_51</th>\n",
       "    </tr>\n",
       "  </thead>\n",
       "  <tbody>\n",
       "    <tr>\n",
       "      <th>0</th>\n",
       "      <td>train_Client_0</td>\n",
       "      <td>0.0</td>\n",
       "      <td>35</td>\n",
       "      <td>27</td>\n",
       "      <td>25</td>\n",
       "      <td>1</td>\n",
       "      <td>0</td>\n",
       "      <td>0</td>\n",
       "    </tr>\n",
       "    <tr>\n",
       "      <th>1</th>\n",
       "      <td>train_Client_1</td>\n",
       "      <td>0.0</td>\n",
       "      <td>37</td>\n",
       "      <td>19</td>\n",
       "      <td>17</td>\n",
       "      <td>1</td>\n",
       "      <td>0</td>\n",
       "      <td>0</td>\n",
       "    </tr>\n",
       "    <tr>\n",
       "      <th>2</th>\n",
       "      <td>train_Client_10</td>\n",
       "      <td>0.0</td>\n",
       "      <td>18</td>\n",
       "      <td>35</td>\n",
       "      <td>33</td>\n",
       "      <td>1</td>\n",
       "      <td>0</td>\n",
       "      <td>0</td>\n",
       "    </tr>\n",
       "    <tr>\n",
       "      <th>3</th>\n",
       "      <td>train_Client_100</td>\n",
       "      <td>0.0</td>\n",
       "      <td>20</td>\n",
       "      <td>25</td>\n",
       "      <td>16</td>\n",
       "      <td>1</td>\n",
       "      <td>0</td>\n",
       "      <td>0</td>\n",
       "    </tr>\n",
       "    <tr>\n",
       "      <th>4</th>\n",
       "      <td>train_Client_1000</td>\n",
       "      <td>0.0</td>\n",
       "      <td>14</td>\n",
       "      <td>7</td>\n",
       "      <td>5</td>\n",
       "      <td>1</td>\n",
       "      <td>0</td>\n",
       "      <td>0</td>\n",
       "    </tr>\n",
       "  </tbody>\n",
       "</table>\n",
       "</div>"
      ],
      "text/plain": [
       "           client_id  target  invoice_amount  contract_time_length  \\\n",
       "0     train_Client_0     0.0              35                    27   \n",
       "1     train_Client_1     0.0              37                    19   \n",
       "2    train_Client_10     0.0              18                    35   \n",
       "3   train_Client_100     0.0              20                    25   \n",
       "4  train_Client_1000     0.0              14                     7   \n",
       "\n",
       "   contract_time_to_latest  client_catg_11  client_catg_12  client_catg_51  \n",
       "0                       25               1               0               0  \n",
       "1                       17               1               0               0  \n",
       "2                       33               1               0               0  \n",
       "3                       16               1               0               0  \n",
       "4                        5               1               0               0  "
      ]
     },
     "execution_count": 29,
     "metadata": {},
     "output_type": "execute_result"
    }
   ],
   "source": [
    "#Hot encode the categorical variables for the client dataset\n",
    "cat_cols_client = ['client_catg']\n",
    "\n",
    "client_cat = pd.get_dummies(reduced_client_data,columns=cat_cols_client)\n",
    "client_cat.head()"
   ]
  },
  {
   "cell_type": "markdown",
   "metadata": {},
   "source": [
    "<span style=\"color:red\">Needs markdown</span>"
   ]
  },
  {
   "cell_type": "code",
   "execution_count": 30,
   "metadata": {},
   "outputs": [
    {
     "data": {
      "text/html": [
       "<div>\n",
       "<style scoped>\n",
       "    .dataframe tbody tr th:only-of-type {\n",
       "        vertical-align: middle;\n",
       "    }\n",
       "\n",
       "    .dataframe tbody tr th {\n",
       "        vertical-align: top;\n",
       "    }\n",
       "\n",
       "    .dataframe thead th {\n",
       "        text-align: right;\n",
       "    }\n",
       "</style>\n",
       "<table border=\"1\" class=\"dataframe\">\n",
       "  <thead>\n",
       "    <tr style=\"text-align: right;\">\n",
       "      <th></th>\n",
       "      <th>tarif_type_8</th>\n",
       "      <th>tarif_type_9</th>\n",
       "      <th>tarif_type_10</th>\n",
       "      <th>tarif_type_11</th>\n",
       "      <th>tarif_type_12</th>\n",
       "      <th>tarif_type_13</th>\n",
       "      <th>tarif_type_14</th>\n",
       "      <th>tarif_type_15</th>\n",
       "      <th>tarif_type_18</th>\n",
       "      <th>tarif_type_21</th>\n",
       "      <th>...</th>\n",
       "      <th>counter_coefficient_6</th>\n",
       "      <th>counter_coefficient_9</th>\n",
       "      <th>counter_coefficient_10</th>\n",
       "      <th>counter_coefficient_11</th>\n",
       "      <th>counter_coefficient_20</th>\n",
       "      <th>counter_coefficient_30</th>\n",
       "      <th>counter_coefficient_33</th>\n",
       "      <th>counter_coefficient_40</th>\n",
       "      <th>counter_type_ELEC</th>\n",
       "      <th>counter_type_GAZ</th>\n",
       "    </tr>\n",
       "    <tr>\n",
       "      <th>client_id</th>\n",
       "      <th></th>\n",
       "      <th></th>\n",
       "      <th></th>\n",
       "      <th></th>\n",
       "      <th></th>\n",
       "      <th></th>\n",
       "      <th></th>\n",
       "      <th></th>\n",
       "      <th></th>\n",
       "      <th></th>\n",
       "      <th></th>\n",
       "      <th></th>\n",
       "      <th></th>\n",
       "      <th></th>\n",
       "      <th></th>\n",
       "      <th></th>\n",
       "      <th></th>\n",
       "      <th></th>\n",
       "      <th></th>\n",
       "      <th></th>\n",
       "      <th></th>\n",
       "    </tr>\n",
       "  </thead>\n",
       "  <tbody>\n",
       "    <tr>\n",
       "      <th>train_Client_0</th>\n",
       "      <td>0.0</td>\n",
       "      <td>0.0</td>\n",
       "      <td>0.0</td>\n",
       "      <td>1.0</td>\n",
       "      <td>0.0</td>\n",
       "      <td>0.0</td>\n",
       "      <td>0.0</td>\n",
       "      <td>0.0</td>\n",
       "      <td>0.0</td>\n",
       "      <td>0.0</td>\n",
       "      <td>...</td>\n",
       "      <td>0.0</td>\n",
       "      <td>0.0</td>\n",
       "      <td>0.0</td>\n",
       "      <td>0.0</td>\n",
       "      <td>0.0</td>\n",
       "      <td>0.0</td>\n",
       "      <td>0.0</td>\n",
       "      <td>0.0</td>\n",
       "      <td>1.0</td>\n",
       "      <td>0.0</td>\n",
       "    </tr>\n",
       "    <tr>\n",
       "      <th>train_Client_1</th>\n",
       "      <td>0.0</td>\n",
       "      <td>0.0</td>\n",
       "      <td>0.0</td>\n",
       "      <td>1.0</td>\n",
       "      <td>0.0</td>\n",
       "      <td>0.0</td>\n",
       "      <td>0.0</td>\n",
       "      <td>0.0</td>\n",
       "      <td>0.0</td>\n",
       "      <td>0.0</td>\n",
       "      <td>...</td>\n",
       "      <td>0.0</td>\n",
       "      <td>0.0</td>\n",
       "      <td>0.0</td>\n",
       "      <td>0.0</td>\n",
       "      <td>0.0</td>\n",
       "      <td>0.0</td>\n",
       "      <td>0.0</td>\n",
       "      <td>0.0</td>\n",
       "      <td>1.0</td>\n",
       "      <td>0.0</td>\n",
       "    </tr>\n",
       "    <tr>\n",
       "      <th>train_Client_10</th>\n",
       "      <td>0.0</td>\n",
       "      <td>0.0</td>\n",
       "      <td>0.0</td>\n",
       "      <td>1.0</td>\n",
       "      <td>0.0</td>\n",
       "      <td>0.0</td>\n",
       "      <td>0.0</td>\n",
       "      <td>0.0</td>\n",
       "      <td>0.0</td>\n",
       "      <td>0.0</td>\n",
       "      <td>...</td>\n",
       "      <td>0.0</td>\n",
       "      <td>0.0</td>\n",
       "      <td>0.0</td>\n",
       "      <td>0.0</td>\n",
       "      <td>0.0</td>\n",
       "      <td>0.0</td>\n",
       "      <td>0.0</td>\n",
       "      <td>0.0</td>\n",
       "      <td>1.0</td>\n",
       "      <td>0.0</td>\n",
       "    </tr>\n",
       "    <tr>\n",
       "      <th>train_Client_100</th>\n",
       "      <td>0.0</td>\n",
       "      <td>0.0</td>\n",
       "      <td>0.0</td>\n",
       "      <td>1.0</td>\n",
       "      <td>0.0</td>\n",
       "      <td>0.0</td>\n",
       "      <td>0.0</td>\n",
       "      <td>0.0</td>\n",
       "      <td>0.0</td>\n",
       "      <td>0.0</td>\n",
       "      <td>...</td>\n",
       "      <td>0.0</td>\n",
       "      <td>0.0</td>\n",
       "      <td>0.0</td>\n",
       "      <td>0.0</td>\n",
       "      <td>0.0</td>\n",
       "      <td>0.0</td>\n",
       "      <td>0.0</td>\n",
       "      <td>0.0</td>\n",
       "      <td>1.0</td>\n",
       "      <td>0.0</td>\n",
       "    </tr>\n",
       "    <tr>\n",
       "      <th>train_Client_1000</th>\n",
       "      <td>0.0</td>\n",
       "      <td>0.0</td>\n",
       "      <td>0.0</td>\n",
       "      <td>1.0</td>\n",
       "      <td>0.0</td>\n",
       "      <td>0.0</td>\n",
       "      <td>0.0</td>\n",
       "      <td>0.0</td>\n",
       "      <td>0.0</td>\n",
       "      <td>0.0</td>\n",
       "      <td>...</td>\n",
       "      <td>0.0</td>\n",
       "      <td>0.0</td>\n",
       "      <td>0.0</td>\n",
       "      <td>0.0</td>\n",
       "      <td>0.0</td>\n",
       "      <td>0.0</td>\n",
       "      <td>0.0</td>\n",
       "      <td>0.0</td>\n",
       "      <td>1.0</td>\n",
       "      <td>0.0</td>\n",
       "    </tr>\n",
       "  </tbody>\n",
       "</table>\n",
       "<p>5 rows × 48 columns</p>\n",
       "</div>"
      ],
      "text/plain": [
       "                   tarif_type_8  tarif_type_9  tarif_type_10  tarif_type_11  \\\n",
       "client_id                                                                     \n",
       "train_Client_0              0.0           0.0            0.0            1.0   \n",
       "train_Client_1              0.0           0.0            0.0            1.0   \n",
       "train_Client_10             0.0           0.0            0.0            1.0   \n",
       "train_Client_100            0.0           0.0            0.0            1.0   \n",
       "train_Client_1000           0.0           0.0            0.0            1.0   \n",
       "\n",
       "                   tarif_type_12  tarif_type_13  tarif_type_14  tarif_type_15  \\\n",
       "client_id                                                                       \n",
       "train_Client_0               0.0            0.0            0.0            0.0   \n",
       "train_Client_1               0.0            0.0            0.0            0.0   \n",
       "train_Client_10              0.0            0.0            0.0            0.0   \n",
       "train_Client_100             0.0            0.0            0.0            0.0   \n",
       "train_Client_1000            0.0            0.0            0.0            0.0   \n",
       "\n",
       "                   tarif_type_18  tarif_type_21  ...  counter_coefficient_6  \\\n",
       "client_id                                        ...                          \n",
       "train_Client_0               0.0            0.0  ...                    0.0   \n",
       "train_Client_1               0.0            0.0  ...                    0.0   \n",
       "train_Client_10              0.0            0.0  ...                    0.0   \n",
       "train_Client_100             0.0            0.0  ...                    0.0   \n",
       "train_Client_1000            0.0            0.0  ...                    0.0   \n",
       "\n",
       "                   counter_coefficient_9  counter_coefficient_10  \\\n",
       "client_id                                                          \n",
       "train_Client_0                       0.0                     0.0   \n",
       "train_Client_1                       0.0                     0.0   \n",
       "train_Client_10                      0.0                     0.0   \n",
       "train_Client_100                     0.0                     0.0   \n",
       "train_Client_1000                    0.0                     0.0   \n",
       "\n",
       "                   counter_coefficient_11  counter_coefficient_20  \\\n",
       "client_id                                                           \n",
       "train_Client_0                        0.0                     0.0   \n",
       "train_Client_1                        0.0                     0.0   \n",
       "train_Client_10                       0.0                     0.0   \n",
       "train_Client_100                      0.0                     0.0   \n",
       "train_Client_1000                     0.0                     0.0   \n",
       "\n",
       "                   counter_coefficient_30  counter_coefficient_33  \\\n",
       "client_id                                                           \n",
       "train_Client_0                        0.0                     0.0   \n",
       "train_Client_1                        0.0                     0.0   \n",
       "train_Client_10                       0.0                     0.0   \n",
       "train_Client_100                      0.0                     0.0   \n",
       "train_Client_1000                     0.0                     0.0   \n",
       "\n",
       "                   counter_coefficient_40  counter_type_ELEC  counter_type_GAZ  \n",
       "client_id                                                                       \n",
       "train_Client_0                        0.0                1.0               0.0  \n",
       "train_Client_1                        0.0                1.0               0.0  \n",
       "train_Client_10                       0.0                1.0               0.0  \n",
       "train_Client_100                      0.0                1.0               0.0  \n",
       "train_Client_1000                     0.0                1.0               0.0  \n",
       "\n",
       "[5 rows x 48 columns]"
      ]
     },
     "execution_count": 30,
     "metadata": {},
     "output_type": "execute_result"
    }
   ],
   "source": [
    "df_mean = invoice_cat.groupby('client_id').agg('mean').iloc[:,6:]\n",
    "df_mean.head()"
   ]
  },
  {
   "cell_type": "markdown",
   "metadata": {},
   "source": [
    "<span style=\"color:red\">Needs markdown</span>"
   ]
  },
  {
   "cell_type": "code",
   "execution_count": 31,
   "metadata": {},
   "outputs": [
    {
     "data": {
      "text/html": [
       "<div>\n",
       "<style scoped>\n",
       "    .dataframe tbody tr th:only-of-type {\n",
       "        vertical-align: middle;\n",
       "    }\n",
       "\n",
       "    .dataframe tbody tr th {\n",
       "        vertical-align: top;\n",
       "    }\n",
       "\n",
       "    .dataframe thead th {\n",
       "        text-align: right;\n",
       "    }\n",
       "</style>\n",
       "<table border=\"1\" class=\"dataframe\">\n",
       "  <thead>\n",
       "    <tr style=\"text-align: right;\">\n",
       "      <th></th>\n",
       "      <th>consommation_level_1_min</th>\n",
       "      <th>consommation_level_1_max</th>\n",
       "      <th>consommation_level_1_mean</th>\n",
       "      <th>consommation_level_1_std</th>\n",
       "      <th>consommation_level_2_min</th>\n",
       "      <th>consommation_level_2_max</th>\n",
       "      <th>consommation_level_2_mean</th>\n",
       "      <th>consommation_level_2_std</th>\n",
       "      <th>consommation_level_3_min</th>\n",
       "      <th>consommation_level_3_max</th>\n",
       "      <th>...</th>\n",
       "      <th>consommation_level_4_mean</th>\n",
       "      <th>consommation_level_4_std</th>\n",
       "      <th>index_dif_min</th>\n",
       "      <th>index_dif_max</th>\n",
       "      <th>index_dif_mean</th>\n",
       "      <th>index_dif_std</th>\n",
       "      <th>months_number_min</th>\n",
       "      <th>months_number_max</th>\n",
       "      <th>months_number_mean</th>\n",
       "      <th>months_number_std</th>\n",
       "    </tr>\n",
       "    <tr>\n",
       "      <th>client_id</th>\n",
       "      <th></th>\n",
       "      <th></th>\n",
       "      <th></th>\n",
       "      <th></th>\n",
       "      <th></th>\n",
       "      <th></th>\n",
       "      <th></th>\n",
       "      <th></th>\n",
       "      <th></th>\n",
       "      <th></th>\n",
       "      <th></th>\n",
       "      <th></th>\n",
       "      <th></th>\n",
       "      <th></th>\n",
       "      <th></th>\n",
       "      <th></th>\n",
       "      <th></th>\n",
       "      <th></th>\n",
       "      <th></th>\n",
       "      <th></th>\n",
       "      <th></th>\n",
       "    </tr>\n",
       "  </thead>\n",
       "  <tbody>\n",
       "    <tr>\n",
       "      <th>train_Client_0</th>\n",
       "      <td>38</td>\n",
       "      <td>1200</td>\n",
       "      <td>352.400000</td>\n",
       "      <td>310.343472</td>\n",
       "      <td>0</td>\n",
       "      <td>186</td>\n",
       "      <td>10.571429</td>\n",
       "      <td>43.568935</td>\n",
       "      <td>0</td>\n",
       "      <td>0</td>\n",
       "      <td>...</td>\n",
       "      <td>0.000000</td>\n",
       "      <td>0.000000</td>\n",
       "      <td>38</td>\n",
       "      <td>1386</td>\n",
       "      <td>362.971429</td>\n",
       "      <td>341.553930</td>\n",
       "      <td>2</td>\n",
       "      <td>12</td>\n",
       "      <td>4.628571</td>\n",
       "      <td>2.101620</td>\n",
       "    </tr>\n",
       "    <tr>\n",
       "      <th>train_Client_1</th>\n",
       "      <td>190</td>\n",
       "      <td>1207</td>\n",
       "      <td>557.540541</td>\n",
       "      <td>197.935960</td>\n",
       "      <td>0</td>\n",
       "      <td>0</td>\n",
       "      <td>0.000000</td>\n",
       "      <td>0.000000</td>\n",
       "      <td>0</td>\n",
       "      <td>0</td>\n",
       "      <td>...</td>\n",
       "      <td>0.000000</td>\n",
       "      <td>0.000000</td>\n",
       "      <td>190</td>\n",
       "      <td>1207</td>\n",
       "      <td>557.540541</td>\n",
       "      <td>197.935960</td>\n",
       "      <td>2</td>\n",
       "      <td>8</td>\n",
       "      <td>4.324324</td>\n",
       "      <td>1.375461</td>\n",
       "    </tr>\n",
       "    <tr>\n",
       "      <th>train_Client_10</th>\n",
       "      <td>188</td>\n",
       "      <td>1355</td>\n",
       "      <td>704.411765</td>\n",
       "      <td>332.909909</td>\n",
       "      <td>0</td>\n",
       "      <td>0</td>\n",
       "      <td>0.000000</td>\n",
       "      <td>0.000000</td>\n",
       "      <td>0</td>\n",
       "      <td>0</td>\n",
       "      <td>...</td>\n",
       "      <td>0.000000</td>\n",
       "      <td>0.000000</td>\n",
       "      <td>188</td>\n",
       "      <td>1355</td>\n",
       "      <td>704.411765</td>\n",
       "      <td>332.909909</td>\n",
       "      <td>4</td>\n",
       "      <td>12</td>\n",
       "      <td>6.117647</td>\n",
       "      <td>3.199265</td>\n",
       "    </tr>\n",
       "    <tr>\n",
       "      <th>train_Client_100</th>\n",
       "      <td>0</td>\n",
       "      <td>15</td>\n",
       "      <td>1.200000</td>\n",
       "      <td>3.607011</td>\n",
       "      <td>0</td>\n",
       "      <td>0</td>\n",
       "      <td>0.000000</td>\n",
       "      <td>0.000000</td>\n",
       "      <td>0</td>\n",
       "      <td>0</td>\n",
       "      <td>...</td>\n",
       "      <td>0.000000</td>\n",
       "      <td>0.000000</td>\n",
       "      <td>0</td>\n",
       "      <td>15</td>\n",
       "      <td>1.200000</td>\n",
       "      <td>3.607011</td>\n",
       "      <td>4</td>\n",
       "      <td>6</td>\n",
       "      <td>4.200000</td>\n",
       "      <td>0.615587</td>\n",
       "    </tr>\n",
       "    <tr>\n",
       "      <th>train_Client_1000</th>\n",
       "      <td>124</td>\n",
       "      <td>800</td>\n",
       "      <td>663.714286</td>\n",
       "      <td>224.831365</td>\n",
       "      <td>0</td>\n",
       "      <td>400</td>\n",
       "      <td>104.857143</td>\n",
       "      <td>167.155320</td>\n",
       "      <td>0</td>\n",
       "      <td>800</td>\n",
       "      <td>...</td>\n",
       "      <td>36.714286</td>\n",
       "      <td>105.421081</td>\n",
       "      <td>124</td>\n",
       "      <td>2382</td>\n",
       "      <td>922.642857</td>\n",
       "      <td>633.485669</td>\n",
       "      <td>2</td>\n",
       "      <td>4</td>\n",
       "      <td>3.714286</td>\n",
       "      <td>0.726273</td>\n",
       "    </tr>\n",
       "  </tbody>\n",
       "</table>\n",
       "<p>5 rows × 24 columns</p>\n",
       "</div>"
      ],
      "text/plain": [
       "                   consommation_level_1_min  consommation_level_1_max  \\\n",
       "client_id                                                               \n",
       "train_Client_0                           38                      1200   \n",
       "train_Client_1                          190                      1207   \n",
       "train_Client_10                         188                      1355   \n",
       "train_Client_100                          0                        15   \n",
       "train_Client_1000                       124                       800   \n",
       "\n",
       "                   consommation_level_1_mean  consommation_level_1_std  \\\n",
       "client_id                                                                \n",
       "train_Client_0                    352.400000                310.343472   \n",
       "train_Client_1                    557.540541                197.935960   \n",
       "train_Client_10                   704.411765                332.909909   \n",
       "train_Client_100                    1.200000                  3.607011   \n",
       "train_Client_1000                 663.714286                224.831365   \n",
       "\n",
       "                   consommation_level_2_min  consommation_level_2_max  \\\n",
       "client_id                                                               \n",
       "train_Client_0                            0                       186   \n",
       "train_Client_1                            0                         0   \n",
       "train_Client_10                           0                         0   \n",
       "train_Client_100                          0                         0   \n",
       "train_Client_1000                         0                       400   \n",
       "\n",
       "                   consommation_level_2_mean  consommation_level_2_std  \\\n",
       "client_id                                                                \n",
       "train_Client_0                     10.571429                 43.568935   \n",
       "train_Client_1                      0.000000                  0.000000   \n",
       "train_Client_10                     0.000000                  0.000000   \n",
       "train_Client_100                    0.000000                  0.000000   \n",
       "train_Client_1000                 104.857143                167.155320   \n",
       "\n",
       "                   consommation_level_3_min  consommation_level_3_max  ...  \\\n",
       "client_id                                                              ...   \n",
       "train_Client_0                            0                         0  ...   \n",
       "train_Client_1                            0                         0  ...   \n",
       "train_Client_10                           0                         0  ...   \n",
       "train_Client_100                          0                         0  ...   \n",
       "train_Client_1000                         0                       800  ...   \n",
       "\n",
       "                   consommation_level_4_mean  consommation_level_4_std  \\\n",
       "client_id                                                                \n",
       "train_Client_0                      0.000000                  0.000000   \n",
       "train_Client_1                      0.000000                  0.000000   \n",
       "train_Client_10                     0.000000                  0.000000   \n",
       "train_Client_100                    0.000000                  0.000000   \n",
       "train_Client_1000                  36.714286                105.421081   \n",
       "\n",
       "                   index_dif_min  index_dif_max  index_dif_mean  \\\n",
       "client_id                                                         \n",
       "train_Client_0                38           1386      362.971429   \n",
       "train_Client_1               190           1207      557.540541   \n",
       "train_Client_10              188           1355      704.411765   \n",
       "train_Client_100               0             15        1.200000   \n",
       "train_Client_1000            124           2382      922.642857   \n",
       "\n",
       "                   index_dif_std  months_number_min  months_number_max  \\\n",
       "client_id                                                                \n",
       "train_Client_0        341.553930                  2                 12   \n",
       "train_Client_1        197.935960                  2                  8   \n",
       "train_Client_10       332.909909                  4                 12   \n",
       "train_Client_100        3.607011                  4                  6   \n",
       "train_Client_1000     633.485669                  2                  4   \n",
       "\n",
       "                   months_number_mean  months_number_std  \n",
       "client_id                                                 \n",
       "train_Client_0               4.628571           2.101620  \n",
       "train_Client_1               4.324324           1.375461  \n",
       "train_Client_10              6.117647           3.199265  \n",
       "train_Client_100             4.200000           0.615587  \n",
       "train_Client_1000            3.714286           0.726273  \n",
       "\n",
       "[5 rows x 24 columns]"
      ]
     },
     "execution_count": 31,
     "metadata": {},
     "output_type": "execute_result"
    }
   ],
   "source": [
    "df_cons= invoice_cat.groupby('client_id').agg({'consommation_level_1': ['min', 'max','mean','std'],\n",
    "                                     'consommation_level_2': ['min', 'max','mean','std'],\n",
    "                                     'consommation_level_3': ['min', 'max','mean','std'],\n",
    "                                     'consommation_level_4': ['min', 'max','mean','std'],\n",
    "                                     'index_dif': ['min', 'max','mean','std'],\n",
    "                                     'months_number': ['min', 'max','mean','std']})\n",
    "\n",
    "df_cons.columns = ['consommation_level_1_min','consommation_level_1_max','consommation_level_1_mean','consommation_level_1_std','consommation_level_2_min','consommation_level_2_max','consommation_level_2_mean','consommation_level_2_std','consommation_level_3_min','consommation_level_3_max','consommation_level_3_mean','consommation_level_3_std','consommation_level_4_min','consommation_level_4_max','consommation_level_4_mean','consommation_level_4_std','index_dif_min','index_dif_max','index_dif_mean','index_dif_std','months_number_min','months_number_max','months_number_mean','months_number_std']\n",
    "df_cons.head()"
   ]
  },
  {
   "cell_type": "code",
   "execution_count": 32,
   "metadata": {},
   "outputs": [],
   "source": [
    "#merging the grouped invoice data set of means and describe()\n",
    "derived_invoice = df_cons.merge(df_mean,on='client_id')"
   ]
  },
  {
   "cell_type": "code",
   "execution_count": 33,
   "metadata": {},
   "outputs": [],
   "source": [
    "#merging grouped invoice dataset with the original client dataset\n",
    "final_dataset = client_cat.merge(derived_invoice,on='client_id')\n",
    "final_dataset.drop(columns=['client_id'],inplace=True)"
   ]
  },
  {
   "cell_type": "code",
   "execution_count": 34,
   "metadata": {},
   "outputs": [
    {
     "data": {
      "text/html": [
       "<div>\n",
       "<style scoped>\n",
       "    .dataframe tbody tr th:only-of-type {\n",
       "        vertical-align: middle;\n",
       "    }\n",
       "\n",
       "    .dataframe tbody tr th {\n",
       "        vertical-align: top;\n",
       "    }\n",
       "\n",
       "    .dataframe thead th {\n",
       "        text-align: right;\n",
       "    }\n",
       "</style>\n",
       "<table border=\"1\" class=\"dataframe\">\n",
       "  <thead>\n",
       "    <tr style=\"text-align: right;\">\n",
       "      <th></th>\n",
       "      <th>consommation_level_1_min</th>\n",
       "      <th>consommation_level_1_max</th>\n",
       "      <th>consommation_level_1_mean</th>\n",
       "      <th>consommation_level_1_std</th>\n",
       "      <th>consommation_level_2_min</th>\n",
       "      <th>consommation_level_2_max</th>\n",
       "      <th>consommation_level_2_mean</th>\n",
       "      <th>consommation_level_2_std</th>\n",
       "      <th>consommation_level_3_min</th>\n",
       "      <th>consommation_level_3_max</th>\n",
       "      <th>consommation_level_3_mean</th>\n",
       "      <th>consommation_level_3_std</th>\n",
       "      <th>consommation_level_4_min</th>\n",
       "      <th>consommation_level_4_max</th>\n",
       "      <th>consommation_level_4_mean</th>\n",
       "      <th>consommation_level_4_std</th>\n",
       "    </tr>\n",
       "  </thead>\n",
       "  <tbody>\n",
       "    <tr>\n",
       "      <th>count</th>\n",
       "      <td>134351.000000</td>\n",
       "      <td>134351.000000</td>\n",
       "      <td>134351.000000</td>\n",
       "      <td>134351.000000</td>\n",
       "      <td>134351.000000</td>\n",
       "      <td>134351.000000</td>\n",
       "      <td>134351.000000</td>\n",
       "      <td>134351.000000</td>\n",
       "      <td>134351.000000</td>\n",
       "      <td>134351.000000</td>\n",
       "      <td>134351.000000</td>\n",
       "      <td>134351.000000</td>\n",
       "      <td>134351.000000</td>\n",
       "      <td>134351.000000</td>\n",
       "      <td>134351.000000</td>\n",
       "      <td>134351.000000</td>\n",
       "    </tr>\n",
       "    <tr>\n",
       "      <th>mean</th>\n",
       "      <td>69.422483</td>\n",
       "      <td>926.885494</td>\n",
       "      <td>355.562843</td>\n",
       "      <td>243.231549</td>\n",
       "      <td>3.989222</td>\n",
       "      <td>230.936651</td>\n",
       "      <td>39.662657</td>\n",
       "      <td>60.486867</td>\n",
       "      <td>1.621603</td>\n",
       "      <td>118.946796</td>\n",
       "      <td>14.341594</td>\n",
       "      <td>28.874621</td>\n",
       "      <td>1.156910</td>\n",
       "      <td>40.636780</td>\n",
       "      <td>7.341622</td>\n",
       "      <td>10.395134</td>\n",
       "    </tr>\n",
       "    <tr>\n",
       "      <th>std</th>\n",
       "      <td>156.477999</td>\n",
       "      <td>466.581411</td>\n",
       "      <td>224.302359</td>\n",
       "      <td>138.365269</td>\n",
       "      <td>37.608116</td>\n",
       "      <td>281.537526</td>\n",
       "      <td>80.849558</td>\n",
       "      <td>81.486897</td>\n",
       "      <td>28.108149</td>\n",
       "      <td>245.017641</td>\n",
       "      <td>53.531201</td>\n",
       "      <td>68.214512</td>\n",
       "      <td>32.630646</td>\n",
       "      <td>188.722199</td>\n",
       "      <td>66.593621</td>\n",
       "      <td>56.662552</td>\n",
       "    </tr>\n",
       "    <tr>\n",
       "      <th>min</th>\n",
       "      <td>0.000000</td>\n",
       "      <td>0.000000</td>\n",
       "      <td>0.000000</td>\n",
       "      <td>0.000000</td>\n",
       "      <td>0.000000</td>\n",
       "      <td>0.000000</td>\n",
       "      <td>0.000000</td>\n",
       "      <td>0.000000</td>\n",
       "      <td>0.000000</td>\n",
       "      <td>0.000000</td>\n",
       "      <td>0.000000</td>\n",
       "      <td>0.000000</td>\n",
       "      <td>0.000000</td>\n",
       "      <td>0.000000</td>\n",
       "      <td>0.000000</td>\n",
       "      <td>0.000000</td>\n",
       "    </tr>\n",
       "    <tr>\n",
       "      <th>25%</th>\n",
       "      <td>0.000000</td>\n",
       "      <td>604.000000</td>\n",
       "      <td>200.171069</td>\n",
       "      <td>148.761361</td>\n",
       "      <td>0.000000</td>\n",
       "      <td>0.000000</td>\n",
       "      <td>0.000000</td>\n",
       "      <td>0.000000</td>\n",
       "      <td>0.000000</td>\n",
       "      <td>0.000000</td>\n",
       "      <td>0.000000</td>\n",
       "      <td>0.000000</td>\n",
       "      <td>0.000000</td>\n",
       "      <td>0.000000</td>\n",
       "      <td>0.000000</td>\n",
       "      <td>0.000000</td>\n",
       "    </tr>\n",
       "    <tr>\n",
       "      <th>50%</th>\n",
       "      <td>0.000000</td>\n",
       "      <td>963.000000</td>\n",
       "      <td>329.725000</td>\n",
       "      <td>250.167649</td>\n",
       "      <td>0.000000</td>\n",
       "      <td>82.000000</td>\n",
       "      <td>2.666667</td>\n",
       "      <td>12.701706</td>\n",
       "      <td>0.000000</td>\n",
       "      <td>0.000000</td>\n",
       "      <td>0.000000</td>\n",
       "      <td>0.000000</td>\n",
       "      <td>0.000000</td>\n",
       "      <td>0.000000</td>\n",
       "      <td>0.000000</td>\n",
       "      <td>0.000000</td>\n",
       "    </tr>\n",
       "    <tr>\n",
       "      <th>75%</th>\n",
       "      <td>59.000000</td>\n",
       "      <td>1251.000000</td>\n",
       "      <td>481.864251</td>\n",
       "      <td>338.452215</td>\n",
       "      <td>0.000000</td>\n",
       "      <td>400.000000</td>\n",
       "      <td>42.286678</td>\n",
       "      <td>106.954641</td>\n",
       "      <td>0.000000</td>\n",
       "      <td>35.000000</td>\n",
       "      <td>0.928571</td>\n",
       "      <td>4.601586</td>\n",
       "      <td>0.000000</td>\n",
       "      <td>0.000000</td>\n",
       "      <td>0.000000</td>\n",
       "      <td>0.000000</td>\n",
       "    </tr>\n",
       "    <tr>\n",
       "      <th>max</th>\n",
       "      <td>1604.000000</td>\n",
       "      <td>1604.000000</td>\n",
       "      <td>1604.000000</td>\n",
       "      <td>1131.370850</td>\n",
       "      <td>968.000000</td>\n",
       "      <td>968.000000</td>\n",
       "      <td>968.000000</td>\n",
       "      <td>682.358044</td>\n",
       "      <td>895.000000</td>\n",
       "      <td>1200.000000</td>\n",
       "      <td>895.000000</td>\n",
       "      <td>704.985461</td>\n",
       "      <td>1970.000000</td>\n",
       "      <td>2233.000000</td>\n",
       "      <td>2010.000000</td>\n",
       "      <td>1354.816593</td>\n",
       "    </tr>\n",
       "  </tbody>\n",
       "</table>\n",
       "</div>"
      ],
      "text/plain": [
       "       consommation_level_1_min  consommation_level_1_max  \\\n",
       "count             134351.000000             134351.000000   \n",
       "mean                  69.422483                926.885494   \n",
       "std                  156.477999                466.581411   \n",
       "min                    0.000000                  0.000000   \n",
       "25%                    0.000000                604.000000   \n",
       "50%                    0.000000                963.000000   \n",
       "75%                   59.000000               1251.000000   \n",
       "max                 1604.000000               1604.000000   \n",
       "\n",
       "       consommation_level_1_mean  consommation_level_1_std  \\\n",
       "count              134351.000000             134351.000000   \n",
       "mean                  355.562843                243.231549   \n",
       "std                   224.302359                138.365269   \n",
       "min                     0.000000                  0.000000   \n",
       "25%                   200.171069                148.761361   \n",
       "50%                   329.725000                250.167649   \n",
       "75%                   481.864251                338.452215   \n",
       "max                  1604.000000               1131.370850   \n",
       "\n",
       "       consommation_level_2_min  consommation_level_2_max  \\\n",
       "count             134351.000000             134351.000000   \n",
       "mean                   3.989222                230.936651   \n",
       "std                   37.608116                281.537526   \n",
       "min                    0.000000                  0.000000   \n",
       "25%                    0.000000                  0.000000   \n",
       "50%                    0.000000                 82.000000   \n",
       "75%                    0.000000                400.000000   \n",
       "max                  968.000000                968.000000   \n",
       "\n",
       "       consommation_level_2_mean  consommation_level_2_std  \\\n",
       "count              134351.000000             134351.000000   \n",
       "mean                   39.662657                 60.486867   \n",
       "std                    80.849558                 81.486897   \n",
       "min                     0.000000                  0.000000   \n",
       "25%                     0.000000                  0.000000   \n",
       "50%                     2.666667                 12.701706   \n",
       "75%                    42.286678                106.954641   \n",
       "max                   968.000000                682.358044   \n",
       "\n",
       "       consommation_level_3_min  consommation_level_3_max  \\\n",
       "count             134351.000000             134351.000000   \n",
       "mean                   1.621603                118.946796   \n",
       "std                   28.108149                245.017641   \n",
       "min                    0.000000                  0.000000   \n",
       "25%                    0.000000                  0.000000   \n",
       "50%                    0.000000                  0.000000   \n",
       "75%                    0.000000                 35.000000   \n",
       "max                  895.000000               1200.000000   \n",
       "\n",
       "       consommation_level_3_mean  consommation_level_3_std  \\\n",
       "count              134351.000000             134351.000000   \n",
       "mean                   14.341594                 28.874621   \n",
       "std                    53.531201                 68.214512   \n",
       "min                     0.000000                  0.000000   \n",
       "25%                     0.000000                  0.000000   \n",
       "50%                     0.000000                  0.000000   \n",
       "75%                     0.928571                  4.601586   \n",
       "max                   895.000000                704.985461   \n",
       "\n",
       "       consommation_level_4_min  consommation_level_4_max  \\\n",
       "count             134351.000000             134351.000000   \n",
       "mean                   1.156910                 40.636780   \n",
       "std                   32.630646                188.722199   \n",
       "min                    0.000000                  0.000000   \n",
       "25%                    0.000000                  0.000000   \n",
       "50%                    0.000000                  0.000000   \n",
       "75%                    0.000000                  0.000000   \n",
       "max                 1970.000000               2233.000000   \n",
       "\n",
       "       consommation_level_4_mean  consommation_level_4_std  \n",
       "count              134351.000000             134351.000000  \n",
       "mean                    7.341622                 10.395134  \n",
       "std                    66.593621                 56.662552  \n",
       "min                     0.000000                  0.000000  \n",
       "25%                     0.000000                  0.000000  \n",
       "50%                     0.000000                  0.000000  \n",
       "75%                     0.000000                  0.000000  \n",
       "max                  2010.000000               1354.816593  "
      ]
     },
     "execution_count": 34,
     "metadata": {},
     "output_type": "execute_result"
    }
   ],
   "source": [
    "final_dataset.fillna(0,inplace=True) #There are NaN where because standard deviation of one invoice gives error\n",
    "final_dataset[['consommation_level_1_min',\n",
    "       'consommation_level_1_max', 'consommation_level_1_mean',\n",
    "       'consommation_level_1_std', 'consommation_level_2_min',\n",
    "       'consommation_level_2_max', 'consommation_level_2_mean',\n",
    "       'consommation_level_2_std', 'consommation_level_3_min',\n",
    "       'consommation_level_3_max', 'consommation_level_3_mean',\n",
    "       'consommation_level_3_std', 'consommation_level_4_min',\n",
    "       'consommation_level_4_max', 'consommation_level_4_mean',\n",
    "       'consommation_level_4_std']].describe()\n"
   ]
  },
  {
   "cell_type": "code",
   "execution_count": null,
   "metadata": {},
   "outputs": [],
   "source": []
  },
  {
   "cell_type": "code",
   "execution_count": 35,
   "metadata": {},
   "outputs": [
    {
     "data": {
      "text/plain": [
       "count    134351.000000\n",
       "mean       1160.063810\n",
       "std         661.591759\n",
       "min           0.000000\n",
       "25%         660.000000\n",
       "50%        1151.000000\n",
       "75%        1618.000000\n",
       "max        2500.000000\n",
       "Name: index_dif_max, dtype: float64"
      ]
     },
     "execution_count": 35,
     "metadata": {},
     "output_type": "execute_result"
    }
   ],
   "source": [
    "final_dataset['index_dif_max'].describe()"
   ]
  },
  {
   "cell_type": "markdown",
   "metadata": {},
   "source": [
    "<span style=\"color:red\">We need to plot the data that we got and make comments on it</span>\n",
    "    \n",
    "<span style=\"color:red\">We also need to one hot encode the rest of the categorical values</span>\n",
    "\n",
    "<span style=\"color:red\">We also need to decide what to do with district and region and we need to drop cliend_id</span>"
   ]
  },
  {
   "cell_type": "code",
   "execution_count": null,
   "metadata": {},
   "outputs": [],
   "source": []
  },
  {
   "cell_type": "markdown",
   "metadata": {},
   "source": [
    "## Data preparation \n"
   ]
  },
  {
   "cell_type": "markdown",
   "metadata": {},
   "source": [
    "<span style=\"color:red\">Data reshaped using centering, normalization or standardization.\n",
    "More than one type of data preprocessing technique was considered.\n",
    "Motivation for the choice of technique.</span>"
   ]
  },
  {
   "cell_type": "code",
   "execution_count": 36,
   "metadata": {},
   "outputs": [],
   "source": [
    "#Splitting the data\n",
    "X = final_dataset.drop(columns=['target']).values\n",
    "y = final_dataset['target'].values"
   ]
  },
  {
   "cell_type": "code",
   "execution_count": 37,
   "metadata": {},
   "outputs": [],
   "source": [
    "from sklearn.model_selection import train_test_split\n",
    "# split training data\n",
    "X_train, X_valid, y_train, y_valid = train_test_split(X, y, test_size=0.2, random_state=42)"
   ]
  },
  {
   "cell_type": "code",
   "execution_count": 38,
   "metadata": {},
   "outputs": [
    {
     "name": "stdout",
     "output_type": "stream",
     "text": [
      "Class count before: Counter({0.0: 101436, 1.0: 6044})\n",
      "Class count after: Counter({0.0: 20286, 1.0: 10143})\n"
     ]
    }
   ],
   "source": [
    "counter = Counter(y_train)\n",
    "print('Class count before:', counter)\n",
    "\n",
    "# over sample minority to equal 20% of the majority's size\n",
    "over = SMOTE(sampling_strategy = 0.1, random_state = 42)\n",
    "\n",
    "# under sample majority to have the minority class equal 50% of the majority's size\n",
    "under = RandomUnderSampler(sampling_strategy = 0.5, random_state = 42)\n",
    "\n",
    "steps = [('o', over), ('u', under)]\n",
    "pipeline = Pipeline(steps=steps)\n",
    "X_train, y_train = pipeline.fit_resample(X_train, y_train)\n",
    "\n",
    "counter = Counter(y_train)\n",
    "print('Class count after:', counter)"
   ]
  },
  {
   "cell_type": "code",
   "execution_count": 39,
   "metadata": {},
   "outputs": [],
   "source": [
    "#Scaling the data\n",
    "from sklearn.preprocessing import MinMaxScaler,RobustScaler,StandardScaler\n",
    "\n",
    "scale_pipeline = Pipeline(steps=[('standardscaler', StandardScaler()),\n",
    "                ('minmax', MinMaxScaler())])\n",
    "\n",
    "X_train = scale_pipeline.fit_transform(X_train)\n",
    "X_valid = scale_pipeline.fit_transform(X_valid)"
   ]
  },
  {
   "cell_type": "markdown",
   "metadata": {},
   "source": [
    "## Model choice"
   ]
  },
  {
   "cell_type": "markdown",
   "metadata": {},
   "source": [
    "<span style=\"color:red\">More than one type of model or different configurations of one model. Motivation as to why these models.</span>"
   ]
  },
  {
   "cell_type": "markdown",
   "metadata": {},
   "source": [
    "## Model training "
   ]
  },
  {
   "cell_type": "markdown",
   "metadata": {},
   "source": [
    "<span style=\"color:red\">Models trained , commentary on results (loss criteria, overfitting , how well the model fairs). Comentary on choice of loss metrics selection of optimizers. Training visualized through graphs (confusion matrix, accuracy estimates vs epoch)</span>"
   ]
  },
  {
   "cell_type": "markdown",
   "metadata": {},
   "source": [
    "## Model tuning"
   ]
  },
  {
   "cell_type": "markdown",
   "metadata": {},
   "source": [
    "<span style=\"color:red\">Hyper-parameters were tuned and evaluated on the validation set. Commentary on the dierent hyper-\n",
    "parameters. Performance of dierent values of hyper-parameters visualized through graphs.Choice of tuning technique justified (grid search, etc).</span>"
   ]
  },
  {
   "cell_type": "markdown",
   "metadata": {},
   "source": [
    "## Model assesment"
   ]
  },
  {
   "cell_type": "markdown",
   "metadata": {},
   "source": [
    "<span style=\"color:red\">Results portrayed through tabular data and/or graphs. (confusion matrix, ROC curve, etc). Commentary regarding performance of the model. (Different models compared). Commentary regarding the choice of performance metric. (Accuracy, cross entropy loss, etc). Discussion on how performance could be increased further.</span>"
   ]
  },
  {
   "cell_type": "markdown",
   "metadata": {},
   "source": [
    "## Final Model performance"
   ]
  },
  {
   "cell_type": "markdown",
   "metadata": {},
   "source": [
    "<span style=\"color:red\">90% - 100%</span>"
   ]
  },
  {
   "cell_type": "code",
   "execution_count": 40,
   "metadata": {},
   "outputs": [],
   "source": [
    "from sklearn.neural_network import MLPClassifier\n",
    "from sklearn.neighbors import KNeighborsClassifier\n",
    "from sklearn.svm import SVC\n",
    "from sklearn.gaussian_process.kernels import RBF\n",
    "from sklearn.tree import DecisionTreeClassifier\n",
    "from sklearn.ensemble import RandomForestClassifier\n",
    "from sklearn.naive_bayes import MultinomialNB\n",
    "from sklearn.linear_model import LogisticRegression"
   ]
  },
  {
   "cell_type": "code",
   "execution_count": 41,
   "metadata": {},
   "outputs": [],
   "source": [
    "best_models = []"
   ]
  },
  {
   "cell_type": "markdown",
   "metadata": {},
   "source": [
    "# Using gridsearch for hyperparameter testing"
   ]
  },
  {
   "cell_type": "markdown",
   "metadata": {},
   "source": [
    "# Decision Tree Classifier"
   ]
  },
  {
   "cell_type": "code",
   "execution_count": 43,
   "metadata": {},
   "outputs": [],
   "source": [
    "# Using gridsearch for the best hyperparameters for the DecisionTreeClassifier model\n",
    "from sklearn.model_selection import GridSearchCV\n",
    "\n",
    "param_DTC = {\n",
    "    'criterion':['gini','entropy'],\n",
    "    'max_depth':[2,3,4,5,10,50,100,500,1000,None],\n",
    "    'splitter':['best','random'],\n",
    "    'min_samples_split':[1,2,5,10,50,100,500,1000,None],\n",
    "    'min_samples_leaf':[1,2,5,10],\n",
    "    'max_features':['auto', 'sqrt', 'log2'],\n",
    "    'random_state':[42]\n",
    "}\n",
    "# Create a based model\n",
    "DTF = DecisionTreeClassifier()\n",
    "# Instantiate the grid search model\n",
    "grid_DTF = GridSearchCV(estimator = DTF, param_grid = param_DTC, cv = 3, n_jobs = -1, verbose = 2)"
   ]
  },
  {
   "cell_type": "code",
   "execution_count": 44,
   "metadata": {},
   "outputs": [
    {
     "name": "stderr",
     "output_type": "stream",
     "text": [
      "[Parallel(n_jobs=-1)]: Using backend LokyBackend with 12 concurrent workers.\n"
     ]
    },
    {
     "name": "stdout",
     "output_type": "stream",
     "text": [
      "Fitting 3 folds for each of 4320 candidates, totalling 12960 fits\n"
     ]
    },
    {
     "name": "stderr",
     "output_type": "stream",
     "text": [
      "[Parallel(n_jobs=-1)]: Done  17 tasks      | elapsed:    2.0s\n",
      "[Parallel(n_jobs=-1)]: Done 180 tasks      | elapsed:    3.6s\n",
      "[Parallel(n_jobs=-1)]: Done 586 tasks      | elapsed:    8.0s\n",
      "[Parallel(n_jobs=-1)]: Done 1152 tasks      | elapsed:   14.3s\n",
      "[Parallel(n_jobs=-1)]: Done 1882 tasks      | elapsed:   22.3s\n",
      "[Parallel(n_jobs=-1)]: Done 2772 tasks      | elapsed:   32.4s\n",
      "[Parallel(n_jobs=-1)]: Done 3826 tasks      | elapsed:   45.3s\n",
      "[Parallel(n_jobs=-1)]: Done 5040 tasks      | elapsed:   59.6s\n",
      "[Parallel(n_jobs=-1)]: Done 6418 tasks      | elapsed:  1.3min\n",
      "[Parallel(n_jobs=-1)]: Done 7956 tasks      | elapsed:  1.5min\n",
      "[Parallel(n_jobs=-1)]: Done 9658 tasks      | elapsed:  1.9min\n",
      "[Parallel(n_jobs=-1)]: Done 11520 tasks      | elapsed:  2.2min\n",
      "[Parallel(n_jobs=-1)]: Done 12960 out of 12960 | elapsed:  2.5min finished\n"
     ]
    },
    {
     "data": {
      "text/plain": [
       "{'criterion': 'gini',\n",
       " 'max_depth': 50,\n",
       " 'max_features': 'log2',\n",
       " 'min_samples_leaf': 2,\n",
       " 'min_samples_split': 500,\n",
       " 'random_state': 42,\n",
       " 'splitter': 'best'}"
      ]
     },
     "execution_count": 44,
     "metadata": {},
     "output_type": "execute_result"
    }
   ],
   "source": [
    "grid_DTF.fit(X_train, y_train)\n",
    "grid_DTF.best_params_"
   ]
  },
  {
   "cell_type": "code",
   "execution_count": 47,
   "metadata": {},
   "outputs": [
    {
     "data": {
      "text/plain": [
       "DecisionTreeClassifier(max_depth=50, max_features='log2', min_samples_leaf=2,\n",
       "                       min_samples_split=500, random_state=42)"
      ]
     },
     "execution_count": 47,
     "metadata": {},
     "output_type": "execute_result"
    }
   ],
   "source": [
    "best_dt_model = grid_DTF.best_estimator_\n",
    "best_dt_model.fit(X_train, y_train)"
   ]
  },
  {
   "cell_type": "code",
   "execution_count": 48,
   "metadata": {},
   "outputs": [],
   "source": [
    "DT_pred = best_dt_model.predict(X_valid)\n",
    "best_models.append(best_dt_model)"
   ]
  },
  {
   "cell_type": "markdown",
   "metadata": {},
   "source": [
    "# K-NeighborsClassifier"
   ]
  },
  {
   "cell_type": "code",
   "execution_count": 49,
   "metadata": {},
   "outputs": [],
   "source": [
    "# Using gridsearch to find the best hyperparameters for the K-NeighborsClassifier model\n",
    "param_KNN = {\n",
    "    'n_neighbors':[2,3,4,5,6]\n",
    "}\n",
    "# Create a based model\n",
    "KNN = KNeighborsClassifier()\n",
    "# Instantiate the grid search model\n",
    "gird_KNN = GridSearchCV(estimator = KNN, param_grid = param_KNN, cv = 3, n_jobs = -1, verbose = 2)"
   ]
  },
  {
   "cell_type": "code",
   "execution_count": 50,
   "metadata": {},
   "outputs": [
    {
     "name": "stdout",
     "output_type": "stream",
     "text": [
      "Fitting 3 folds for each of 5 candidates, totalling 15 fits\n"
     ]
    },
    {
     "name": "stderr",
     "output_type": "stream",
     "text": [
      "[Parallel(n_jobs=-1)]: Using backend LokyBackend with 12 concurrent workers.\n",
      "[Parallel(n_jobs=-1)]: Done   8 out of  15 | elapsed:   19.5s remaining:   17.1s\n",
      "[Parallel(n_jobs=-1)]: Done  15 out of  15 | elapsed:   26.1s finished\n"
     ]
    },
    {
     "data": {
      "text/plain": [
       "{'n_neighbors': 2}"
      ]
     },
     "execution_count": 50,
     "metadata": {},
     "output_type": "execute_result"
    }
   ],
   "source": [
    "gird_KNN.fit(X_train, y_train)\n",
    "gird_KNN.best_params_"
   ]
  },
  {
   "cell_type": "code",
   "execution_count": 53,
   "metadata": {},
   "outputs": [
    {
     "data": {
      "text/plain": [
       "KNeighborsClassifier(n_neighbors=2)"
      ]
     },
     "execution_count": 53,
     "metadata": {},
     "output_type": "execute_result"
    }
   ],
   "source": [
    "best_KNN_model = gird_KNN.best_estimator_\n",
    "best_KNN_model.fit(X_train, y_train)"
   ]
  },
  {
   "cell_type": "code",
   "execution_count": 54,
   "metadata": {},
   "outputs": [],
   "source": [
    "KNN_pred = best_KNN_model.predict(X_valid)\n",
    "best_models.append(best_KNN_model)"
   ]
  },
  {
   "cell_type": "markdown",
   "metadata": {},
   "source": [
    "# Random Forest Classifier"
   ]
  },
  {
   "cell_type": "code",
   "execution_count": 55,
   "metadata": {},
   "outputs": [],
   "source": [
    "# Using gridsearch to find the best hyperparameters for the RandomForestClassifier\n",
    "param_RFC = {\n",
    "    'max_depth': [70, 90, 100, 110],\n",
    "    'n_estimators': [100, 200, 1000]\n",
    "}\n",
    "# Create a based model\n",
    "RFC = RandomForestClassifier()\n",
    "# Instantiate the grid search model\n",
    "grid_RFC = GridSearchCV(estimator = RFC, param_grid = param_RFC, cv = 3, n_jobs = -1, verbose = 2)"
   ]
  },
  {
   "cell_type": "code",
   "execution_count": 56,
   "metadata": {},
   "outputs": [
    {
     "name": "stdout",
     "output_type": "stream",
     "text": [
      "Fitting 3 folds for each of 12 candidates, totalling 36 fits\n"
     ]
    },
    {
     "name": "stderr",
     "output_type": "stream",
     "text": [
      "[Parallel(n_jobs=-1)]: Using backend LokyBackend with 12 concurrent workers.\n",
      "[Parallel(n_jobs=-1)]: Done  32 out of  36 | elapsed:  1.2min remaining:    8.6s\n",
      "[Parallel(n_jobs=-1)]: Done  36 out of  36 | elapsed:  1.5min finished\n"
     ]
    },
    {
     "data": {
      "text/plain": [
       "{'max_depth': 110, 'n_estimators': 1000}"
      ]
     },
     "execution_count": 56,
     "metadata": {},
     "output_type": "execute_result"
    }
   ],
   "source": [
    "grid_RFC.fit(X_train, y_train)\n",
    "grid_RFC.best_params_"
   ]
  },
  {
   "cell_type": "code",
   "execution_count": 59,
   "metadata": {},
   "outputs": [
    {
     "data": {
      "text/plain": [
       "RandomForestClassifier(max_depth=110, n_estimators=1000)"
      ]
     },
     "execution_count": 59,
     "metadata": {},
     "output_type": "execute_result"
    }
   ],
   "source": [
    "best_RFC_model = grid_RFC.best_estimator_\n",
    "best_RFC_model.fit(X_train, y_train)"
   ]
  },
  {
   "cell_type": "code",
   "execution_count": 60,
   "metadata": {},
   "outputs": [],
   "source": [
    "RFC_pred = best_RFC_model.predict(X_valid)\n",
    "best_models.append(best_RFC_model)"
   ]
  },
  {
   "cell_type": "markdown",
   "metadata": {},
   "source": [
    "# Logistic Regression"
   ]
  },
  {
   "cell_type": "code",
   "execution_count": 61,
   "metadata": {},
   "outputs": [],
   "source": [
    "#Using gridsearch to find the best hyperparameters for the Logistic regression model\n",
    "param_LR = {\n",
    "    'penalty': ['l1','l2','elasticnet','none'],\n",
    "    'tol': [0.1, 0.001, 0.0001, 1,10,100],\n",
    "    'C': [1,2,3,4,5,10,15,20,50,100,200],\n",
    "    'random_state':[42],\n",
    "    'solver':['newton-cg','lbfgs','sag','saga'],\n",
    "    'n_jobs':[-1]\n",
    "}\n",
    "# Create a based model\n",
    "LR = LogisticRegression()\n",
    "# Instantiate the grid search model\n",
    "grid_LR = GridSearchCV(estimator = LR, param_grid = param_LR, cv = 3, n_jobs = -1, verbose = 2)"
   ]
  },
  {
   "cell_type": "code",
   "execution_count": 62,
   "metadata": {},
   "outputs": [
    {
     "name": "stdout",
     "output_type": "stream",
     "text": [
      "Fitting 3 folds for each of 1056 candidates, totalling 3168 fits\n"
     ]
    },
    {
     "name": "stderr",
     "output_type": "stream",
     "text": [
      "[Parallel(n_jobs=-1)]: Using backend LokyBackend with 12 concurrent workers.\n",
      "[Parallel(n_jobs=-1)]: Done  17 tasks      | elapsed:    0.0s\n",
      "[Parallel(n_jobs=-1)]: Done 234 tasks      | elapsed:   22.6s\n",
      "[Parallel(n_jobs=-1)]: Done 437 tasks      | elapsed:   51.3s\n",
      "[Parallel(n_jobs=-1)]: Done 898 tasks      | elapsed:  1.7min\n",
      "[Parallel(n_jobs=-1)]: Done 1298 tasks      | elapsed:  2.9min\n",
      "[Parallel(n_jobs=-1)]: Done 1958 tasks      | elapsed:  4.5min\n",
      "[Parallel(n_jobs=-1)]: Done 2752 tasks      | elapsed:  6.6min\n",
      "[Parallel(n_jobs=-1)]: Done 3145 out of 3168 | elapsed:  7.8min remaining:    3.3s\n",
      "[Parallel(n_jobs=-1)]: Done 3168 out of 3168 | elapsed:  8.1min finished\n"
     ]
    },
    {
     "data": {
      "text/plain": [
       "{'C': 4,\n",
       " 'n_jobs': -1,\n",
       " 'penalty': 'l2',\n",
       " 'random_state': 42,\n",
       " 'solver': 'saga',\n",
       " 'tol': 0.1}"
      ]
     },
     "execution_count": 62,
     "metadata": {},
     "output_type": "execute_result"
    }
   ],
   "source": [
    "grid_LR.fit(X_train, y_train)\n",
    "grid_LR.best_params_"
   ]
  },
  {
   "cell_type": "code",
   "execution_count": 65,
   "metadata": {},
   "outputs": [
    {
     "data": {
      "text/plain": [
       "LogisticRegression(C=4, n_jobs=-1, random_state=42, solver='saga', tol=0.1)"
      ]
     },
     "execution_count": 65,
     "metadata": {},
     "output_type": "execute_result"
    }
   ],
   "source": [
    "best_LR_model = grid_LR.best_estimator_\n",
    "best_LR_model.fit(X_train, y_train)"
   ]
  },
  {
   "cell_type": "code",
   "execution_count": 66,
   "metadata": {},
   "outputs": [],
   "source": [
    "LR_pred = best_LR_model.predict(X_valid)\n",
    "best_models.append(best_LR_model)"
   ]
  },
  {
   "cell_type": "markdown",
   "metadata": {},
   "source": [
    "# Multinomial NB"
   ]
  },
  {
   "cell_type": "code",
   "execution_count": 67,
   "metadata": {},
   "outputs": [],
   "source": [
    "# Building the MultinomialNB model\n",
    "MNB = MultinomialNB()"
   ]
  },
  {
   "cell_type": "code",
   "execution_count": 68,
   "metadata": {},
   "outputs": [
    {
     "data": {
      "text/plain": [
       "MultinomialNB()"
      ]
     },
     "execution_count": 68,
     "metadata": {},
     "output_type": "execute_result"
    }
   ],
   "source": [
    "MNB.fit(X_train, y_train)"
   ]
  },
  {
   "cell_type": "code",
   "execution_count": 69,
   "metadata": {},
   "outputs": [],
   "source": [
    "MNB_pred = MNB.predict(X_valid)\n",
    "best_models.append(MNB)"
   ]
  },
  {
   "cell_type": "markdown",
   "metadata": {},
   "source": [
    "# Support vector Classifier"
   ]
  },
  {
   "cell_type": "code",
   "execution_count": 70,
   "metadata": {},
   "outputs": [],
   "source": [
    "#Using gridsearch to find the best hyperparameters for the Support Vector Classifier model\n",
    "param_SVC = {\n",
    "    'kernel':['poly'],\n",
    "    'degree':[2,3]\n",
    "}\n",
    "# Create a based model\n",
    "SVC_ = SVC()\n",
    "# Instantiate the grid search model\n",
    "grid_SVC = GridSearchCV(estimator = SVC_, param_grid = param_SVC, cv = 3, n_jobs = -1, verbose = 2)"
   ]
  },
  {
   "cell_type": "code",
   "execution_count": 71,
   "metadata": {},
   "outputs": [
    {
     "name": "stdout",
     "output_type": "stream",
     "text": [
      "Fitting 3 folds for each of 2 candidates, totalling 6 fits\n"
     ]
    },
    {
     "name": "stderr",
     "output_type": "stream",
     "text": [
      "[Parallel(n_jobs=-1)]: Using backend LokyBackend with 12 concurrent workers.\n",
      "[Parallel(n_jobs=-1)]: Done   3 out of   6 | elapsed:  1.3min remaining:  1.3min\n",
      "[Parallel(n_jobs=-1)]: Done   6 out of   6 | elapsed:  1.3min finished\n"
     ]
    },
    {
     "data": {
      "text/plain": [
       "{'degree': 3, 'kernel': 'poly'}"
      ]
     },
     "execution_count": 71,
     "metadata": {},
     "output_type": "execute_result"
    }
   ],
   "source": [
    "grid_SVC.fit(X_train, y_train)\n",
    "grid_SVC.best_params_"
   ]
  },
  {
   "cell_type": "code",
   "execution_count": 74,
   "metadata": {},
   "outputs": [
    {
     "data": {
      "text/plain": [
       "SVC(kernel='poly')"
      ]
     },
     "execution_count": 74,
     "metadata": {},
     "output_type": "execute_result"
    }
   ],
   "source": [
    "best_SVC_model = grid_SVC.best_estimator_\n",
    "best_SVC_model.fit(X_train, y_train)"
   ]
  },
  {
   "cell_type": "code",
   "execution_count": 75,
   "metadata": {},
   "outputs": [],
   "source": [
    "SVC_pred = best_SVC_model.predict(X_valid)\n",
    "best_models.append(best_SVC_model)"
   ]
  },
  {
   "cell_type": "code",
   "execution_count": 76,
   "metadata": {},
   "outputs": [],
   "source": [
    "scores_of_models = []"
   ]
  },
  {
   "cell_type": "markdown",
   "metadata": {},
   "source": [
    "# Confusion matrixes of best models"
   ]
  },
  {
   "cell_type": "code",
   "execution_count": 77,
   "metadata": {},
   "outputs": [
    {
     "data": {
      "image/png": "[encoded data removed]",
      "text/plain": [
       "<Figure size 1080x1080 with 12 Axes>"
      ]
     },
     "metadata": {
      "needs_background": "light"
     },
     "output_type": "display_data"
    }
   ],
   "source": [
    "#Here we plot the confusion matrix of the best hyperparameters for each model\n",
    "fig , ax = plt.subplots(2,3,figsize=(15,15))\n",
    "ax = ax.flatten()\n",
    "labels = [\"No\", \"Yes\"]\n",
    "\n",
    "sns.heatmap(\n",
    "    confusion_matrix(y_valid, KNN_pred),\n",
    "    annot=True,fmt='d',\n",
    "    yticklabels=labels,\n",
    "    xticklabels=labels, \n",
    "    ax=ax[0]\n",
    ")\n",
    "ax[0].set_ylabel('True Label')\n",
    "ax[0].set_xlabel('Predicted Label')\n",
    "score_KNN = accuracy_score(y_valid, KNN_pred) * 100\n",
    "ax[0].set_title(\"Best KNN model\\nAccuracy on validation set: {:.2f}%\".format(score_KNN))\n",
    "\n",
    "sns.heatmap(\n",
    "    confusion_matrix(y_valid, SVC_pred),\n",
    "    annot=True,\n",
    "    fmt='d',\n",
    "    yticklabels=labels,\n",
    "    xticklabels=labels, \n",
    "    ax=ax[1]\n",
    ")\n",
    "ax[1].set_ylabel('True Label')\n",
    "ax[1].set_xlabel('Predicted Label')\n",
    "score_SVC = accuracy_score(y_valid, SVC_pred) * 100\n",
    "ax[1].set_title(\"Best SVC model \\nAccuracy on validation set: {:.2f}%\".format(score_SVC))\n",
    "\n",
    "sns.heatmap(\n",
    "    confusion_matrix(y_valid, DT_pred),\n",
    "    annot=True,\n",
    "    fmt='d',\n",
    "    yticklabels=labels,\n",
    "    xticklabels=labels, \n",
    "    ax=ax[2]\n",
    ")\n",
    "ax[2].set_ylabel('True Label')\n",
    "ax[2].set_xlabel('Predicted Label')\n",
    "score_DT = accuracy_score(y_valid, DT_pred) * 100\n",
    "ax[2].set_title(\"Best DT model \\nAccuracy on validation set: {:.2f}%\".format(score_DT))\n",
    "\n",
    "sns.heatmap(\n",
    "    confusion_matrix(y_valid, RFC_pred),\n",
    "    annot=True,\n",
    "    fmt='d',\n",
    "    yticklabels=labels,\n",
    "    xticklabels=labels, \n",
    "    ax=ax[3]\n",
    ")\n",
    "ax[3].set_ylabel('True Label')\n",
    "ax[3].set_xlabel('Predicted Label')\n",
    "score_RFC = accuracy_score(y_valid, RFC_pred) * 100\n",
    "ax[3].set_title(\"Best RFC model \\nAccuracy on validation set: {:.2f}%\".format(score_RFC))\n",
    "\n",
    "sns.heatmap(\n",
    "    confusion_matrix(y_valid, LR_pred),\n",
    "    annot=True,\n",
    "    fmt='d',\n",
    "    yticklabels=labels,\n",
    "    xticklabels=labels, \n",
    "    ax=ax[4]\n",
    ")\n",
    "ax[4].set_ylabel('True Label')\n",
    "ax[4].set_xlabel('Predicted Label')\n",
    "score_LR = accuracy_score(y_valid, LR_pred) * 100\n",
    "ax[4].set_title(\"Best LR model \\nAccuracy on validation set: {:.2f}%\".format(score_LR))\n",
    "\n",
    "sns.heatmap(\n",
    "    confusion_matrix(y_valid, MNB_pred),\n",
    "    annot=True,\n",
    "    fmt='d',\n",
    "    yticklabels=labels,\n",
    "    xticklabels=labels, \n",
    "    ax=ax[5]\n",
    ")\n",
    "ax[5].set_ylabel('True Label')\n",
    "ax[5].set_xlabel('Predicted Label')\n",
    "score_MNB = accuracy_score(y_valid, MNB_pred) * 100\n",
    "ax[5].set_title(\"Best MNB model \\nAccuracy on validation set: {:.2f}%\".format(score_MNB))\n",
    "\n",
    "scores_of_models.append(score_DT)\n",
    "scores_of_models.append(score_KNN)\n",
    "scores_of_models.append(score_RFC)\n",
    "scores_of_models.append(score_LR)\n",
    "scores_of_models.append(score_MNB)\n",
    "scores_of_models.append(score_SVC)\n",
    "\n",
    "plt.tight_layout()"
   ]
  },
  {
   "cell_type": "markdown",
   "metadata": {},
   "source": [
    "# Building final database to show performance of the models."
   ]
  },
  {
   "cell_type": "code",
   "execution_count": 86,
   "metadata": {},
   "outputs": [
    {
     "data": {
      "text/plain": [
       "[DecisionTreeClassifier(max_depth=50, max_features='log2', min_samples_leaf=2,\n",
       "                        min_samples_split=500, random_state=42),\n",
       " KNeighborsClassifier(n_neighbors=2),\n",
       " RandomForestClassifier(max_depth=110, n_estimators=1000),\n",
       " LogisticRegression(C=4, n_jobs=-1, random_state=42, solver='saga', tol=0.1),\n",
       " MultinomialNB(),\n",
       " SVC(kernel='poly')]"
      ]
     },
     "execution_count": 86,
     "metadata": {},
     "output_type": "execute_result"
    }
   ],
   "source": [
    "# The best hyperparameters for each model\n",
    "best_models"
   ]
  },
  {
   "cell_type": "code",
   "execution_count": 79,
   "metadata": {},
   "outputs": [
    {
     "data": {
      "text/plain": [
       "[85.4043392504931,\n",
       " 85.35968144095865,\n",
       " 88.54155037028767,\n",
       " 89.3751628149306,\n",
       " 87.20553756838227,\n",
       " 89.40121320382568]"
      ]
     },
     "execution_count": 79,
     "metadata": {},
     "output_type": "execute_result"
    }
   ],
   "source": [
    "# All the validation scores for the models\n",
    "scores_of_models"
   ]
  },
  {
   "cell_type": "code",
   "execution_count": 80,
   "metadata": {},
   "outputs": [],
   "source": [
    "# Putting all the training scores in a list\n",
    "train_scores = [grid_DTF.best_score_ * 100,gird_KNN.best_score_ * 100,grid_RFC.best_score_ * 100 ,grid_LR.best_score_ * 100, score_MNB,grid_SVC.best_score_ * 100]"
   ]
  },
  {
   "cell_type": "code",
   "execution_count": 81,
   "metadata": {},
   "outputs": [],
   "source": [
    "#Calculating underfitting by subtracting the training scores from the validation scores\n",
    "underfitting = []\n",
    "for i in range(len(train_scores)):\n",
    "    underfit = scores_of_models[i] - train_scores[i]\n",
    "    underfitting.append(underfit)"
   ]
  },
  {
   "cell_type": "code",
   "execution_count": 82,
   "metadata": {},
   "outputs": [
    {
     "data": {
      "text/plain": [
       "[12.9175667637206,\n",
       " 12.787464148244467,\n",
       " 9.606981373606857,\n",
       " 19.89210389087789,\n",
       " 0.0,\n",
       " 19.001265785244712]"
      ]
     },
     "execution_count": 82,
     "metadata": {},
     "output_type": "execute_result"
    }
   ],
   "source": [
    "# Here we see the ammount of underfitting\n",
    "# Multinomial NB has a 0% because we did not tune hyperparameters\n",
    "underfitting"
   ]
  },
  {
   "cell_type": "code",
   "execution_count": 83,
   "metadata": {},
   "outputs": [],
   "source": [
    "# Calculating the ROC area under the curve\n",
    "from sklearn.metrics import roc_auc_score\n",
    "\n",
    "roc_scores = []\n",
    "\n",
    "roc_DT = roc_auc_score(y_valid,DT_pred)\n",
    "roc_scores.append(roc_DT)\n",
    "roc_KNN = roc_auc_score(y_valid,KNN_pred)\n",
    "roc_scores.append(roc_KNN)\n",
    "roc_RFC = roc_auc_score(y_valid,RFC_pred)\n",
    "roc_scores.append(roc_RFC)\n",
    "roc_LR = roc_auc_score(y_valid,LR_pred)\n",
    "roc_scores.append(roc_LR)\n",
    "roc_MNB = roc_auc_score(y_valid,MNB_pred)\n",
    "roc_scores.append(roc_MNB)\n",
    "roc_SVC = roc_auc_score(y_valid,SVC_pred)\n",
    "roc_scores.append(roc_SVC)\n"
   ]
  },
  {
   "cell_type": "code",
   "execution_count": 84,
   "metadata": {},
   "outputs": [
    {
     "data": {
      "text/plain": [
       "[0.5892388325283301,\n",
       " 0.556188274099083,\n",
       " 0.5983552158525434,\n",
       " 0.5574559741071773,\n",
       " 0.5734654885041137,\n",
       " 0.5819700842129694]"
      ]
     },
     "execution_count": 84,
     "metadata": {},
     "output_type": "execute_result"
    }
   ],
   "source": [
    "# Here we see the ROC area under the curves\n",
    "roc_scores"
   ]
  },
  {
   "cell_type": "code",
   "execution_count": 90,
   "metadata": {},
   "outputs": [
    {
     "data": {
      "text/html": [
       "<div>\n",
       "<style scoped>\n",
       "    .dataframe tbody tr th:only-of-type {\n",
       "        vertical-align: middle;\n",
       "    }\n",
       "\n",
       "    .dataframe tbody tr th {\n",
       "        vertical-align: top;\n",
       "    }\n",
       "\n",
       "    .dataframe thead th {\n",
       "        text-align: right;\n",
       "    }\n",
       "</style>\n",
       "<table border=\"1\" class=\"dataframe\">\n",
       "  <thead>\n",
       "    <tr style=\"text-align: right;\">\n",
       "      <th></th>\n",
       "      <th>Model_hyperparameters</th>\n",
       "      <th>train_score</th>\n",
       "      <th>validation_score</th>\n",
       "      <th>underfitting %</th>\n",
       "      <th>ROC_AUC</th>\n",
       "    </tr>\n",
       "  </thead>\n",
       "  <tbody>\n",
       "    <tr>\n",
       "      <th>0</th>\n",
       "      <td>DecisionTreeClassifier</td>\n",
       "      <td>72.486772</td>\n",
       "      <td>85.404339</td>\n",
       "      <td>12.917567</td>\n",
       "      <td>0.589239</td>\n",
       "    </tr>\n",
       "    <tr>\n",
       "      <th>1</th>\n",
       "      <td>K-NewestNeighborsClassifier</td>\n",
       "      <td>72.572217</td>\n",
       "      <td>85.359681</td>\n",
       "      <td>12.787464</td>\n",
       "      <td>0.556188</td>\n",
       "    </tr>\n",
       "    <tr>\n",
       "      <th>2</th>\n",
       "      <td>RandomForestClassifier</td>\n",
       "      <td>78.934569</td>\n",
       "      <td>88.541550</td>\n",
       "      <td>9.606981</td>\n",
       "      <td>0.598355</td>\n",
       "    </tr>\n",
       "    <tr>\n",
       "      <th>3</th>\n",
       "      <td>LogisticRegression</td>\n",
       "      <td>69.483059</td>\n",
       "      <td>89.375163</td>\n",
       "      <td>19.892104</td>\n",
       "      <td>0.557456</td>\n",
       "    </tr>\n",
       "    <tr>\n",
       "      <th>4</th>\n",
       "      <td>MultinomialNaiveBayes</td>\n",
       "      <td>87.205538</td>\n",
       "      <td>87.205538</td>\n",
       "      <td>0.000000</td>\n",
       "      <td>0.573465</td>\n",
       "    </tr>\n",
       "    <tr>\n",
       "      <th>5</th>\n",
       "      <td>SupportVectorClasiffier</td>\n",
       "      <td>70.399947</td>\n",
       "      <td>89.401213</td>\n",
       "      <td>19.001266</td>\n",
       "      <td>0.581970</td>\n",
       "    </tr>\n",
       "  </tbody>\n",
       "</table>\n",
       "</div>"
      ],
      "text/plain": [
       "         Model_hyperparameters  train_score  validation_score  underfitting %  \\\n",
       "0       DecisionTreeClassifier    72.486772         85.404339       12.917567   \n",
       "1  K-NewestNeighborsClassifier    72.572217         85.359681       12.787464   \n",
       "2       RandomForestClassifier    78.934569         88.541550        9.606981   \n",
       "3           LogisticRegression    69.483059         89.375163       19.892104   \n",
       "4        MultinomialNaiveBayes    87.205538         87.205538        0.000000   \n",
       "5      SupportVectorClasiffier    70.399947         89.401213       19.001266   \n",
       "\n",
       "    ROC_AUC  \n",
       "0  0.589239  \n",
       "1  0.556188  \n",
       "2  0.598355  \n",
       "3  0.557456  \n",
       "4  0.573465  \n",
       "5  0.581970  "
      ]
     },
     "execution_count": 90,
     "metadata": {},
     "output_type": "execute_result"
    }
   ],
   "source": [
    "#Here we make a dataframe to show the performance of the models.\n",
    "Names_models = ['DecisionTreeClassifier','K-NewestNeighborsClassifier','RandomForestClassifier','LogisticRegression','MultinomialNaiveBayes','SupportVectorClasiffier']\n",
    "final_data = {\n",
    "    'Model_hyperparameters':Names_models,\n",
    "    'train_score': train_scores,\n",
    "    'validation_score':scores_of_models,\n",
    "    'underfitting %':underfitting,\n",
    "    'ROC_AUC':roc_scores\n",
    "}\n",
    "final_df = pd.DataFrame(final_data)\n",
    "final_df"
   ]
  },
  {
   "cell_type": "markdown",
   "metadata": {},
   "source": [
    "# Model assesment"
   ]
  },
  {
   "cell_type": "markdown",
   "metadata": {},
   "source": [
    "As seen above in the confusion matrixes the Decision Tree Classifier has the second best false negative value after Decision trees. But as you can also see it has the highest ROC area under the curve as well as the smallest ammount of underfitting out of all the models. The validation score is also the second highest but the highest validation score was logistic regression which had a 19% underfitting rate which makes it less ideal to use. Thus the RandomForestClassifier with tuned hyperparameters is chosen as the best model."
   ]
  },
  {
   "cell_type": "code",
   "execution_count": null,
   "metadata": {},
   "outputs": [],
   "source": []
  }
 ],
 "metadata": {
  "kernelspec": {
   "display_name": "Python 3",
   "language": "python",
   "name": "python3"
  },
  "language_info": {
   "codemirror_mode": {
    "name": "ipython",
    "version": 3
   },
   "file_extension": ".py",
   "mimetype": "text/x-python",
   "name": "python",
   "nbconvert_exporter": "python",
   "pygments_lexer": "ipython3",
   "version": "3.8.5"
  }
 },
 "nbformat": 4,
 "nbformat_minor": 4
}
