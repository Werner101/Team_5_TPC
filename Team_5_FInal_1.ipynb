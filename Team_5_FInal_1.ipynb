{
 "cells": [
  {
   "cell_type": "markdown",
   "metadata": {},
   "source": [
    "# Fraud Detection in Electricity and Gas Consumption"
   ]
  },
  {
   "cell_type": "markdown",
   "metadata": {},
   "source": [
    "The Tunisian Company of Electricity and Gas (STEG) is a public and a non-administrative company, it is responsible for delivering electricity and gas across Tunisia. The company suffered tremendous losses in the order of 200 million Tunisian Dinars due to fraudulent manipulations of meters by consumers.\n",
    "\n",
    "Using the client’s billing history, the aim of the challenge is to detect and recognize clients involved in fraudulent activities.\n",
    "\n",
    "The solution will enhance the company’s revenues and reduce the losses caused by such fraudulent activities."
   ]
  },
  {
   "cell_type": "markdown",
   "metadata": {},
   "source": [
    "# Team 5"
   ]
  },
  {
   "cell_type": "markdown",
   "metadata": {},
   "source": [
    "## Data analysis and inspection"
   ]
  },
  {
   "cell_type": "markdown",
   "metadata": {},
   "source": [
    "First thing we need to do is import the neccessary packages that we are going to be using."
   ]
  },
  {
   "cell_type": "code",
   "execution_count": 125,
   "metadata": {},
   "outputs": [],
   "source": [
    "import pandas as pd \n",
    "import numpy as np \n",
    "import seaborn as sns\n",
    "import matplotlib.pyplot as plt \n",
    "\n",
    "from sklearn.model_selection import train_test_split\n",
    "from sklearn.preprocessing import StandardScaler\n",
    "from sklearn.ensemble import RandomForestClassifier\n",
    "from sklearn.metrics import accuracy_score, f1_score\n",
    "from sklearn.metrics import confusion_matrix\n",
    "\n",
    "from imblearn.over_sampling import SMOTE\n",
    "from imblearn.under_sampling import RandomUnderSampler\n",
    "from imblearn.pipeline import Pipeline\n",
    "\n",
    "from collections import Counter\n",
    "\n",
    "sns.set()\n",
    "\n",
    "%matplotlib inline"
   ]
  },
  {
   "cell_type": "markdown",
   "metadata": {},
   "source": [
    "Loading the datasets into our file as a pandas dataframe"
   ]
  },
  {
   "cell_type": "code",
   "execution_count": 126,
   "metadata": {},
   "outputs": [],
   "source": [
    "client_data = pd.read_csv('Data/client_train.csv',low_memory = False)\n",
    "invoice_data = pd.read_csv('Data/invoice_train.csv',low_memory = False)"
   ]
  },
  {
   "cell_type": "markdown",
   "metadata": {},
   "source": [
    "Taking a peek at the client dataset to see what kind of monster we are dealing with."
   ]
  },
  {
   "cell_type": "code",
   "execution_count": 127,
   "metadata": {},
   "outputs": [
    {
     "data": {
      "text/html": [
       "<div>\n",
       "<style scoped>\n",
       "    .dataframe tbody tr th:only-of-type {\n",
       "        vertical-align: middle;\n",
       "    }\n",
       "\n",
       "    .dataframe tbody tr th {\n",
       "        vertical-align: top;\n",
       "    }\n",
       "\n",
       "    .dataframe thead th {\n",
       "        text-align: right;\n",
       "    }\n",
       "</style>\n",
       "<table border=\"1\" class=\"dataframe\">\n",
       "  <thead>\n",
       "    <tr style=\"text-align: right;\">\n",
       "      <th></th>\n",
       "      <th>disrict</th>\n",
       "      <th>client_id</th>\n",
       "      <th>client_catg</th>\n",
       "      <th>region</th>\n",
       "      <th>creation_date</th>\n",
       "      <th>target</th>\n",
       "    </tr>\n",
       "  </thead>\n",
       "  <tbody>\n",
       "    <tr>\n",
       "      <th>0</th>\n",
       "      <td>60</td>\n",
       "      <td>train_Client_0</td>\n",
       "      <td>11</td>\n",
       "      <td>101</td>\n",
       "      <td>31/12/1994</td>\n",
       "      <td>0.0</td>\n",
       "    </tr>\n",
       "    <tr>\n",
       "      <th>1</th>\n",
       "      <td>69</td>\n",
       "      <td>train_Client_1</td>\n",
       "      <td>11</td>\n",
       "      <td>107</td>\n",
       "      <td>29/05/2002</td>\n",
       "      <td>0.0</td>\n",
       "    </tr>\n",
       "    <tr>\n",
       "      <th>2</th>\n",
       "      <td>62</td>\n",
       "      <td>train_Client_10</td>\n",
       "      <td>11</td>\n",
       "      <td>301</td>\n",
       "      <td>13/03/1986</td>\n",
       "      <td>0.0</td>\n",
       "    </tr>\n",
       "    <tr>\n",
       "      <th>3</th>\n",
       "      <td>69</td>\n",
       "      <td>train_Client_100</td>\n",
       "      <td>11</td>\n",
       "      <td>105</td>\n",
       "      <td>11/07/1996</td>\n",
       "      <td>0.0</td>\n",
       "    </tr>\n",
       "    <tr>\n",
       "      <th>4</th>\n",
       "      <td>62</td>\n",
       "      <td>train_Client_1000</td>\n",
       "      <td>11</td>\n",
       "      <td>303</td>\n",
       "      <td>14/10/2014</td>\n",
       "      <td>0.0</td>\n",
       "    </tr>\n",
       "  </tbody>\n",
       "</table>\n",
       "</div>"
      ],
      "text/plain": [
       "   disrict          client_id  client_catg  region creation_date  target\n",
       "0       60     train_Client_0           11     101    31/12/1994     0.0\n",
       "1       69     train_Client_1           11     107    29/05/2002     0.0\n",
       "2       62    train_Client_10           11     301    13/03/1986     0.0\n",
       "3       69   train_Client_100           11     105    11/07/1996     0.0\n",
       "4       62  train_Client_1000           11     303    14/10/2014     0.0"
      ]
     },
     "execution_count": 127,
     "metadata": {},
     "output_type": "execute_result"
    }
   ],
   "source": [
    "client_data.head()"
   ]
  },
  {
   "cell_type": "code",
   "execution_count": 128,
   "metadata": {},
   "outputs": [
    {
     "data": {
      "text/plain": [
       "(135493, 6)"
      ]
     },
     "execution_count": 128,
     "metadata": {},
     "output_type": "execute_result"
    }
   ],
   "source": [
    "client_data.shape"
   ]
  },
  {
   "cell_type": "markdown",
   "metadata": {},
   "source": [
    "We also look at the invoice dataset"
   ]
  },
  {
   "cell_type": "code",
   "execution_count": 129,
   "metadata": {},
   "outputs": [
    {
     "data": {
      "text/html": [
       "<div>\n",
       "<style scoped>\n",
       "    .dataframe tbody tr th:only-of-type {\n",
       "        vertical-align: middle;\n",
       "    }\n",
       "\n",
       "    .dataframe tbody tr th {\n",
       "        vertical-align: top;\n",
       "    }\n",
       "\n",
       "    .dataframe thead th {\n",
       "        text-align: right;\n",
       "    }\n",
       "</style>\n",
       "<table border=\"1\" class=\"dataframe\">\n",
       "  <thead>\n",
       "    <tr style=\"text-align: right;\">\n",
       "      <th></th>\n",
       "      <th>client_id</th>\n",
       "      <th>invoice_date</th>\n",
       "      <th>tarif_type</th>\n",
       "      <th>counter_number</th>\n",
       "      <th>counter_statue</th>\n",
       "      <th>counter_code</th>\n",
       "      <th>reading_remarque</th>\n",
       "      <th>counter_coefficient</th>\n",
       "      <th>consommation_level_1</th>\n",
       "      <th>consommation_level_2</th>\n",
       "      <th>consommation_level_3</th>\n",
       "      <th>consommation_level_4</th>\n",
       "      <th>old_index</th>\n",
       "      <th>new_index</th>\n",
       "      <th>months_number</th>\n",
       "      <th>counter_type</th>\n",
       "    </tr>\n",
       "  </thead>\n",
       "  <tbody>\n",
       "    <tr>\n",
       "      <th>0</th>\n",
       "      <td>train_Client_0</td>\n",
       "      <td>2014-03-24</td>\n",
       "      <td>11</td>\n",
       "      <td>1335667</td>\n",
       "      <td>0</td>\n",
       "      <td>203</td>\n",
       "      <td>8</td>\n",
       "      <td>1</td>\n",
       "      <td>82</td>\n",
       "      <td>0</td>\n",
       "      <td>0</td>\n",
       "      <td>0</td>\n",
       "      <td>14302</td>\n",
       "      <td>14384</td>\n",
       "      <td>4</td>\n",
       "      <td>ELEC</td>\n",
       "    </tr>\n",
       "    <tr>\n",
       "      <th>1</th>\n",
       "      <td>train_Client_0</td>\n",
       "      <td>2013-03-29</td>\n",
       "      <td>11</td>\n",
       "      <td>1335667</td>\n",
       "      <td>0</td>\n",
       "      <td>203</td>\n",
       "      <td>6</td>\n",
       "      <td>1</td>\n",
       "      <td>1200</td>\n",
       "      <td>184</td>\n",
       "      <td>0</td>\n",
       "      <td>0</td>\n",
       "      <td>12294</td>\n",
       "      <td>13678</td>\n",
       "      <td>4</td>\n",
       "      <td>ELEC</td>\n",
       "    </tr>\n",
       "    <tr>\n",
       "      <th>2</th>\n",
       "      <td>train_Client_0</td>\n",
       "      <td>2015-03-23</td>\n",
       "      <td>11</td>\n",
       "      <td>1335667</td>\n",
       "      <td>0</td>\n",
       "      <td>203</td>\n",
       "      <td>8</td>\n",
       "      <td>1</td>\n",
       "      <td>123</td>\n",
       "      <td>0</td>\n",
       "      <td>0</td>\n",
       "      <td>0</td>\n",
       "      <td>14624</td>\n",
       "      <td>14747</td>\n",
       "      <td>4</td>\n",
       "      <td>ELEC</td>\n",
       "    </tr>\n",
       "    <tr>\n",
       "      <th>3</th>\n",
       "      <td>train_Client_0</td>\n",
       "      <td>2015-07-13</td>\n",
       "      <td>11</td>\n",
       "      <td>1335667</td>\n",
       "      <td>0</td>\n",
       "      <td>207</td>\n",
       "      <td>8</td>\n",
       "      <td>1</td>\n",
       "      <td>102</td>\n",
       "      <td>0</td>\n",
       "      <td>0</td>\n",
       "      <td>0</td>\n",
       "      <td>14747</td>\n",
       "      <td>14849</td>\n",
       "      <td>4</td>\n",
       "      <td>ELEC</td>\n",
       "    </tr>\n",
       "    <tr>\n",
       "      <th>4</th>\n",
       "      <td>train_Client_0</td>\n",
       "      <td>2016-11-17</td>\n",
       "      <td>11</td>\n",
       "      <td>1335667</td>\n",
       "      <td>0</td>\n",
       "      <td>207</td>\n",
       "      <td>9</td>\n",
       "      <td>1</td>\n",
       "      <td>572</td>\n",
       "      <td>0</td>\n",
       "      <td>0</td>\n",
       "      <td>0</td>\n",
       "      <td>15066</td>\n",
       "      <td>15638</td>\n",
       "      <td>12</td>\n",
       "      <td>ELEC</td>\n",
       "    </tr>\n",
       "  </tbody>\n",
       "</table>\n",
       "</div>"
      ],
      "text/plain": [
       "        client_id invoice_date  tarif_type  counter_number counter_statue  \\\n",
       "0  train_Client_0   2014-03-24          11         1335667              0   \n",
       "1  train_Client_0   2013-03-29          11         1335667              0   \n",
       "2  train_Client_0   2015-03-23          11         1335667              0   \n",
       "3  train_Client_0   2015-07-13          11         1335667              0   \n",
       "4  train_Client_0   2016-11-17          11         1335667              0   \n",
       "\n",
       "   counter_code  reading_remarque  counter_coefficient  consommation_level_1  \\\n",
       "0           203                 8                    1                    82   \n",
       "1           203                 6                    1                  1200   \n",
       "2           203                 8                    1                   123   \n",
       "3           207                 8                    1                   102   \n",
       "4           207                 9                    1                   572   \n",
       "\n",
       "   consommation_level_2  consommation_level_3  consommation_level_4  \\\n",
       "0                     0                     0                     0   \n",
       "1                   184                     0                     0   \n",
       "2                     0                     0                     0   \n",
       "3                     0                     0                     0   \n",
       "4                     0                     0                     0   \n",
       "\n",
       "   old_index  new_index  months_number counter_type  \n",
       "0      14302      14384              4         ELEC  \n",
       "1      12294      13678              4         ELEC  \n",
       "2      14624      14747              4         ELEC  \n",
       "3      14747      14849              4         ELEC  \n",
       "4      15066      15638             12         ELEC  "
      ]
     },
     "execution_count": 129,
     "metadata": {},
     "output_type": "execute_result"
    }
   ],
   "source": [
    "invoice_data.head()"
   ]
  },
  {
   "cell_type": "code",
   "execution_count": 130,
   "metadata": {},
   "outputs": [
    {
     "data": {
      "text/plain": [
       "(4476749, 16)"
      ]
     },
     "execution_count": 130,
     "metadata": {},
     "output_type": "execute_result"
    }
   ],
   "source": [
    "invoice_data.shape"
   ]
  },
  {
   "cell_type": "markdown",
   "metadata": {},
   "source": [
    "We see that we can immediatly calculate how many invoices there are per client and add that to our dataframe"
   ]
  },
  {
   "cell_type": "code",
   "execution_count": 131,
   "metadata": {},
   "outputs": [
    {
     "data": {
      "text/html": [
       "<div>\n",
       "<style scoped>\n",
       "    .dataframe tbody tr th:only-of-type {\n",
       "        vertical-align: middle;\n",
       "    }\n",
       "\n",
       "    .dataframe tbody tr th {\n",
       "        vertical-align: top;\n",
       "    }\n",
       "\n",
       "    .dataframe thead th {\n",
       "        text-align: right;\n",
       "    }\n",
       "</style>\n",
       "<table border=\"1\" class=\"dataframe\">\n",
       "  <thead>\n",
       "    <tr style=\"text-align: right;\">\n",
       "      <th></th>\n",
       "      <th>disrict</th>\n",
       "      <th>client_id</th>\n",
       "      <th>client_catg</th>\n",
       "      <th>region</th>\n",
       "      <th>creation_date</th>\n",
       "      <th>target</th>\n",
       "      <th>invoice_amount</th>\n",
       "    </tr>\n",
       "  </thead>\n",
       "  <tbody>\n",
       "    <tr>\n",
       "      <th>0</th>\n",
       "      <td>60</td>\n",
       "      <td>train_Client_0</td>\n",
       "      <td>11</td>\n",
       "      <td>101</td>\n",
       "      <td>31/12/1994</td>\n",
       "      <td>0.0</td>\n",
       "      <td>35</td>\n",
       "    </tr>\n",
       "    <tr>\n",
       "      <th>1</th>\n",
       "      <td>69</td>\n",
       "      <td>train_Client_1</td>\n",
       "      <td>11</td>\n",
       "      <td>107</td>\n",
       "      <td>29/05/2002</td>\n",
       "      <td>0.0</td>\n",
       "      <td>37</td>\n",
       "    </tr>\n",
       "    <tr>\n",
       "      <th>2</th>\n",
       "      <td>62</td>\n",
       "      <td>train_Client_10</td>\n",
       "      <td>11</td>\n",
       "      <td>301</td>\n",
       "      <td>13/03/1986</td>\n",
       "      <td>0.0</td>\n",
       "      <td>18</td>\n",
       "    </tr>\n",
       "    <tr>\n",
       "      <th>3</th>\n",
       "      <td>69</td>\n",
       "      <td>train_Client_100</td>\n",
       "      <td>11</td>\n",
       "      <td>105</td>\n",
       "      <td>11/07/1996</td>\n",
       "      <td>0.0</td>\n",
       "      <td>20</td>\n",
       "    </tr>\n",
       "    <tr>\n",
       "      <th>4</th>\n",
       "      <td>62</td>\n",
       "      <td>train_Client_1000</td>\n",
       "      <td>11</td>\n",
       "      <td>303</td>\n",
       "      <td>14/10/2014</td>\n",
       "      <td>0.0</td>\n",
       "      <td>14</td>\n",
       "    </tr>\n",
       "  </tbody>\n",
       "</table>\n",
       "</div>"
      ],
      "text/plain": [
       "   disrict          client_id  client_catg  region creation_date  target  \\\n",
       "0       60     train_Client_0           11     101    31/12/1994     0.0   \n",
       "1       69     train_Client_1           11     107    29/05/2002     0.0   \n",
       "2       62    train_Client_10           11     301    13/03/1986     0.0   \n",
       "3       69   train_Client_100           11     105    11/07/1996     0.0   \n",
       "4       62  train_Client_1000           11     303    14/10/2014     0.0   \n",
       "\n",
       "   invoice_amount  \n",
       "0              35  \n",
       "1              37  \n",
       "2              18  \n",
       "3              20  \n",
       "4              14  "
      ]
     },
     "execution_count": 131,
     "metadata": {},
     "output_type": "execute_result"
    }
   ],
   "source": [
    "client_data['invoice_amount'] = invoice_data.groupby('client_id').size().values\n",
    "client_data.head()"
   ]
  },
  {
   "cell_type": "markdown",
   "metadata": {},
   "source": [
    "We also see that we can change the dates to datetime format incase we will be needing that information later"
   ]
  },
  {
   "cell_type": "code",
   "execution_count": 132,
   "metadata": {},
   "outputs": [],
   "source": [
    "# Changing the client_data's column date to datetime\n",
    "client_data['creation_date']= pd.to_datetime(client_data['creation_date'])\n",
    "# Changing the invoice_data's column date to datetime\n",
    "invoice_data['invoice_date']= pd.to_datetime(invoice_data['invoice_date'])"
   ]
  },
  {
   "cell_type": "markdown",
   "metadata": {},
   "source": [
    "The date can be used to calculate how long a customer has had a contract with the company because it might be usefull in our model"
   ]
  },
  {
   "cell_type": "code",
   "execution_count": 133,
   "metadata": {},
   "outputs": [
    {
     "data": {
      "text/html": [
       "<div>\n",
       "<style scoped>\n",
       "    .dataframe tbody tr th:only-of-type {\n",
       "        vertical-align: middle;\n",
       "    }\n",
       "\n",
       "    .dataframe tbody tr th {\n",
       "        vertical-align: top;\n",
       "    }\n",
       "\n",
       "    .dataframe thead th {\n",
       "        text-align: right;\n",
       "    }\n",
       "</style>\n",
       "<table border=\"1\" class=\"dataframe\">\n",
       "  <thead>\n",
       "    <tr style=\"text-align: right;\">\n",
       "      <th></th>\n",
       "      <th>disrict</th>\n",
       "      <th>client_id</th>\n",
       "      <th>client_catg</th>\n",
       "      <th>region</th>\n",
       "      <th>creation_date</th>\n",
       "      <th>target</th>\n",
       "      <th>invoice_amount</th>\n",
       "      <th>contract_time_length</th>\n",
       "    </tr>\n",
       "  </thead>\n",
       "  <tbody>\n",
       "    <tr>\n",
       "      <th>0</th>\n",
       "      <td>60</td>\n",
       "      <td>train_Client_0</td>\n",
       "      <td>11</td>\n",
       "      <td>101</td>\n",
       "      <td>1994-12-31</td>\n",
       "      <td>0.0</td>\n",
       "      <td>35</td>\n",
       "      <td>27</td>\n",
       "    </tr>\n",
       "    <tr>\n",
       "      <th>1</th>\n",
       "      <td>69</td>\n",
       "      <td>train_Client_1</td>\n",
       "      <td>11</td>\n",
       "      <td>107</td>\n",
       "      <td>2002-05-29</td>\n",
       "      <td>0.0</td>\n",
       "      <td>37</td>\n",
       "      <td>19</td>\n",
       "    </tr>\n",
       "    <tr>\n",
       "      <th>2</th>\n",
       "      <td>62</td>\n",
       "      <td>train_Client_10</td>\n",
       "      <td>11</td>\n",
       "      <td>301</td>\n",
       "      <td>1986-03-13</td>\n",
       "      <td>0.0</td>\n",
       "      <td>18</td>\n",
       "      <td>35</td>\n",
       "    </tr>\n",
       "    <tr>\n",
       "      <th>3</th>\n",
       "      <td>69</td>\n",
       "      <td>train_Client_100</td>\n",
       "      <td>11</td>\n",
       "      <td>105</td>\n",
       "      <td>1996-11-07</td>\n",
       "      <td>0.0</td>\n",
       "      <td>20</td>\n",
       "      <td>25</td>\n",
       "    </tr>\n",
       "    <tr>\n",
       "      <th>4</th>\n",
       "      <td>62</td>\n",
       "      <td>train_Client_1000</td>\n",
       "      <td>11</td>\n",
       "      <td>303</td>\n",
       "      <td>2014-10-14</td>\n",
       "      <td>0.0</td>\n",
       "      <td>14</td>\n",
       "      <td>7</td>\n",
       "    </tr>\n",
       "  </tbody>\n",
       "</table>\n",
       "</div>"
      ],
      "text/plain": [
       "   disrict          client_id  client_catg  region creation_date  target  \\\n",
       "0       60     train_Client_0           11     101    1994-12-31     0.0   \n",
       "1       69     train_Client_1           11     107    2002-05-29     0.0   \n",
       "2       62    train_Client_10           11     301    1986-03-13     0.0   \n",
       "3       69   train_Client_100           11     105    1996-11-07     0.0   \n",
       "4       62  train_Client_1000           11     303    2014-10-14     0.0   \n",
       "\n",
       "   invoice_amount  contract_time_length  \n",
       "0              35                    27  \n",
       "1              37                    19  \n",
       "2              18                    35  \n",
       "3              20                    25  \n",
       "4              14                     7  "
      ]
     },
     "execution_count": 133,
     "metadata": {},
     "output_type": "execute_result"
    }
   ],
   "source": [
    "today = pd.to_datetime(\"today\")\n",
    "# Add the contract length in years \n",
    "client_data['contract_time_length'] = today.year - client_data['creation_date'].dt.year\n",
    "client_data.head()"
   ]
  },
  {
   "cell_type": "markdown",
   "metadata": {},
   "source": [
    "The date of the last invoice can differ a lot from the current date and so the number of years since the start of a clients contract with the company and the date of their last invoice will be used as well."
   ]
  },
  {
   "cell_type": "code",
   "execution_count": 134,
   "metadata": {},
   "outputs": [
    {
     "data": {
      "text/html": [
       "<div>\n",
       "<style scoped>\n",
       "    .dataframe tbody tr th:only-of-type {\n",
       "        vertical-align: middle;\n",
       "    }\n",
       "\n",
       "    .dataframe tbody tr th {\n",
       "        vertical-align: top;\n",
       "    }\n",
       "\n",
       "    .dataframe thead th {\n",
       "        text-align: right;\n",
       "    }\n",
       "</style>\n",
       "<table border=\"1\" class=\"dataframe\">\n",
       "  <thead>\n",
       "    <tr style=\"text-align: right;\">\n",
       "      <th></th>\n",
       "      <th>disrict</th>\n",
       "      <th>client_id</th>\n",
       "      <th>client_catg</th>\n",
       "      <th>region</th>\n",
       "      <th>creation_date</th>\n",
       "      <th>target</th>\n",
       "      <th>invoice_amount</th>\n",
       "      <th>contract_time_length</th>\n",
       "      <th>contract_time_to_latest</th>\n",
       "    </tr>\n",
       "  </thead>\n",
       "  <tbody>\n",
       "    <tr>\n",
       "      <th>0</th>\n",
       "      <td>60</td>\n",
       "      <td>train_Client_0</td>\n",
       "      <td>11</td>\n",
       "      <td>101</td>\n",
       "      <td>1994-12-31</td>\n",
       "      <td>0.0</td>\n",
       "      <td>35</td>\n",
       "      <td>27</td>\n",
       "      <td>25</td>\n",
       "    </tr>\n",
       "    <tr>\n",
       "      <th>1</th>\n",
       "      <td>69</td>\n",
       "      <td>train_Client_1</td>\n",
       "      <td>11</td>\n",
       "      <td>107</td>\n",
       "      <td>2002-05-29</td>\n",
       "      <td>0.0</td>\n",
       "      <td>37</td>\n",
       "      <td>19</td>\n",
       "      <td>17</td>\n",
       "    </tr>\n",
       "    <tr>\n",
       "      <th>2</th>\n",
       "      <td>62</td>\n",
       "      <td>train_Client_10</td>\n",
       "      <td>11</td>\n",
       "      <td>301</td>\n",
       "      <td>1986-03-13</td>\n",
       "      <td>0.0</td>\n",
       "      <td>18</td>\n",
       "      <td>35</td>\n",
       "      <td>33</td>\n",
       "    </tr>\n",
       "    <tr>\n",
       "      <th>3</th>\n",
       "      <td>69</td>\n",
       "      <td>train_Client_100</td>\n",
       "      <td>11</td>\n",
       "      <td>105</td>\n",
       "      <td>1996-11-07</td>\n",
       "      <td>0.0</td>\n",
       "      <td>20</td>\n",
       "      <td>25</td>\n",
       "      <td>16</td>\n",
       "    </tr>\n",
       "    <tr>\n",
       "      <th>4</th>\n",
       "      <td>62</td>\n",
       "      <td>train_Client_1000</td>\n",
       "      <td>11</td>\n",
       "      <td>303</td>\n",
       "      <td>2014-10-14</td>\n",
       "      <td>0.0</td>\n",
       "      <td>14</td>\n",
       "      <td>7</td>\n",
       "      <td>5</td>\n",
       "    </tr>\n",
       "  </tbody>\n",
       "</table>\n",
       "</div>"
      ],
      "text/plain": [
       "   disrict          client_id  client_catg  region creation_date  target  \\\n",
       "0       60     train_Client_0           11     101    1994-12-31     0.0   \n",
       "1       69     train_Client_1           11     107    2002-05-29     0.0   \n",
       "2       62    train_Client_10           11     301    1986-03-13     0.0   \n",
       "3       69   train_Client_100           11     105    1996-11-07     0.0   \n",
       "4       62  train_Client_1000           11     303    2014-10-14     0.0   \n",
       "\n",
       "   invoice_amount  contract_time_length  contract_time_to_latest  \n",
       "0              35                    27                       25  \n",
       "1              37                    19                       17  \n",
       "2              18                    35                       33  \n",
       "3              20                    25                       16  \n",
       "4              14                     7                        5  "
      ]
     },
     "execution_count": 134,
     "metadata": {},
     "output_type": "execute_result"
    }
   ],
   "source": [
    "client_data['contract_time_to_latest'] = invoice_data.groupby('client_id')['invoice_date'].max().dt.year.values- client_data['creation_date'].dt.year.values\n",
    "    \n",
    "client_data.head()"
   ]
  },
  {
   "cell_type": "markdown",
   "metadata": {},
   "source": [
    "Detailed decriptions of the old and new index columns was not given for the dataset however is thought that the change in this index might be of value."
   ]
  },
  {
   "cell_type": "code",
   "execution_count": 135,
   "metadata": {},
   "outputs": [
    {
     "data": {
      "image/png": "[encoded data removed]",
      "text/plain": [
       "<Figure size 720x360 with 1 Axes>"
      ]
     },
     "metadata": {
      "needs_background": "light"
     },
     "output_type": "display_data"
    }
   ],
   "source": [
    "fig,ax = plt.subplots(figsize=(10,5))\n",
    "invoice_data['index_dif'] = np.abs(invoice_data['new_index']-invoice_data['old_index'])\n",
    "\n",
    "invoice_data.loc[:,'index_dif'].plot()\n",
    "plt.ylabel('index difference');"
   ]
  },
  {
   "cell_type": "markdown",
   "metadata": {},
   "source": [
    "There are large fluctuations in the difference of this value. Seeing how large difference values correspond to fraudulent clients is shown below:"
   ]
  },
  {
   "cell_type": "code",
   "execution_count": 136,
   "metadata": {},
   "outputs": [
    {
     "name": "stdout",
     "output_type": "stream",
     "text": [
      "0.75 quantile:  657.0\n"
     ]
    },
    {
     "data": {
      "text/plain": [
       "8.796826157554776"
      ]
     },
     "execution_count": 136,
     "metadata": {},
     "output_type": "execute_result"
    }
   ],
   "source": [
    "print('0.75 quantile: ',invoice_data['index_dif'].quantile(0.75))\n",
    "invoice_data.merge(client_data,on='client_id')[invoice_data['index_dif'] > invoice_data['index_dif'].quantile(0.75)]['target'].mean()*100"
   ]
  },
  {
   "cell_type": "markdown",
   "metadata": {},
   "source": [
    "8.8% of the values greater than the 0.75 quantile corresponds to fraudulent clients"
   ]
  },
  {
   "cell_type": "markdown",
   "metadata": {},
   "source": [
    "The months number column was also not well defined. It is seen that this number is how many months have passed since the last invoice/inspection. However there are large outiers for this feature corresponding to 200+ years since the last invoice."
   ]
  },
  {
   "cell_type": "code",
   "execution_count": 137,
   "metadata": {},
   "outputs": [
    {
     "data": {
      "text/plain": [
       "count    4.476749e+06\n",
       "mean     4.483095e+01\n",
       "std      3.128335e+03\n",
       "min      0.000000e+00\n",
       "25%      4.000000e+00\n",
       "50%      4.000000e+00\n",
       "75%      4.000000e+00\n",
       "max      6.366240e+05\n",
       "Name: months_number, dtype: float64"
      ]
     },
     "execution_count": 137,
     "metadata": {},
     "output_type": "execute_result"
    }
   ],
   "source": [
    "invoice_data['months_number'].describe()"
   ]
  },
  {
   "cell_type": "code",
   "execution_count": 138,
   "metadata": {},
   "outputs": [
    {
     "data": {
      "image/png": "[encoded data removed]",
      "text/plain": [
       "<Figure size 720x360 with 1 Axes>"
      ]
     },
     "metadata": {
      "needs_background": "light"
     },
     "output_type": "display_data"
    }
   ],
   "source": [
    "month_check = invoice_data[:].merge(client_data,on='client_id')\n",
    "months =[]\n",
    "for i in range(5):\n",
    "    months.append(month_check[(month_check['months_number']>i*12)&(month_check['target']==1)].groupby('client_id').sum().shape[0])\n",
    "    \n",
    "fig,ax = plt.subplots(figsize=(10,5))\n",
    "plt.plot((np.array(months)/month_check[month_check['target']==0].shape[0])*100,marker='o',label='Normal')\n",
    "plt.plot((np.array(months)/month_check[month_check['target']==1].shape[0])*100,marker='o',label='Fraudulent')\n",
    "plt.legend()\n",
    "plt.ylabel('Percentage of clients [%]');\n",
    "plt.xlabel('Years since last invoice');"
   ]
  },
  {
   "cell_type": "markdown",
   "metadata": {},
   "source": [
    "As shown in the above graph we can safely remove the invoices that have large numbers in the 'months_number' column. Shown in the above graph, rows with larger than two year since the last invoice corresponds to removing 0.04% of the fraudulent clients."
   ]
  },
  {
   "cell_type": "code",
   "execution_count": 139,
   "metadata": {},
   "outputs": [],
   "source": [
    "invoice_data.drop(invoice_data[invoice_data.months_number > 24].index,inplace=True)"
   ]
  },
  {
   "cell_type": "code",
   "execution_count": 140,
   "metadata": {},
   "outputs": [
    {
     "data": {
      "text/plain": [
       "count    4.473221e+06\n",
       "mean     4.236397e+00\n",
       "std      1.770281e+00\n",
       "min      0.000000e+00\n",
       "25%      4.000000e+00\n",
       "50%      4.000000e+00\n",
       "75%      4.000000e+00\n",
       "max      2.400000e+01\n",
       "Name: months_number, dtype: float64"
      ]
     },
     "execution_count": 140,
     "metadata": {},
     "output_type": "execute_result"
    }
   ],
   "source": [
    "invoice_data['months_number'].describe()"
   ]
  },
  {
   "cell_type": "code",
   "execution_count": 141,
   "metadata": {},
   "outputs": [
    {
     "name": "stdout",
     "output_type": "stream",
     "text": [
      "Number of client:  135493\n",
      "Number of clients in reduced invoice data set:  135356\n",
      "Number of removed clients:  137\n"
     ]
    }
   ],
   "source": [
    "print('Number of client: ',client_data.shape[0])\n",
    "print('Number of clients in reduced invoice data set: ',invoice_data['client_id'].unique().shape[0])\n",
    "print('Number of removed clients: ',client_data.shape[0]-invoice_data['client_id'].unique().shape[0])"
   ]
  },
  {
   "cell_type": "markdown",
   "metadata": {},
   "source": [
    "# months_number\n",
    "Looking at the data for month count, i.e., the number of months in between invoices, we explored various values for the months trying to see where the cutoff point was for useful data, as seen on the graph the vast majority of the non-useful outliers where over 2 years(24 months) and the amount of data loss is minimal if we drop those, less than 1.1%"
   ]
  },
  {
   "cell_type": "code",
   "execution_count": 142,
   "metadata": {},
   "outputs": [
    {
     "name": "stdout",
     "output_type": "stream",
     "text": [
      "Counter state:\n",
      "\n",
      "takes up to 5 values such as working fine, not working, on hold statue\n",
      "\n",
      " ['0' '1' '5' '4' '3' '2' 'A' '618' '420']\n",
      "\n"
     ]
    }
   ],
   "source": [
    "print(f'Counter state:\\n\\ntakes up to 5 values such as working fine, not working, on hold statue\\n\\n {invoice_data.counter_statue.unique()}\\n')"
   ]
  },
  {
   "cell_type": "code",
   "execution_count": 143,
   "metadata": {},
   "outputs": [
    {
     "name": "stdout",
     "output_type": "stream",
     "text": [
      "0      4375572\n",
      "1        74025\n",
      "5        20590\n",
      "4         2718\n",
      "3          258\n",
      "2           32\n",
      "A           13\n",
      "618         12\n",
      "420          1\n",
      "Name: counter_statue, dtype: int64\n",
      "97.81703161994454\n",
      "1.6548478154779296\n",
      "0.4602947182801833\n",
      "0.06076158544368812\n",
      "0.005767656013418519\n",
      "0.0007153681877108241\n",
      "0.0002906183262575223\n",
      "0.00026826307039155904\n",
      "2.2355255865963252e-05\n"
     ]
    }
   ],
   "source": [
    "print(invoice_data[\"counter_statue\"].value_counts())\n",
    "ind = invoice_data[\"counter_statue\"].value_counts()\n",
    "for i, x in enumerate(ind):\n",
    "    print((ind[i] / len(invoice_data[\"counter_statue\"])) * 100)"
   ]
  },
  {
   "cell_type": "markdown",
   "metadata": {},
   "source": [
    "# Counter status\n",
    "\n",
    "Looking at the feature counter statue we could deduce that the amount of values outside the expected format(0 to 5) are very few, under 0,4 % and none where linked to fraudulent clients, thus we can drop them to clean the data a tiny bit more."
   ]
  },
  {
   "cell_type": "code",
   "execution_count": 144,
   "metadata": {},
   "outputs": [],
   "source": [
    "invoice_data = invoice_data[~invoice_data['counter_statue'].isin(['A','618','420'])]\n"
   ]
  },
  {
   "cell_type": "code",
   "execution_count": 145,
   "metadata": {},
   "outputs": [
    {
     "data": {
      "text/plain": [
       "<AxesSubplot:ylabel='Frequency'>"
      ]
     },
     "execution_count": 145,
     "metadata": {},
     "output_type": "execute_result"
    },
    {
     "data": {
      "image/png": "[encoded data removed]",
      "text/plain": [
       "<Figure size 432x288 with 1 Axes>"
      ]
     },
     "metadata": {
      "needs_background": "light"
     },
     "output_type": "display_data"
    }
   ],
   "source": [
    "invoice_data['tarif_type'].plot(kind='hist')"
   ]
  },
  {
   "cell_type": "code",
   "execution_count": 146,
   "metadata": {},
   "outputs": [
    {
     "name": "stdout",
     "output_type": "stream",
     "text": [
      "['0' '1' '5' '4' '3' '2']\n"
     ]
    }
   ],
   "source": [
    "print(invoice_data['counter_statue'].unique())"
   ]
  },
  {
   "cell_type": "markdown",
   "metadata": {},
   "source": [
    "# Tarif type\n",
    "\n",
    "Looking at the feature counter statue we could deduce that the amount of values outside the expected format(0 to 5) are very few, under 0,4 % and none where linked to fraudulent clients, thus we can drop them to clean the data a tiny bit more."
   ]
  },
  {
   "cell_type": "code",
   "execution_count": 147,
   "metadata": {},
   "outputs": [
    {
     "name": "stdout",
     "output_type": "stream",
     "text": [
      "tarif_type\n",
      "8          43\n",
      "9        6037\n",
      "10     275880\n",
      "11    2678079\n",
      "12      11314\n",
      "13      11627\n",
      "14      11581\n",
      "15      72375\n",
      "18          4\n",
      "21        104\n",
      "24          9\n",
      "27          1\n",
      "29      10079\n",
      "30         35\n",
      "40    1379398\n",
      "42          1\n",
      "45      16628\n",
      "dtype: int64\n",
      "tarif_type\n",
      "8          43\n",
      "9        6037\n",
      "10     275880\n",
      "11    2678079\n",
      "12      11314\n",
      "13      11627\n",
      "14      11581\n",
      "15      72375\n",
      "21        104\n",
      "29      10079\n",
      "30         35\n",
      "40    1379398\n",
      "45      16628\n",
      "dtype: int64\n"
     ]
    }
   ],
   "source": [
    "print(invoice_data.groupby('tarif_type').size())\n",
    "\n",
    "invoice_data = invoice_data[~invoice_data['tarif_type'].isin([18,24,27,42])]\n",
    "\n",
    "print(invoice_data.groupby('tarif_type').size())"
   ]
  },
  {
   "cell_type": "markdown",
   "metadata": {},
   "source": [
    "# Counter coefficient\n",
    "\n",
    "DDDddddd"
   ]
  },
  {
   "cell_type": "code",
   "execution_count": 148,
   "metadata": {},
   "outputs": [
    {
     "data": {
      "text/plain": [
       "counter_coefficient\n",
       "0          44\n",
       "1     4471643\n",
       "2         812\n",
       "3         321\n",
       "4          12\n",
       "5           1\n",
       "10          6\n",
       "11          1\n",
       "20          3\n",
       "30        137\n",
       "33          1\n",
       "40        197\n",
       "50          2\n",
       "dtype: int64"
      ]
     },
     "execution_count": 148,
     "metadata": {},
     "output_type": "execute_result"
    }
   ],
   "source": [
    "invoice_data.groupby('counter_coefficient').size()"
   ]
  },
  {
   "cell_type": "markdown",
   "metadata": {},
   "source": [
    "*****Beceause not very varied will drop column"
   ]
  },
  {
   "cell_type": "code",
   "execution_count": 149,
   "metadata": {},
   "outputs": [],
   "source": [
    "invoice_data.drop(columns=['counter_coefficient'],inplace=True)"
   ]
  },
  {
   "cell_type": "code",
   "execution_count": 150,
   "metadata": {},
   "outputs": [
    {
     "data": {
      "text/html": [
       "<div>\n",
       "<style scoped>\n",
       "    .dataframe tbody tr th:only-of-type {\n",
       "        vertical-align: middle;\n",
       "    }\n",
       "\n",
       "    .dataframe tbody tr th {\n",
       "        vertical-align: top;\n",
       "    }\n",
       "\n",
       "    .dataframe thead th {\n",
       "        text-align: right;\n",
       "    }\n",
       "</style>\n",
       "<table border=\"1\" class=\"dataframe\">\n",
       "  <thead>\n",
       "    <tr style=\"text-align: right;\">\n",
       "      <th></th>\n",
       "      <th>disrict</th>\n",
       "      <th>client_id</th>\n",
       "      <th>client_catg</th>\n",
       "      <th>region</th>\n",
       "      <th>creation_date</th>\n",
       "      <th>target</th>\n",
       "      <th>invoice_amount</th>\n",
       "      <th>contract_time_length</th>\n",
       "      <th>contract_time_to_latest</th>\n",
       "    </tr>\n",
       "  </thead>\n",
       "  <tbody>\n",
       "    <tr>\n",
       "      <th>0</th>\n",
       "      <td>60</td>\n",
       "      <td>train_Client_0</td>\n",
       "      <td>11</td>\n",
       "      <td>101</td>\n",
       "      <td>1994-12-31</td>\n",
       "      <td>0.0</td>\n",
       "      <td>35</td>\n",
       "      <td>27</td>\n",
       "      <td>25</td>\n",
       "    </tr>\n",
       "    <tr>\n",
       "      <th>1</th>\n",
       "      <td>69</td>\n",
       "      <td>train_Client_1</td>\n",
       "      <td>11</td>\n",
       "      <td>107</td>\n",
       "      <td>2002-05-29</td>\n",
       "      <td>0.0</td>\n",
       "      <td>37</td>\n",
       "      <td>19</td>\n",
       "      <td>17</td>\n",
       "    </tr>\n",
       "    <tr>\n",
       "      <th>2</th>\n",
       "      <td>62</td>\n",
       "      <td>train_Client_10</td>\n",
       "      <td>11</td>\n",
       "      <td>301</td>\n",
       "      <td>1986-03-13</td>\n",
       "      <td>0.0</td>\n",
       "      <td>18</td>\n",
       "      <td>35</td>\n",
       "      <td>33</td>\n",
       "    </tr>\n",
       "    <tr>\n",
       "      <th>3</th>\n",
       "      <td>69</td>\n",
       "      <td>train_Client_100</td>\n",
       "      <td>11</td>\n",
       "      <td>105</td>\n",
       "      <td>1996-11-07</td>\n",
       "      <td>0.0</td>\n",
       "      <td>20</td>\n",
       "      <td>25</td>\n",
       "      <td>16</td>\n",
       "    </tr>\n",
       "    <tr>\n",
       "      <th>4</th>\n",
       "      <td>62</td>\n",
       "      <td>train_Client_1000</td>\n",
       "      <td>11</td>\n",
       "      <td>303</td>\n",
       "      <td>2014-10-14</td>\n",
       "      <td>0.0</td>\n",
       "      <td>14</td>\n",
       "      <td>7</td>\n",
       "      <td>5</td>\n",
       "    </tr>\n",
       "  </tbody>\n",
       "</table>\n",
       "</div>"
      ],
      "text/plain": [
       "   disrict          client_id  client_catg  region creation_date  target  \\\n",
       "0       60     train_Client_0           11     101    1994-12-31     0.0   \n",
       "1       69     train_Client_1           11     107    2002-05-29     0.0   \n",
       "2       62    train_Client_10           11     301    1986-03-13     0.0   \n",
       "3       69   train_Client_100           11     105    1996-11-07     0.0   \n",
       "4       62  train_Client_1000           11     303    2014-10-14     0.0   \n",
       "\n",
       "   invoice_amount  contract_time_length  contract_time_to_latest  \n",
       "0              35                    27                       25  \n",
       "1              37                    19                       17  \n",
       "2              18                    35                       33  \n",
       "3              20                    25                       16  \n",
       "4              14                     7                        5  "
      ]
     },
     "execution_count": 150,
     "metadata": {},
     "output_type": "execute_result"
    }
   ],
   "source": [
    "client_data.head()"
   ]
  },
  {
   "cell_type": "markdown",
   "metadata": {},
   "source": [
    "We then want to one hot encode the data"
   ]
  },
  {
   "cell_type": "code",
   "execution_count": 151,
   "metadata": {},
   "outputs": [],
   "source": [
    "#Drop columns not deemed neccesary\n",
    "reduced_invoice_data = invoice_data.drop(columns=['counter_code','counter_number','old_index','new_index','invoice_date'])\n",
    "\n",
    "reduced_client_data = client_data.drop(columns=['disrict','region','creation_date'])"
   ]
  },
  {
   "cell_type": "code",
   "execution_count": 152,
   "metadata": {},
   "outputs": [
    {
     "data": {
      "text/html": [
       "<div>\n",
       "<style scoped>\n",
       "    .dataframe tbody tr th:only-of-type {\n",
       "        vertical-align: middle;\n",
       "    }\n",
       "\n",
       "    .dataframe tbody tr th {\n",
       "        vertical-align: top;\n",
       "    }\n",
       "\n",
       "    .dataframe thead th {\n",
       "        text-align: right;\n",
       "    }\n",
       "</style>\n",
       "<table border=\"1\" class=\"dataframe\">\n",
       "  <thead>\n",
       "    <tr style=\"text-align: right;\">\n",
       "      <th></th>\n",
       "      <th>client_id</th>\n",
       "      <th>consommation_level_1</th>\n",
       "      <th>consommation_level_2</th>\n",
       "      <th>consommation_level_3</th>\n",
       "      <th>consommation_level_4</th>\n",
       "      <th>months_number</th>\n",
       "      <th>index_dif</th>\n",
       "      <th>tarif_type_8</th>\n",
       "      <th>tarif_type_9</th>\n",
       "      <th>tarif_type_10</th>\n",
       "      <th>...</th>\n",
       "      <th>counter_statue_2</th>\n",
       "      <th>counter_statue_3</th>\n",
       "      <th>counter_statue_4</th>\n",
       "      <th>counter_statue_5</th>\n",
       "      <th>reading_remarque_6</th>\n",
       "      <th>reading_remarque_7</th>\n",
       "      <th>reading_remarque_8</th>\n",
       "      <th>reading_remarque_9</th>\n",
       "      <th>counter_type_ELEC</th>\n",
       "      <th>counter_type_GAZ</th>\n",
       "    </tr>\n",
       "  </thead>\n",
       "  <tbody>\n",
       "    <tr>\n",
       "      <th>0</th>\n",
       "      <td>train_Client_0</td>\n",
       "      <td>82</td>\n",
       "      <td>0</td>\n",
       "      <td>0</td>\n",
       "      <td>0</td>\n",
       "      <td>4</td>\n",
       "      <td>82</td>\n",
       "      <td>0</td>\n",
       "      <td>0</td>\n",
       "      <td>0</td>\n",
       "      <td>...</td>\n",
       "      <td>0</td>\n",
       "      <td>0</td>\n",
       "      <td>0</td>\n",
       "      <td>0</td>\n",
       "      <td>0</td>\n",
       "      <td>0</td>\n",
       "      <td>1</td>\n",
       "      <td>0</td>\n",
       "      <td>1</td>\n",
       "      <td>0</td>\n",
       "    </tr>\n",
       "    <tr>\n",
       "      <th>1</th>\n",
       "      <td>train_Client_0</td>\n",
       "      <td>1200</td>\n",
       "      <td>184</td>\n",
       "      <td>0</td>\n",
       "      <td>0</td>\n",
       "      <td>4</td>\n",
       "      <td>1384</td>\n",
       "      <td>0</td>\n",
       "      <td>0</td>\n",
       "      <td>0</td>\n",
       "      <td>...</td>\n",
       "      <td>0</td>\n",
       "      <td>0</td>\n",
       "      <td>0</td>\n",
       "      <td>0</td>\n",
       "      <td>1</td>\n",
       "      <td>0</td>\n",
       "      <td>0</td>\n",
       "      <td>0</td>\n",
       "      <td>1</td>\n",
       "      <td>0</td>\n",
       "    </tr>\n",
       "    <tr>\n",
       "      <th>2</th>\n",
       "      <td>train_Client_0</td>\n",
       "      <td>123</td>\n",
       "      <td>0</td>\n",
       "      <td>0</td>\n",
       "      <td>0</td>\n",
       "      <td>4</td>\n",
       "      <td>123</td>\n",
       "      <td>0</td>\n",
       "      <td>0</td>\n",
       "      <td>0</td>\n",
       "      <td>...</td>\n",
       "      <td>0</td>\n",
       "      <td>0</td>\n",
       "      <td>0</td>\n",
       "      <td>0</td>\n",
       "      <td>0</td>\n",
       "      <td>0</td>\n",
       "      <td>1</td>\n",
       "      <td>0</td>\n",
       "      <td>1</td>\n",
       "      <td>0</td>\n",
       "    </tr>\n",
       "    <tr>\n",
       "      <th>3</th>\n",
       "      <td>train_Client_0</td>\n",
       "      <td>102</td>\n",
       "      <td>0</td>\n",
       "      <td>0</td>\n",
       "      <td>0</td>\n",
       "      <td>4</td>\n",
       "      <td>102</td>\n",
       "      <td>0</td>\n",
       "      <td>0</td>\n",
       "      <td>0</td>\n",
       "      <td>...</td>\n",
       "      <td>0</td>\n",
       "      <td>0</td>\n",
       "      <td>0</td>\n",
       "      <td>0</td>\n",
       "      <td>0</td>\n",
       "      <td>0</td>\n",
       "      <td>1</td>\n",
       "      <td>0</td>\n",
       "      <td>1</td>\n",
       "      <td>0</td>\n",
       "    </tr>\n",
       "    <tr>\n",
       "      <th>4</th>\n",
       "      <td>train_Client_0</td>\n",
       "      <td>572</td>\n",
       "      <td>0</td>\n",
       "      <td>0</td>\n",
       "      <td>0</td>\n",
       "      <td>12</td>\n",
       "      <td>572</td>\n",
       "      <td>0</td>\n",
       "      <td>0</td>\n",
       "      <td>0</td>\n",
       "      <td>...</td>\n",
       "      <td>0</td>\n",
       "      <td>0</td>\n",
       "      <td>0</td>\n",
       "      <td>0</td>\n",
       "      <td>0</td>\n",
       "      <td>0</td>\n",
       "      <td>0</td>\n",
       "      <td>1</td>\n",
       "      <td>1</td>\n",
       "      <td>0</td>\n",
       "    </tr>\n",
       "  </tbody>\n",
       "</table>\n",
       "<p>5 rows × 32 columns</p>\n",
       "</div>"
      ],
      "text/plain": [
       "        client_id  consommation_level_1  consommation_level_2  \\\n",
       "0  train_Client_0                    82                     0   \n",
       "1  train_Client_0                  1200                   184   \n",
       "2  train_Client_0                   123                     0   \n",
       "3  train_Client_0                   102                     0   \n",
       "4  train_Client_0                   572                     0   \n",
       "\n",
       "   consommation_level_3  consommation_level_4  months_number  index_dif  \\\n",
       "0                     0                     0              4         82   \n",
       "1                     0                     0              4       1384   \n",
       "2                     0                     0              4        123   \n",
       "3                     0                     0              4        102   \n",
       "4                     0                     0             12        572   \n",
       "\n",
       "   tarif_type_8  tarif_type_9  tarif_type_10  ...  counter_statue_2  \\\n",
       "0             0             0              0  ...                 0   \n",
       "1             0             0              0  ...                 0   \n",
       "2             0             0              0  ...                 0   \n",
       "3             0             0              0  ...                 0   \n",
       "4             0             0              0  ...                 0   \n",
       "\n",
       "   counter_statue_3  counter_statue_4  counter_statue_5  reading_remarque_6  \\\n",
       "0                 0                 0                 0                   0   \n",
       "1                 0                 0                 0                   1   \n",
       "2                 0                 0                 0                   0   \n",
       "3                 0                 0                 0                   0   \n",
       "4                 0                 0                 0                   0   \n",
       "\n",
       "   reading_remarque_7  reading_remarque_8  reading_remarque_9  \\\n",
       "0                   0                   1                   0   \n",
       "1                   0                   0                   0   \n",
       "2                   0                   1                   0   \n",
       "3                   0                   1                   0   \n",
       "4                   0                   0                   1   \n",
       "\n",
       "   counter_type_ELEC  counter_type_GAZ  \n",
       "0                  1                 0  \n",
       "1                  1                 0  \n",
       "2                  1                 0  \n",
       "3                  1                 0  \n",
       "4                  1                 0  \n",
       "\n",
       "[5 rows x 32 columns]"
      ]
     },
     "execution_count": 152,
     "metadata": {},
     "output_type": "execute_result"
    }
   ],
   "source": [
    "#Hot encode the categorical variables for the invoice dataset\n",
    "cat_cols_invoice = ['tarif_type','counter_statue','reading_remarque','counter_type']\n",
    "\n",
    "invoice_cat = pd.get_dummies(reduced_invoice_data,columns=cat_cols_invoice)\n",
    "invoice_cat.head()"
   ]
  },
  {
   "cell_type": "code",
   "execution_count": 153,
   "metadata": {},
   "outputs": [
    {
     "data": {
      "text/html": [
       "<div>\n",
       "<style scoped>\n",
       "    .dataframe tbody tr th:only-of-type {\n",
       "        vertical-align: middle;\n",
       "    }\n",
       "\n",
       "    .dataframe tbody tr th {\n",
       "        vertical-align: top;\n",
       "    }\n",
       "\n",
       "    .dataframe thead th {\n",
       "        text-align: right;\n",
       "    }\n",
       "</style>\n",
       "<table border=\"1\" class=\"dataframe\">\n",
       "  <thead>\n",
       "    <tr style=\"text-align: right;\">\n",
       "      <th></th>\n",
       "      <th>client_id</th>\n",
       "      <th>target</th>\n",
       "      <th>invoice_amount</th>\n",
       "      <th>contract_time_length</th>\n",
       "      <th>contract_time_to_latest</th>\n",
       "      <th>client_catg_11</th>\n",
       "      <th>client_catg_12</th>\n",
       "      <th>client_catg_51</th>\n",
       "    </tr>\n",
       "  </thead>\n",
       "  <tbody>\n",
       "    <tr>\n",
       "      <th>0</th>\n",
       "      <td>train_Client_0</td>\n",
       "      <td>0.0</td>\n",
       "      <td>35</td>\n",
       "      <td>27</td>\n",
       "      <td>25</td>\n",
       "      <td>1</td>\n",
       "      <td>0</td>\n",
       "      <td>0</td>\n",
       "    </tr>\n",
       "    <tr>\n",
       "      <th>1</th>\n",
       "      <td>train_Client_1</td>\n",
       "      <td>0.0</td>\n",
       "      <td>37</td>\n",
       "      <td>19</td>\n",
       "      <td>17</td>\n",
       "      <td>1</td>\n",
       "      <td>0</td>\n",
       "      <td>0</td>\n",
       "    </tr>\n",
       "    <tr>\n",
       "      <th>2</th>\n",
       "      <td>train_Client_10</td>\n",
       "      <td>0.0</td>\n",
       "      <td>18</td>\n",
       "      <td>35</td>\n",
       "      <td>33</td>\n",
       "      <td>1</td>\n",
       "      <td>0</td>\n",
       "      <td>0</td>\n",
       "    </tr>\n",
       "    <tr>\n",
       "      <th>3</th>\n",
       "      <td>train_Client_100</td>\n",
       "      <td>0.0</td>\n",
       "      <td>20</td>\n",
       "      <td>25</td>\n",
       "      <td>16</td>\n",
       "      <td>1</td>\n",
       "      <td>0</td>\n",
       "      <td>0</td>\n",
       "    </tr>\n",
       "    <tr>\n",
       "      <th>4</th>\n",
       "      <td>train_Client_1000</td>\n",
       "      <td>0.0</td>\n",
       "      <td>14</td>\n",
       "      <td>7</td>\n",
       "      <td>5</td>\n",
       "      <td>1</td>\n",
       "      <td>0</td>\n",
       "      <td>0</td>\n",
       "    </tr>\n",
       "  </tbody>\n",
       "</table>\n",
       "</div>"
      ],
      "text/plain": [
       "           client_id  target  invoice_amount  contract_time_length  \\\n",
       "0     train_Client_0     0.0              35                    27   \n",
       "1     train_Client_1     0.0              37                    19   \n",
       "2    train_Client_10     0.0              18                    35   \n",
       "3   train_Client_100     0.0              20                    25   \n",
       "4  train_Client_1000     0.0              14                     7   \n",
       "\n",
       "   contract_time_to_latest  client_catg_11  client_catg_12  client_catg_51  \n",
       "0                       25               1               0               0  \n",
       "1                       17               1               0               0  \n",
       "2                       33               1               0               0  \n",
       "3                       16               1               0               0  \n",
       "4                        5               1               0               0  "
      ]
     },
     "execution_count": 153,
     "metadata": {},
     "output_type": "execute_result"
    }
   ],
   "source": [
    "#Hot encode the categorical variables for the client dataset\n",
    "cat_cols_client = ['client_catg']\n",
    "\n",
    "client_cat = pd.get_dummies(reduced_client_data,columns=cat_cols_client)\n",
    "client_cat.head()"
   ]
  },
  {
   "cell_type": "markdown",
   "metadata": {},
   "source": [
    "<span style=\"color:red\">Needs markdown</span>"
   ]
  },
  {
   "cell_type": "code",
   "execution_count": 154,
   "metadata": {},
   "outputs": [
    {
     "data": {
      "text/html": [
       "<div>\n",
       "<style scoped>\n",
       "    .dataframe tbody tr th:only-of-type {\n",
       "        vertical-align: middle;\n",
       "    }\n",
       "\n",
       "    .dataframe tbody tr th {\n",
       "        vertical-align: top;\n",
       "    }\n",
       "\n",
       "    .dataframe thead th {\n",
       "        text-align: right;\n",
       "    }\n",
       "</style>\n",
       "<table border=\"1\" class=\"dataframe\">\n",
       "  <thead>\n",
       "    <tr style=\"text-align: right;\">\n",
       "      <th></th>\n",
       "      <th>tarif_type_8</th>\n",
       "      <th>tarif_type_9</th>\n",
       "      <th>tarif_type_10</th>\n",
       "      <th>tarif_type_11</th>\n",
       "      <th>tarif_type_12</th>\n",
       "      <th>tarif_type_13</th>\n",
       "      <th>tarif_type_14</th>\n",
       "      <th>tarif_type_15</th>\n",
       "      <th>tarif_type_21</th>\n",
       "      <th>tarif_type_29</th>\n",
       "      <th>...</th>\n",
       "      <th>counter_statue_2</th>\n",
       "      <th>counter_statue_3</th>\n",
       "      <th>counter_statue_4</th>\n",
       "      <th>counter_statue_5</th>\n",
       "      <th>reading_remarque_6</th>\n",
       "      <th>reading_remarque_7</th>\n",
       "      <th>reading_remarque_8</th>\n",
       "      <th>reading_remarque_9</th>\n",
       "      <th>counter_type_ELEC</th>\n",
       "      <th>counter_type_GAZ</th>\n",
       "    </tr>\n",
       "    <tr>\n",
       "      <th>client_id</th>\n",
       "      <th></th>\n",
       "      <th></th>\n",
       "      <th></th>\n",
       "      <th></th>\n",
       "      <th></th>\n",
       "      <th></th>\n",
       "      <th></th>\n",
       "      <th></th>\n",
       "      <th></th>\n",
       "      <th></th>\n",
       "      <th></th>\n",
       "      <th></th>\n",
       "      <th></th>\n",
       "      <th></th>\n",
       "      <th></th>\n",
       "      <th></th>\n",
       "      <th></th>\n",
       "      <th></th>\n",
       "      <th></th>\n",
       "      <th></th>\n",
       "      <th></th>\n",
       "    </tr>\n",
       "  </thead>\n",
       "  <tbody>\n",
       "    <tr>\n",
       "      <th>train_Client_0</th>\n",
       "      <td>0.0</td>\n",
       "      <td>0.0</td>\n",
       "      <td>0.0</td>\n",
       "      <td>1.0</td>\n",
       "      <td>0.0</td>\n",
       "      <td>0.0</td>\n",
       "      <td>0.0</td>\n",
       "      <td>0.0</td>\n",
       "      <td>0.0</td>\n",
       "      <td>0.0</td>\n",
       "      <td>...</td>\n",
       "      <td>0.0</td>\n",
       "      <td>0.0</td>\n",
       "      <td>0.0</td>\n",
       "      <td>0.0</td>\n",
       "      <td>0.600000</td>\n",
       "      <td>0.0</td>\n",
       "      <td>0.228571</td>\n",
       "      <td>0.171429</td>\n",
       "      <td>1.0</td>\n",
       "      <td>0.0</td>\n",
       "    </tr>\n",
       "    <tr>\n",
       "      <th>train_Client_1</th>\n",
       "      <td>0.0</td>\n",
       "      <td>0.0</td>\n",
       "      <td>0.0</td>\n",
       "      <td>1.0</td>\n",
       "      <td>0.0</td>\n",
       "      <td>0.0</td>\n",
       "      <td>0.0</td>\n",
       "      <td>0.0</td>\n",
       "      <td>0.0</td>\n",
       "      <td>0.0</td>\n",
       "      <td>...</td>\n",
       "      <td>0.0</td>\n",
       "      <td>0.0</td>\n",
       "      <td>0.0</td>\n",
       "      <td>0.0</td>\n",
       "      <td>0.540541</td>\n",
       "      <td>0.0</td>\n",
       "      <td>0.162162</td>\n",
       "      <td>0.297297</td>\n",
       "      <td>1.0</td>\n",
       "      <td>0.0</td>\n",
       "    </tr>\n",
       "    <tr>\n",
       "      <th>train_Client_10</th>\n",
       "      <td>0.0</td>\n",
       "      <td>0.0</td>\n",
       "      <td>0.0</td>\n",
       "      <td>1.0</td>\n",
       "      <td>0.0</td>\n",
       "      <td>0.0</td>\n",
       "      <td>0.0</td>\n",
       "      <td>0.0</td>\n",
       "      <td>0.0</td>\n",
       "      <td>0.0</td>\n",
       "      <td>...</td>\n",
       "      <td>0.0</td>\n",
       "      <td>0.0</td>\n",
       "      <td>0.0</td>\n",
       "      <td>0.0</td>\n",
       "      <td>0.555556</td>\n",
       "      <td>0.0</td>\n",
       "      <td>0.277778</td>\n",
       "      <td>0.166667</td>\n",
       "      <td>1.0</td>\n",
       "      <td>0.0</td>\n",
       "    </tr>\n",
       "    <tr>\n",
       "      <th>train_Client_100</th>\n",
       "      <td>0.0</td>\n",
       "      <td>0.0</td>\n",
       "      <td>0.0</td>\n",
       "      <td>1.0</td>\n",
       "      <td>0.0</td>\n",
       "      <td>0.0</td>\n",
       "      <td>0.0</td>\n",
       "      <td>0.0</td>\n",
       "      <td>0.0</td>\n",
       "      <td>0.0</td>\n",
       "      <td>...</td>\n",
       "      <td>0.0</td>\n",
       "      <td>0.0</td>\n",
       "      <td>0.0</td>\n",
       "      <td>0.0</td>\n",
       "      <td>0.950000</td>\n",
       "      <td>0.0</td>\n",
       "      <td>0.000000</td>\n",
       "      <td>0.050000</td>\n",
       "      <td>1.0</td>\n",
       "      <td>0.0</td>\n",
       "    </tr>\n",
       "    <tr>\n",
       "      <th>train_Client_1000</th>\n",
       "      <td>0.0</td>\n",
       "      <td>0.0</td>\n",
       "      <td>0.0</td>\n",
       "      <td>1.0</td>\n",
       "      <td>0.0</td>\n",
       "      <td>0.0</td>\n",
       "      <td>0.0</td>\n",
       "      <td>0.0</td>\n",
       "      <td>0.0</td>\n",
       "      <td>0.0</td>\n",
       "      <td>...</td>\n",
       "      <td>0.0</td>\n",
       "      <td>0.0</td>\n",
       "      <td>0.0</td>\n",
       "      <td>0.0</td>\n",
       "      <td>0.000000</td>\n",
       "      <td>0.0</td>\n",
       "      <td>0.142857</td>\n",
       "      <td>0.857143</td>\n",
       "      <td>1.0</td>\n",
       "      <td>0.0</td>\n",
       "    </tr>\n",
       "  </tbody>\n",
       "</table>\n",
       "<p>5 rows × 25 columns</p>\n",
       "</div>"
      ],
      "text/plain": [
       "                   tarif_type_8  tarif_type_9  tarif_type_10  tarif_type_11  \\\n",
       "client_id                                                                     \n",
       "train_Client_0              0.0           0.0            0.0            1.0   \n",
       "train_Client_1              0.0           0.0            0.0            1.0   \n",
       "train_Client_10             0.0           0.0            0.0            1.0   \n",
       "train_Client_100            0.0           0.0            0.0            1.0   \n",
       "train_Client_1000           0.0           0.0            0.0            1.0   \n",
       "\n",
       "                   tarif_type_12  tarif_type_13  tarif_type_14  tarif_type_15  \\\n",
       "client_id                                                                       \n",
       "train_Client_0               0.0            0.0            0.0            0.0   \n",
       "train_Client_1               0.0            0.0            0.0            0.0   \n",
       "train_Client_10              0.0            0.0            0.0            0.0   \n",
       "train_Client_100             0.0            0.0            0.0            0.0   \n",
       "train_Client_1000            0.0            0.0            0.0            0.0   \n",
       "\n",
       "                   tarif_type_21  tarif_type_29  ...  counter_statue_2  \\\n",
       "client_id                                        ...                     \n",
       "train_Client_0               0.0            0.0  ...               0.0   \n",
       "train_Client_1               0.0            0.0  ...               0.0   \n",
       "train_Client_10              0.0            0.0  ...               0.0   \n",
       "train_Client_100             0.0            0.0  ...               0.0   \n",
       "train_Client_1000            0.0            0.0  ...               0.0   \n",
       "\n",
       "                   counter_statue_3  counter_statue_4  counter_statue_5  \\\n",
       "client_id                                                                 \n",
       "train_Client_0                  0.0               0.0               0.0   \n",
       "train_Client_1                  0.0               0.0               0.0   \n",
       "train_Client_10                 0.0               0.0               0.0   \n",
       "train_Client_100                0.0               0.0               0.0   \n",
       "train_Client_1000               0.0               0.0               0.0   \n",
       "\n",
       "                   reading_remarque_6  reading_remarque_7  reading_remarque_8  \\\n",
       "client_id                                                                       \n",
       "train_Client_0               0.600000                 0.0            0.228571   \n",
       "train_Client_1               0.540541                 0.0            0.162162   \n",
       "train_Client_10              0.555556                 0.0            0.277778   \n",
       "train_Client_100             0.950000                 0.0            0.000000   \n",
       "train_Client_1000            0.000000                 0.0            0.142857   \n",
       "\n",
       "                   reading_remarque_9  counter_type_ELEC  counter_type_GAZ  \n",
       "client_id                                                                   \n",
       "train_Client_0               0.171429                1.0               0.0  \n",
       "train_Client_1               0.297297                1.0               0.0  \n",
       "train_Client_10              0.166667                1.0               0.0  \n",
       "train_Client_100             0.050000                1.0               0.0  \n",
       "train_Client_1000            0.857143                1.0               0.0  \n",
       "\n",
       "[5 rows x 25 columns]"
      ]
     },
     "execution_count": 154,
     "metadata": {},
     "output_type": "execute_result"
    }
   ],
   "source": [
    "df_mean = invoice_cat.groupby('client_id').agg('mean').iloc[:,6:]\n",
    "df_mean.head()"
   ]
  },
  {
   "cell_type": "markdown",
   "metadata": {},
   "source": [
    "<span style=\"color:red\">Needs markdown</span>"
   ]
  },
  {
   "cell_type": "code",
   "execution_count": 155,
   "metadata": {},
   "outputs": [
    {
     "data": {
      "text/html": [
       "<div>\n",
       "<style scoped>\n",
       "    .dataframe tbody tr th:only-of-type {\n",
       "        vertical-align: middle;\n",
       "    }\n",
       "\n",
       "    .dataframe tbody tr th {\n",
       "        vertical-align: top;\n",
       "    }\n",
       "\n",
       "    .dataframe thead th {\n",
       "        text-align: right;\n",
       "    }\n",
       "</style>\n",
       "<table border=\"1\" class=\"dataframe\">\n",
       "  <thead>\n",
       "    <tr style=\"text-align: right;\">\n",
       "      <th></th>\n",
       "      <th>consommation_level_1_min</th>\n",
       "      <th>consommation_level_1_max</th>\n",
       "      <th>consommation_level_1_mean</th>\n",
       "      <th>consommation_level_1_median</th>\n",
       "      <th>consommation_level_1_std</th>\n",
       "      <th>consommation_level_2_min</th>\n",
       "      <th>consommation_level_2_max</th>\n",
       "      <th>consommation_level_2_mean</th>\n",
       "      <th>consommation_level_2_median</th>\n",
       "      <th>consommation_level_2_std</th>\n",
       "      <th>...</th>\n",
       "      <th>index_dif_min</th>\n",
       "      <th>index_dif_max</th>\n",
       "      <th>index_dif_mean</th>\n",
       "      <th>index_dif_median</th>\n",
       "      <th>index_dif_std</th>\n",
       "      <th>months_number_min</th>\n",
       "      <th>months_number_max</th>\n",
       "      <th>months_number_mean</th>\n",
       "      <th>months_number_median</th>\n",
       "      <th>months_number_std</th>\n",
       "    </tr>\n",
       "    <tr>\n",
       "      <th>client_id</th>\n",
       "      <th></th>\n",
       "      <th></th>\n",
       "      <th></th>\n",
       "      <th></th>\n",
       "      <th></th>\n",
       "      <th></th>\n",
       "      <th></th>\n",
       "      <th></th>\n",
       "      <th></th>\n",
       "      <th></th>\n",
       "      <th></th>\n",
       "      <th></th>\n",
       "      <th></th>\n",
       "      <th></th>\n",
       "      <th></th>\n",
       "      <th></th>\n",
       "      <th></th>\n",
       "      <th></th>\n",
       "      <th></th>\n",
       "      <th></th>\n",
       "      <th></th>\n",
       "    </tr>\n",
       "  </thead>\n",
       "  <tbody>\n",
       "    <tr>\n",
       "      <th>train_Client_0</th>\n",
       "      <td>38</td>\n",
       "      <td>1200</td>\n",
       "      <td>352.400000</td>\n",
       "      <td>267.0</td>\n",
       "      <td>310.343472</td>\n",
       "      <td>0</td>\n",
       "      <td>186</td>\n",
       "      <td>10.571429</td>\n",
       "      <td>0.0</td>\n",
       "      <td>43.568935</td>\n",
       "      <td>...</td>\n",
       "      <td>38</td>\n",
       "      <td>1386</td>\n",
       "      <td>362.971429</td>\n",
       "      <td>267.0</td>\n",
       "      <td>341.553930</td>\n",
       "      <td>2</td>\n",
       "      <td>12</td>\n",
       "      <td>4.628571</td>\n",
       "      <td>4.0</td>\n",
       "      <td>2.101620</td>\n",
       "    </tr>\n",
       "    <tr>\n",
       "      <th>train_Client_1</th>\n",
       "      <td>190</td>\n",
       "      <td>1207</td>\n",
       "      <td>557.540541</td>\n",
       "      <td>520.0</td>\n",
       "      <td>197.935960</td>\n",
       "      <td>0</td>\n",
       "      <td>0</td>\n",
       "      <td>0.000000</td>\n",
       "      <td>0.0</td>\n",
       "      <td>0.000000</td>\n",
       "      <td>...</td>\n",
       "      <td>190</td>\n",
       "      <td>1207</td>\n",
       "      <td>557.540541</td>\n",
       "      <td>520.0</td>\n",
       "      <td>197.935960</td>\n",
       "      <td>2</td>\n",
       "      <td>8</td>\n",
       "      <td>4.324324</td>\n",
       "      <td>4.0</td>\n",
       "      <td>1.375461</td>\n",
       "    </tr>\n",
       "    <tr>\n",
       "      <th>train_Client_10</th>\n",
       "      <td>188</td>\n",
       "      <td>2400</td>\n",
       "      <td>798.611111</td>\n",
       "      <td>655.5</td>\n",
       "      <td>513.841374</td>\n",
       "      <td>0</td>\n",
       "      <td>682</td>\n",
       "      <td>37.888889</td>\n",
       "      <td>0.0</td>\n",
       "      <td>160.748942</td>\n",
       "      <td>...</td>\n",
       "      <td>188</td>\n",
       "      <td>3082</td>\n",
       "      <td>836.500000</td>\n",
       "      <td>655.5</td>\n",
       "      <td>646.808386</td>\n",
       "      <td>4</td>\n",
       "      <td>12</td>\n",
       "      <td>6.444444</td>\n",
       "      <td>4.0</td>\n",
       "      <td>3.399346</td>\n",
       "    </tr>\n",
       "    <tr>\n",
       "      <th>train_Client_100</th>\n",
       "      <td>0</td>\n",
       "      <td>15</td>\n",
       "      <td>1.200000</td>\n",
       "      <td>0.0</td>\n",
       "      <td>3.607011</td>\n",
       "      <td>0</td>\n",
       "      <td>0</td>\n",
       "      <td>0.000000</td>\n",
       "      <td>0.0</td>\n",
       "      <td>0.000000</td>\n",
       "      <td>...</td>\n",
       "      <td>0</td>\n",
       "      <td>15</td>\n",
       "      <td>1.200000</td>\n",
       "      <td>0.0</td>\n",
       "      <td>3.607011</td>\n",
       "      <td>4</td>\n",
       "      <td>6</td>\n",
       "      <td>4.200000</td>\n",
       "      <td>4.0</td>\n",
       "      <td>0.615587</td>\n",
       "    </tr>\n",
       "    <tr>\n",
       "      <th>train_Client_1000</th>\n",
       "      <td>124</td>\n",
       "      <td>800</td>\n",
       "      <td>663.714286</td>\n",
       "      <td>770.0</td>\n",
       "      <td>224.831365</td>\n",
       "      <td>0</td>\n",
       "      <td>400</td>\n",
       "      <td>104.857143</td>\n",
       "      <td>0.0</td>\n",
       "      <td>167.155320</td>\n",
       "      <td>...</td>\n",
       "      <td>124</td>\n",
       "      <td>2382</td>\n",
       "      <td>922.642857</td>\n",
       "      <td>770.0</td>\n",
       "      <td>633.485669</td>\n",
       "      <td>2</td>\n",
       "      <td>4</td>\n",
       "      <td>3.714286</td>\n",
       "      <td>4.0</td>\n",
       "      <td>0.726273</td>\n",
       "    </tr>\n",
       "  </tbody>\n",
       "</table>\n",
       "<p>5 rows × 30 columns</p>\n",
       "</div>"
      ],
      "text/plain": [
       "                   consommation_level_1_min  consommation_level_1_max  \\\n",
       "client_id                                                               \n",
       "train_Client_0                           38                      1200   \n",
       "train_Client_1                          190                      1207   \n",
       "train_Client_10                         188                      2400   \n",
       "train_Client_100                          0                        15   \n",
       "train_Client_1000                       124                       800   \n",
       "\n",
       "                   consommation_level_1_mean  consommation_level_1_median  \\\n",
       "client_id                                                                   \n",
       "train_Client_0                    352.400000                        267.0   \n",
       "train_Client_1                    557.540541                        520.0   \n",
       "train_Client_10                   798.611111                        655.5   \n",
       "train_Client_100                    1.200000                          0.0   \n",
       "train_Client_1000                 663.714286                        770.0   \n",
       "\n",
       "                   consommation_level_1_std  consommation_level_2_min  \\\n",
       "client_id                                                               \n",
       "train_Client_0                   310.343472                         0   \n",
       "train_Client_1                   197.935960                         0   \n",
       "train_Client_10                  513.841374                         0   \n",
       "train_Client_100                   3.607011                         0   \n",
       "train_Client_1000                224.831365                         0   \n",
       "\n",
       "                   consommation_level_2_max  consommation_level_2_mean  \\\n",
       "client_id                                                                \n",
       "train_Client_0                          186                  10.571429   \n",
       "train_Client_1                            0                   0.000000   \n",
       "train_Client_10                         682                  37.888889   \n",
       "train_Client_100                          0                   0.000000   \n",
       "train_Client_1000                       400                 104.857143   \n",
       "\n",
       "                   consommation_level_2_median  consommation_level_2_std  ...  \\\n",
       "client_id                                                                 ...   \n",
       "train_Client_0                             0.0                 43.568935  ...   \n",
       "train_Client_1                             0.0                  0.000000  ...   \n",
       "train_Client_10                            0.0                160.748942  ...   \n",
       "train_Client_100                           0.0                  0.000000  ...   \n",
       "train_Client_1000                          0.0                167.155320  ...   \n",
       "\n",
       "                   index_dif_min  index_dif_max  index_dif_mean  \\\n",
       "client_id                                                         \n",
       "train_Client_0                38           1386      362.971429   \n",
       "train_Client_1               190           1207      557.540541   \n",
       "train_Client_10              188           3082      836.500000   \n",
       "train_Client_100               0             15        1.200000   \n",
       "train_Client_1000            124           2382      922.642857   \n",
       "\n",
       "                   index_dif_median  index_dif_std  months_number_min  \\\n",
       "client_id                                                               \n",
       "train_Client_0                267.0     341.553930                  2   \n",
       "train_Client_1                520.0     197.935960                  2   \n",
       "train_Client_10               655.5     646.808386                  4   \n",
       "train_Client_100                0.0       3.607011                  4   \n",
       "train_Client_1000             770.0     633.485669                  2   \n",
       "\n",
       "                   months_number_max  months_number_mean  \\\n",
       "client_id                                                  \n",
       "train_Client_0                    12            4.628571   \n",
       "train_Client_1                     8            4.324324   \n",
       "train_Client_10                   12            6.444444   \n",
       "train_Client_100                   6            4.200000   \n",
       "train_Client_1000                  4            3.714286   \n",
       "\n",
       "                   months_number_median  months_number_std  \n",
       "client_id                                                   \n",
       "train_Client_0                      4.0           2.101620  \n",
       "train_Client_1                      4.0           1.375461  \n",
       "train_Client_10                     4.0           3.399346  \n",
       "train_Client_100                    4.0           0.615587  \n",
       "train_Client_1000                   4.0           0.726273  \n",
       "\n",
       "[5 rows x 30 columns]"
      ]
     },
     "execution_count": 155,
     "metadata": {},
     "output_type": "execute_result"
    }
   ],
   "source": [
    "df_cons= invoice_cat.groupby('client_id').agg({'consommation_level_1': ['min', 'max','mean','median','std'],\n",
    "                                     'consommation_level_2': ['min', 'max','mean','median','std'],\n",
    "                                     'consommation_level_3': ['min', 'max','mean','median','std'],\n",
    "                                     'consommation_level_4': ['min', 'max','mean','median','std'],\n",
    "                                     'index_dif': ['min', 'max','mean','median','std'],\n",
    "                                     'months_number': ['min', 'max','mean','median','std']})\n",
    "\n",
    "df_cons.columns = ['consommation_level_1_min','consommation_level_1_max','consommation_level_1_mean','consommation_level_1_median','consommation_level_1_std','consommation_level_2_min','consommation_level_2_max','consommation_level_2_mean','consommation_level_2_median','consommation_level_2_std','consommation_level_3_min','consommation_level_3_max','consommation_level_3_mean','consommation_level_3_median','consommation_level_3_std','consommation_level_4_min','consommation_level_4_max','consommation_level_4_mean','consommation_level_4_median','consommation_level_4_std','index_dif_min','index_dif_max','index_dif_mean','index_dif_median','index_dif_std','months_number_min','months_number_max','months_number_mean','months_number_median','months_number_std']\n",
    "df_cons.head()"
   ]
  },
  {
   "cell_type": "code",
   "execution_count": 156,
   "metadata": {},
   "outputs": [],
   "source": [
    "#merging the grouped invoice data set of means and describe()\n",
    "derived_invoice = df_cons.merge(df_mean,on='client_id')"
   ]
  },
  {
   "cell_type": "code",
   "execution_count": 157,
   "metadata": {},
   "outputs": [],
   "source": [
    "#merging grouped invoice dataset with the original client dataset\n",
    "final_dataset = client_cat.merge(derived_invoice,on='client_id')\n",
    "final_dataset.drop(columns=['client_id'],inplace=True)"
   ]
  },
  {
   "cell_type": "code",
   "execution_count": 158,
   "metadata": {},
   "outputs": [
    {
     "data": {
      "text/plain": [
       "(135354, 62)"
      ]
     },
     "execution_count": 158,
     "metadata": {},
     "output_type": "execute_result"
    }
   ],
   "source": [
    "final_dataset.fillna(0,inplace=True) #There are NaN where because standard deviation of one invoice gives error\n",
    "final_dataset.shape"
   ]
  },
  {
   "cell_type": "code",
   "execution_count": 159,
   "metadata": {},
   "outputs": [
    {
     "data": {
      "text/html": [
       "<div>\n",
       "<style scoped>\n",
       "    .dataframe tbody tr th:only-of-type {\n",
       "        vertical-align: middle;\n",
       "    }\n",
       "\n",
       "    .dataframe tbody tr th {\n",
       "        vertical-align: top;\n",
       "    }\n",
       "\n",
       "    .dataframe thead th {\n",
       "        text-align: right;\n",
       "    }\n",
       "</style>\n",
       "<table border=\"1\" class=\"dataframe\">\n",
       "  <thead>\n",
       "    <tr style=\"text-align: right;\">\n",
       "      <th></th>\n",
       "      <th>target</th>\n",
       "      <th>invoice_amount</th>\n",
       "      <th>contract_time_length</th>\n",
       "      <th>contract_time_to_latest</th>\n",
       "      <th>client_catg_11</th>\n",
       "      <th>client_catg_12</th>\n",
       "      <th>client_catg_51</th>\n",
       "      <th>consommation_level_1_min</th>\n",
       "      <th>consommation_level_1_max</th>\n",
       "      <th>consommation_level_1_mean</th>\n",
       "      <th>...</th>\n",
       "      <th>counter_statue_2</th>\n",
       "      <th>counter_statue_3</th>\n",
       "      <th>counter_statue_4</th>\n",
       "      <th>counter_statue_5</th>\n",
       "      <th>reading_remarque_6</th>\n",
       "      <th>reading_remarque_7</th>\n",
       "      <th>reading_remarque_8</th>\n",
       "      <th>reading_remarque_9</th>\n",
       "      <th>counter_type_ELEC</th>\n",
       "      <th>counter_type_GAZ</th>\n",
       "    </tr>\n",
       "  </thead>\n",
       "  <tbody>\n",
       "    <tr>\n",
       "      <th>0</th>\n",
       "      <td>0.0</td>\n",
       "      <td>35</td>\n",
       "      <td>27</td>\n",
       "      <td>25</td>\n",
       "      <td>1</td>\n",
       "      <td>0</td>\n",
       "      <td>0</td>\n",
       "      <td>38</td>\n",
       "      <td>1200</td>\n",
       "      <td>352.400000</td>\n",
       "      <td>...</td>\n",
       "      <td>0.0</td>\n",
       "      <td>0.0</td>\n",
       "      <td>0.0</td>\n",
       "      <td>0.0</td>\n",
       "      <td>0.600000</td>\n",
       "      <td>0.0</td>\n",
       "      <td>0.228571</td>\n",
       "      <td>0.171429</td>\n",
       "      <td>1.0</td>\n",
       "      <td>0.0</td>\n",
       "    </tr>\n",
       "    <tr>\n",
       "      <th>1</th>\n",
       "      <td>0.0</td>\n",
       "      <td>37</td>\n",
       "      <td>19</td>\n",
       "      <td>17</td>\n",
       "      <td>1</td>\n",
       "      <td>0</td>\n",
       "      <td>0</td>\n",
       "      <td>190</td>\n",
       "      <td>1207</td>\n",
       "      <td>557.540541</td>\n",
       "      <td>...</td>\n",
       "      <td>0.0</td>\n",
       "      <td>0.0</td>\n",
       "      <td>0.0</td>\n",
       "      <td>0.0</td>\n",
       "      <td>0.540541</td>\n",
       "      <td>0.0</td>\n",
       "      <td>0.162162</td>\n",
       "      <td>0.297297</td>\n",
       "      <td>1.0</td>\n",
       "      <td>0.0</td>\n",
       "    </tr>\n",
       "    <tr>\n",
       "      <th>2</th>\n",
       "      <td>0.0</td>\n",
       "      <td>18</td>\n",
       "      <td>35</td>\n",
       "      <td>33</td>\n",
       "      <td>1</td>\n",
       "      <td>0</td>\n",
       "      <td>0</td>\n",
       "      <td>188</td>\n",
       "      <td>2400</td>\n",
       "      <td>798.611111</td>\n",
       "      <td>...</td>\n",
       "      <td>0.0</td>\n",
       "      <td>0.0</td>\n",
       "      <td>0.0</td>\n",
       "      <td>0.0</td>\n",
       "      <td>0.555556</td>\n",
       "      <td>0.0</td>\n",
       "      <td>0.277778</td>\n",
       "      <td>0.166667</td>\n",
       "      <td>1.0</td>\n",
       "      <td>0.0</td>\n",
       "    </tr>\n",
       "    <tr>\n",
       "      <th>3</th>\n",
       "      <td>0.0</td>\n",
       "      <td>20</td>\n",
       "      <td>25</td>\n",
       "      <td>16</td>\n",
       "      <td>1</td>\n",
       "      <td>0</td>\n",
       "      <td>0</td>\n",
       "      <td>0</td>\n",
       "      <td>15</td>\n",
       "      <td>1.200000</td>\n",
       "      <td>...</td>\n",
       "      <td>0.0</td>\n",
       "      <td>0.0</td>\n",
       "      <td>0.0</td>\n",
       "      <td>0.0</td>\n",
       "      <td>0.950000</td>\n",
       "      <td>0.0</td>\n",
       "      <td>0.000000</td>\n",
       "      <td>0.050000</td>\n",
       "      <td>1.0</td>\n",
       "      <td>0.0</td>\n",
       "    </tr>\n",
       "    <tr>\n",
       "      <th>4</th>\n",
       "      <td>0.0</td>\n",
       "      <td>14</td>\n",
       "      <td>7</td>\n",
       "      <td>5</td>\n",
       "      <td>1</td>\n",
       "      <td>0</td>\n",
       "      <td>0</td>\n",
       "      <td>124</td>\n",
       "      <td>800</td>\n",
       "      <td>663.714286</td>\n",
       "      <td>...</td>\n",
       "      <td>0.0</td>\n",
       "      <td>0.0</td>\n",
       "      <td>0.0</td>\n",
       "      <td>0.0</td>\n",
       "      <td>0.000000</td>\n",
       "      <td>0.0</td>\n",
       "      <td>0.142857</td>\n",
       "      <td>0.857143</td>\n",
       "      <td>1.0</td>\n",
       "      <td>0.0</td>\n",
       "    </tr>\n",
       "  </tbody>\n",
       "</table>\n",
       "<p>5 rows × 62 columns</p>\n",
       "</div>"
      ],
      "text/plain": [
       "   target  invoice_amount  contract_time_length  contract_time_to_latest  \\\n",
       "0     0.0              35                    27                       25   \n",
       "1     0.0              37                    19                       17   \n",
       "2     0.0              18                    35                       33   \n",
       "3     0.0              20                    25                       16   \n",
       "4     0.0              14                     7                        5   \n",
       "\n",
       "   client_catg_11  client_catg_12  client_catg_51  consommation_level_1_min  \\\n",
       "0               1               0               0                        38   \n",
       "1               1               0               0                       190   \n",
       "2               1               0               0                       188   \n",
       "3               1               0               0                         0   \n",
       "4               1               0               0                       124   \n",
       "\n",
       "   consommation_level_1_max  consommation_level_1_mean  ...  counter_statue_2  \\\n",
       "0                      1200                 352.400000  ...               0.0   \n",
       "1                      1207                 557.540541  ...               0.0   \n",
       "2                      2400                 798.611111  ...               0.0   \n",
       "3                        15                   1.200000  ...               0.0   \n",
       "4                       800                 663.714286  ...               0.0   \n",
       "\n",
       "   counter_statue_3  counter_statue_4  counter_statue_5  reading_remarque_6  \\\n",
       "0               0.0               0.0               0.0            0.600000   \n",
       "1               0.0               0.0               0.0            0.540541   \n",
       "2               0.0               0.0               0.0            0.555556   \n",
       "3               0.0               0.0               0.0            0.950000   \n",
       "4               0.0               0.0               0.0            0.000000   \n",
       "\n",
       "   reading_remarque_7  reading_remarque_8  reading_remarque_9  \\\n",
       "0                 0.0            0.228571            0.171429   \n",
       "1                 0.0            0.162162            0.297297   \n",
       "2                 0.0            0.277778            0.166667   \n",
       "3                 0.0            0.000000            0.050000   \n",
       "4                 0.0            0.142857            0.857143   \n",
       "\n",
       "   counter_type_ELEC  counter_type_GAZ  \n",
       "0                1.0               0.0  \n",
       "1                1.0               0.0  \n",
       "2                1.0               0.0  \n",
       "3                1.0               0.0  \n",
       "4                1.0               0.0  \n",
       "\n",
       "[5 rows x 62 columns]"
      ]
     },
     "execution_count": 159,
     "metadata": {},
     "output_type": "execute_result"
    }
   ],
   "source": [
    "final_dataset.head()"
   ]
  },
  {
   "cell_type": "markdown",
   "metadata": {},
   "source": [
    "<span style=\"color:red\">We need to plot the data that we got and make comments on it</span>\n",
    "    \n",
    "<span style=\"color:red\">We also need to one hot encode the rest of the categorical values</span>\n",
    "\n",
    "<span style=\"color:red\">We also need to decide what to do with district and region and we need to drop cliend_id</span>"
   ]
  },
  {
   "cell_type": "markdown",
   "metadata": {},
   "source": [
    "## Data preparation \n"
   ]
  },
  {
   "cell_type": "markdown",
   "metadata": {},
   "source": [
    "<span style=\"color:red\">Data reshaped using centering, normalization or standardization.\n",
    "More than one type of data preprocessing technique was considered.\n",
    "Motivation for the choice of technique.</span>"
   ]
  },
  {
   "cell_type": "code",
   "execution_count": 164,
   "metadata": {},
   "outputs": [],
   "source": [
    "#Splitting the data\n",
    "X = final_dataset.drop(columns=['target']).values\n",
    "y = final_dataset['target'].values"
   ]
  },
  {
   "cell_type": "code",
   "execution_count": 165,
   "metadata": {},
   "outputs": [],
   "source": [
    "from sklearn.model_selection import train_test_split\n",
    "# split training data\n",
    "X_train, X_valid, y_train, y_valid = train_test_split(X, y, test_size=0.5, random_state=42)"
   ]
  },
  {
   "cell_type": "code",
   "execution_count": 166,
   "metadata": {},
   "outputs": [
    {
     "name": "stdout",
     "output_type": "stream",
     "text": [
      "Class count before: Counter({0.0: 63911, 1.0: 3766})\n",
      "Class count after: Counter({0.0: 7532, 1.0: 3766})\n"
     ]
    }
   ],
   "source": [
    "#Redistributing the classes\n",
    "counter = Counter(y_train)\n",
    "print('Class count before:', counter)\n",
    "\n",
    "# over sample minority to equal 20% of the majority's size\n",
    "over = SMOTE(sampling_strategy = 0.1, random_state = 42)\n",
    "\n",
    "# under sample majority to have the minority class equal 50% of the majority's size\n",
    "under = RandomUnderSampler(sampling_strategy = 0.5, random_state = 42)\n",
    "\n",
    "steps = [('o', over), ('u', under)]\n",
    "pipeline = Pipeline(steps=steps)\n",
    "X_train, y_train = under.fit_resample(X_train, y_train)\n",
    "\n",
    "counter = Counter(y_train)\n",
    "print('Class count after:', counter)"
   ]
  },
  {
   "cell_type": "code",
   "execution_count": 167,
   "metadata": {},
   "outputs": [],
   "source": [
    "#Scaling the data\n",
    "from sklearn.preprocessing import MinMaxScaler,RobustScaler,StandardScaler\n",
    "\n",
    "scale_pipeline = Pipeline(steps=[('standardscaler', StandardScaler()),\n",
    "                ('minmax', MinMaxScaler())])\n",
    "\n",
    "X_train = scale_pipeline.fit_transform(X_train)\n",
    "X_valid = scale_pipeline.fit_transform(X_valid)"
   ]
  },
  {
   "cell_type": "markdown",
   "metadata": {},
   "source": [
    "## Model choice"
   ]
  },
  {
   "cell_type": "markdown",
   "metadata": {},
   "source": [
    "<span style=\"color:red\">More than one type of model or different configurations of one model. Motivation as to why these models.</span>"
   ]
  },
  {
   "cell_type": "code",
   "execution_count": 168,
   "metadata": {},
   "outputs": [],
   "source": [
    "from sklearn.neural_network import MLPClassifier\n",
    "from sklearn.neighbors import KNeighborsClassifier\n",
    "from sklearn.svm import SVC\n",
    "from sklearn.gaussian_process.kernels import RBF\n",
    "from sklearn.tree import DecisionTreeClassifier\n",
    "from sklearn.ensemble import RandomForestClassifier\n",
    "from sklearn.naive_bayes import MultinomialNB\n",
    "from sklearn.linear_model import LogisticRegression\n",
    "#3:40\n",
    "names = [\"Nearest_Neighbors\",\"SVC\", \"Decision_Tree\", \"Random_Forest\", \"Logistic_regression\",\n",
    "         \"MultinomialNB\"]\n",
    "classifiers = [\n",
    "    KNeighborsClassifier(3, n_jobs =-1),\n",
    "    SVC(random_state = 42),\n",
    "    DecisionTreeClassifier(),\n",
    "    RandomForestClassifier(n_jobs =-1),\n",
    "    LogisticRegression(n_jobs =-1),\n",
    "    MultinomialNB()]"
   ]
  },
  {
   "cell_type": "markdown",
   "metadata": {},
   "source": [
    "## Model training "
   ]
  },
  {
   "cell_type": "markdown",
   "metadata": {},
   "source": [
    "<span style=\"color:red\">Models trained , commentary on results (loss criteria, overfitting , how well the model fairs). Comentary on choice of loss metrics selection of optimizers. Training visualized through graphs (confusion matrix, accuracy estimates vs epoch)</span>"
   ]
  },
  {
   "cell_type": "code",
   "execution_count": null,
   "metadata": {},
   "outputs": [],
   "source": []
  },
  {
   "cell_type": "markdown",
   "metadata": {},
   "source": [
    "## Model tuning"
   ]
  },
  {
   "cell_type": "markdown",
   "metadata": {},
   "source": [
    "<span style=\"color:red\">Hyper-parameters were tuned and evaluated on the validation set. Commentary on the dierent hyper-\n",
    "parameters. Performance of dierent values of hyper-parameters visualized through graphs.Choice of tuning technique justified (grid search, etc).</span>"
   ]
  },
  {
   "cell_type": "markdown",
   "metadata": {},
   "source": [
    "## Model assesment"
   ]
  },
  {
   "cell_type": "markdown",
   "metadata": {},
   "source": [
    "<span style=\"color:red\">Results portrayed through tabular data and/or graphs. (confusion matrix, ROC curve, etc). Commentary regarding performance of the model. (Different models compared). Commentary regarding the choice of performance metric. (Accuracy, cross entropy loss, etc). Discussion on how performance could be increased further.</span>"
   ]
  },
  {
   "cell_type": "markdown",
   "metadata": {},
   "source": [
    "## Final Model performance"
   ]
  },
  {
   "cell_type": "markdown",
   "metadata": {},
   "source": [
    "<span style=\"color:red\">90% - 100%</span>"
   ]
  },
  {
   "cell_type": "code",
   "execution_count": 122,
   "metadata": {},
   "outputs": [],
   "source": [
    "from sklearn.neural_network import MLPClassifier\n",
    "from sklearn.neighbors import KNeighborsClassifier\n",
    "from sklearn.svm import SVC\n",
    "from sklearn.gaussian_process.kernels import RBF\n",
    "from sklearn.tree import DecisionTreeClassifier\n",
    "from sklearn.ensemble import RandomForestClassifier\n",
    "from sklearn.naive_bayes import MultinomialNB\n",
    "from sklearn.linear_model import LogisticRegression\n",
    "#3:40\n",
    "names = [\"Nearest_Neighbors\",\"SVC\", \"Decision_Tree\", \"Random_Forest\", \"Logistic_regression\",\n",
    "         \"MultinomialNB\"]\n",
    "classifiers = [\n",
    "    KNeighborsClassifier(3, n_jobs =-1),\n",
    "    SVC(random_state = 42),\n",
    "    DecisionTreeClassifier(),\n",
    "    RandomForestClassifier(n_jobs =-1),\n",
    "    LogisticRegression(n_jobs =-1),\n",
    "    MultinomialNB()]"
   ]
  },
  {
   "cell_type": "code",
   "execution_count": 169,
   "metadata": {},
   "outputs": [
    {
     "data": {
      "text/plain": [
       "0.9296511370184849"
      ]
     },
     "execution_count": 169,
     "metadata": {},
     "output_type": "execute_result"
    }
   ],
   "source": [
    "classifiers[5].fit(X_train, y_train)\n",
    "classifiers[5].score(X_valid, y_valid)"
   ]
  },
  {
   "cell_type": "code",
   "execution_count": 52,
   "metadata": {},
   "outputs": [
    {
     "data": {
      "text/plain": [
       "0.930626870082376"
      ]
     },
     "execution_count": 52,
     "metadata": {},
     "output_type": "execute_result"
    }
   ],
   "source": [
    "classifiers[5].fit(X_train, y_train)\n",
    "classifiers[5].score(X_valid, y_valid)"
   ]
  },
  {
   "cell_type": "code",
   "execution_count": 172,
   "metadata": {},
   "outputs": [
    {
     "data": {
      "image/png": "[encoded data removed]",
      "text/plain": [
       "<Figure size 432x288 with 2 Axes>"
      ]
     },
     "metadata": {
      "needs_background": "light"
     },
     "output_type": "display_data"
    }
   ],
   "source": [
    "y_predict = classifiers[5].predict(X_valid)\n",
    "accuracy_score(y_valid,y_predict)\n",
    "\n",
    "labels = [\"No\", \"Yes\"]\n",
    "y = ['No', 'Yes']\n",
    "sns.heatmap(\n",
    "    confusion_matrix(y_valid, y_predict),\n",
    "    annot=True,\n",
    "    fmt='d',\n",
    "    yticklabels=labels,\n",
    "    xticklabels=labels, \n",
    ")\n",
    "plt.ylabel('True Label')\n",
    "plt.xlabel('Predicted Label')\n",
    "score = accuracy_score(y_valid, y_predict) * 100\n",
    "plt.title(\"Best MNB model according to grid paramaters\\nAccuracy on validation set: {:.2f}%\".format(score))\n",
    "plt.show()"
   ]
  },
  {
   "cell_type": "code",
   "execution_count": 171,
   "metadata": {},
   "outputs": [
    {
     "data": {
      "text/plain": [
       "0.6757833244822092"
      ]
     },
     "execution_count": 171,
     "metadata": {},
     "output_type": "execute_result"
    }
   ],
   "source": [
    "y_predict = classifiers[5].predict(X_train)\n",
    "accuracy_score(y_train,y_predict)"
   ]
  },
  {
   "cell_type": "code",
   "execution_count": null,
   "metadata": {},
   "outputs": [],
   "source": []
  }
 ],
 "metadata": {
  "kernelspec": {
   "display_name": "Python 3",
   "language": "python",
   "name": "python3"
  },
  "language_info": {
   "codemirror_mode": {
    "name": "ipython",
    "version": 3
   },
   "file_extension": ".py",
   "mimetype": "text/x-python",
   "name": "python",
   "nbconvert_exporter": "python",
   "pygments_lexer": "ipython3",
   "version": "3.8.5"
  }
 },
 "nbformat": 4,
 "nbformat_minor": 4
}
